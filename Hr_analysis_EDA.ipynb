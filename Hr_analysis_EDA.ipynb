{
 "cells": [
  {
   "cell_type": "markdown",
   "metadata": {
    "id": "uU0Hvvy92VfI"
   },
   "source": [
    "# ✌"
   ]
  },
  {
   "cell_type": "code",
   "execution_count": 51,
   "metadata": {
    "id": "RgKYxTnUhjTc"
   },
   "outputs": [],
   "source": [
    "# importing modules\n",
    "import numpy as np\n",
    "import pandas as pd\n",
    "import matplotlib.pyplot as plt\n",
    "import seaborn as sns\n",
    "import warnings\n",
    "warnings.filterwarnings(\"ignore\")\n",
    "plt.rcParams['figure.figsize']=(7,7)"
   ]
  },
  {
   "cell_type": "code",
   "execution_count": 52,
   "metadata": {
    "id": "rn6_hy2miD1_"
   },
   "outputs": [],
   "source": [
    "# IMPORTING THE DATA WE CLEANED BEFORE\n",
    "df=pd.read_csv('../syed_analysis/Data/DS_CLEANa.csv')"
   ]
  },
  {
   "cell_type": "code",
   "execution_count": 53,
   "metadata": {
    "colab": {
     "base_uri": "https://localhost:8080/",
     "height": 699
    },
    "id": "utkwbe8eioZU",
    "outputId": "af7527a5-54eb-4076-c3ba-94c116b7c434"
   },
   "outputs": [
    {
     "data": {
      "text/html": [
       "<div>\n",
       "<style scoped>\n",
       "    .dataframe tbody tr th:only-of-type {\n",
       "        vertical-align: middle;\n",
       "    }\n",
       "\n",
       "    .dataframe tbody tr th {\n",
       "        vertical-align: top;\n",
       "    }\n",
       "\n",
       "    .dataframe thead th {\n",
       "        text-align: right;\n",
       "    }\n",
       "</style>\n",
       "<table border=\"1\" class=\"dataframe\">\n",
       "  <thead>\n",
       "    <tr style=\"text-align: right;\">\n",
       "      <th></th>\n",
       "      <th>Unnamed: 0</th>\n",
       "      <th>Area</th>\n",
       "      <th>Career Level</th>\n",
       "      <th>Company</th>\n",
       "      <th>Company Website</th>\n",
       "      <th>Data Source</th>\n",
       "      <th>Date Posted</th>\n",
       "      <th>Industry</th>\n",
       "      <th>Job Description</th>\n",
       "      <th>Job Functions</th>\n",
       "      <th>...</th>\n",
       "      <th>Job Title</th>\n",
       "      <th>Job Type</th>\n",
       "      <th>Qualification</th>\n",
       "      <th>Salary</th>\n",
       "      <th>Search Term</th>\n",
       "      <th>Total Entry Level Jobs</th>\n",
       "      <th>New Year Exp.</th>\n",
       "      <th>Years of Experience</th>\n",
       "      <th>Year</th>\n",
       "      <th>month</th>\n",
       "    </tr>\n",
       "  </thead>\n",
       "  <tbody>\n",
       "    <tr>\n",
       "      <th>0</th>\n",
       "      <td>0</td>\n",
       "      <td>Not Specified</td>\n",
       "      <td>Entry</td>\n",
       "      <td>EC Healthcare</td>\n",
       "      <td>Not Specified</td>\n",
       "      <td>JobsDB</td>\n",
       "      <td>2021-10-22</td>\n",
       "      <td>Health &amp; Beauty Care</td>\n",
       "      <td>['Job Descriptions:', 'Develop strategic KPIs ...</td>\n",
       "      <td>Information Technology (IT), DBA, E-commerce, ...</td>\n",
       "      <td>...</td>\n",
       "      <td>Business Analyst (Data Analysis)</td>\n",
       "      <td>Full Time, Permanent</td>\n",
       "      <td>Not Specified</td>\n",
       "      <td>Not Specified</td>\n",
       "      <td>Data Scientist</td>\n",
       "      <td>ENTRY LEVEL</td>\n",
       "      <td>1.0</td>\n",
       "      <td>1.0</td>\n",
       "      <td>2021</td>\n",
       "      <td>10</td>\n",
       "    </tr>\n",
       "    <tr>\n",
       "      <th>1</th>\n",
       "      <td>1</td>\n",
       "      <td>Not Specified</td>\n",
       "      <td>Senior</td>\n",
       "      <td>A4lution Limited</td>\n",
       "      <td>Not Specified</td>\n",
       "      <td>JobsDB</td>\n",
       "      <td>2021-10-22</td>\n",
       "      <td>Others</td>\n",
       "      <td>['Responsibilities:', 'Work closely with senio...</td>\n",
       "      <td>Information Technology (IT), Data Scientist</td>\n",
       "      <td>...</td>\n",
       "      <td>Data Analyst Leader</td>\n",
       "      <td>Full Time</td>\n",
       "      <td>Degree</td>\n",
       "      <td>Not Specified</td>\n",
       "      <td>Data Scientist</td>\n",
       "      <td>MID LEVEL</td>\n",
       "      <td>3.0</td>\n",
       "      <td>31.0</td>\n",
       "      <td>2021</td>\n",
       "      <td>10</td>\n",
       "    </tr>\n",
       "    <tr>\n",
       "      <th>2</th>\n",
       "      <td>2</td>\n",
       "      <td>Not Specified</td>\n",
       "      <td>Entry</td>\n",
       "      <td>now TV</td>\n",
       "      <td>http://www.pccw.com</td>\n",
       "      <td>JobsDB</td>\n",
       "      <td>2021-10-22</td>\n",
       "      <td>Telecommunication</td>\n",
       "      <td>['The Job:', 'Hands on experience in conductin...</td>\n",
       "      <td>Marketing / Public Relations, Others, Informat...</td>\n",
       "      <td>...</td>\n",
       "      <td>Data Analyst – Campaign Specialist</td>\n",
       "      <td>Full Time</td>\n",
       "      <td>Degree</td>\n",
       "      <td>Not Specified</td>\n",
       "      <td>Data Scientist</td>\n",
       "      <td>ENTRY LEVEL</td>\n",
       "      <td>1.0</td>\n",
       "      <td>1.0</td>\n",
       "      <td>2021</td>\n",
       "      <td>10</td>\n",
       "    </tr>\n",
       "    <tr>\n",
       "      <th>3</th>\n",
       "      <td>3</td>\n",
       "      <td>Not Specified</td>\n",
       "      <td>Entry</td>\n",
       "      <td>Deloitte Global Services Limited</td>\n",
       "      <td>http://www.deloitte.com</td>\n",
       "      <td>JobsDB</td>\n",
       "      <td>2021-10-21</td>\n",
       "      <td>Accounting/Audit/Tax Services</td>\n",
       "      <td>['About Technology', 'Deloitte Digital is a bo...</td>\n",
       "      <td>Professional Services, Business Analysis / Dat...</td>\n",
       "      <td>...</td>\n",
       "      <td>Consultant / Senior Consultant - Data Scientis...</td>\n",
       "      <td>Full Time</td>\n",
       "      <td>Degree</td>\n",
       "      <td>Not Specified</td>\n",
       "      <td>Data Scientist</td>\n",
       "      <td>ENTRY LEVEL</td>\n",
       "      <td>2.0</td>\n",
       "      <td>2.0</td>\n",
       "      <td>2021</td>\n",
       "      <td>10</td>\n",
       "    </tr>\n",
       "    <tr>\n",
       "      <th>4</th>\n",
       "      <td>4</td>\n",
       "      <td>Not Specified</td>\n",
       "      <td>Entry</td>\n",
       "      <td>Lloyd Karson International Limited</td>\n",
       "      <td>Not Specified</td>\n",
       "      <td>JobsDB</td>\n",
       "      <td>2021-10-22</td>\n",
       "      <td>Human Resources Management/Consultancy</td>\n",
       "      <td>['The client is a global prestigious MNC Insur...</td>\n",
       "      <td>Professional Services, Business Analysis / Dat...</td>\n",
       "      <td>...</td>\n",
       "      <td>Business Intelligence Assistant / Data Analyst...</td>\n",
       "      <td>Full Time, Permanent</td>\n",
       "      <td>Degree</td>\n",
       "      <td>HK$17K - 25K /month</td>\n",
       "      <td>Data Scientist</td>\n",
       "      <td>ENTRY LEVEL</td>\n",
       "      <td>1.0</td>\n",
       "      <td>1.0</td>\n",
       "      <td>2021</td>\n",
       "      <td>10</td>\n",
       "    </tr>\n",
       "  </tbody>\n",
       "</table>\n",
       "<p>5 rows × 22 columns</p>\n",
       "</div>"
      ],
      "text/plain": [
       "   Unnamed: 0           Area Career Level                             Company  \\\n",
       "0           0  Not Specified        Entry                       EC Healthcare   \n",
       "1           1  Not Specified       Senior                    A4lution Limited   \n",
       "2           2  Not Specified        Entry                              now TV   \n",
       "3           3  Not Specified        Entry    Deloitte Global Services Limited   \n",
       "4           4  Not Specified        Entry  Lloyd Karson International Limited   \n",
       "\n",
       "           Company Website Data Source Date Posted  \\\n",
       "0            Not Specified      JobsDB  2021-10-22   \n",
       "1            Not Specified      JobsDB  2021-10-22   \n",
       "2      http://www.pccw.com      JobsDB  2021-10-22   \n",
       "3  http://www.deloitte.com      JobsDB  2021-10-21   \n",
       "4            Not Specified      JobsDB  2021-10-22   \n",
       "\n",
       "                                 Industry  \\\n",
       "0                    Health & Beauty Care   \n",
       "1                                  Others   \n",
       "2                       Telecommunication   \n",
       "3           Accounting/Audit/Tax Services   \n",
       "4  Human Resources Management/Consultancy   \n",
       "\n",
       "                                     Job Description  \\\n",
       "0  ['Job Descriptions:', 'Develop strategic KPIs ...   \n",
       "1  ['Responsibilities:', 'Work closely with senio...   \n",
       "2  ['The Job:', 'Hands on experience in conductin...   \n",
       "3  ['About Technology', 'Deloitte Digital is a bo...   \n",
       "4  ['The client is a global prestigious MNC Insur...   \n",
       "\n",
       "                                       Job Functions  ...  \\\n",
       "0  Information Technology (IT), DBA, E-commerce, ...  ...   \n",
       "1        Information Technology (IT), Data Scientist  ...   \n",
       "2  Marketing / Public Relations, Others, Informat...  ...   \n",
       "3  Professional Services, Business Analysis / Dat...  ...   \n",
       "4  Professional Services, Business Analysis / Dat...  ...   \n",
       "\n",
       "                                           Job Title              Job Type  \\\n",
       "0                   Business Analyst (Data Analysis)  Full Time, Permanent   \n",
       "1                                Data Analyst Leader             Full Time   \n",
       "2                 Data Analyst – Campaign Specialist             Full Time   \n",
       "3  Consultant / Senior Consultant - Data Scientis...             Full Time   \n",
       "4  Business Intelligence Assistant / Data Analyst...  Full Time, Permanent   \n",
       "\n",
       "   Qualification                Salary     Search Term Total Entry Level Jobs  \\\n",
       "0  Not Specified         Not Specified  Data Scientist            ENTRY LEVEL   \n",
       "1         Degree         Not Specified  Data Scientist              MID LEVEL   \n",
       "2         Degree         Not Specified  Data Scientist            ENTRY LEVEL   \n",
       "3         Degree         Not Specified  Data Scientist            ENTRY LEVEL   \n",
       "4         Degree  HK$17K - 25K /month   Data Scientist            ENTRY LEVEL   \n",
       "\n",
       "  New Year Exp. Years of Experience  Year  month  \n",
       "0           1.0                 1.0  2021     10  \n",
       "1           3.0                31.0  2021     10  \n",
       "2           1.0                 1.0  2021     10  \n",
       "3           2.0                 2.0  2021     10  \n",
       "4           1.0                 1.0  2021     10  \n",
       "\n",
       "[5 rows x 22 columns]"
      ]
     },
     "execution_count": 53,
     "metadata": {},
     "output_type": "execute_result"
    }
   ],
   "source": [
    "# checking the first 5 records in DataFrame\n",
    "df.head()"
   ]
  },
  {
   "cell_type": "code",
   "execution_count": 54,
   "metadata": {
    "colab": {
     "base_uri": "https://localhost:8080/"
    },
    "id": "PKSEsKHBjXQx",
    "outputId": "72e7e3e2-6e6d-47e6-86c0-035092a20ce8"
   },
   "outputs": [
    {
     "data": {
      "text/plain": [
       "Unnamed: 0                0\n",
       "Area                      0\n",
       "Career Level              0\n",
       "Company                   0\n",
       "Company Website           0\n",
       "Data Source               0\n",
       "Date Posted               0\n",
       "Industry                  0\n",
       "Job Description           0\n",
       "Job Functions             0\n",
       "Job Highlights            0\n",
       "Job Link                  0\n",
       "Job Title                 0\n",
       "Job Type                  0\n",
       "Qualification             0\n",
       "Salary                    0\n",
       "Search Term               0\n",
       "Total Entry Level Jobs    0\n",
       "New Year Exp.             0\n",
       "Years of Experience       0\n",
       "Year                      0\n",
       "month                     0\n",
       "dtype: int64"
      ]
     },
     "execution_count": 54,
     "metadata": {},
     "output_type": "execute_result"
    }
   ],
   "source": [
    "#checking for misiing values\n",
    "df.isnull().sum()\n",
    "# there is no null values"
   ]
  },
  {
   "cell_type": "markdown",
   "metadata": {
    "id": "RgmyNbfmjjHB"
   },
   "source": [
    "# Univarient analysis\n"
   ]
  },
  {
   "cell_type": "code",
   "execution_count": 55,
   "metadata": {
    "colab": {
     "base_uri": "https://localhost:8080/"
    },
    "id": "uBukTisDjbyd",
    "outputId": "aa9d7b51-c641-4b4c-b8e3-b5277441a221"
   },
   "outputs": [
    {
     "data": {
      "text/plain": [
       "Not Specified              3115\n",
       " -                           41\n",
       " Kowloon Bay                  7\n",
       " Quarry Bay                   4\n",
       " Lantau                       4\n",
       " Wanchai                      3\n",
       " Kwun Tong                    3\n",
       " Pokfulam                     3\n",
       " Shatin                       3\n",
       " Kwai Hing                    3\n",
       " Hunghom                      2\n",
       " North Point                  2\n",
       " Wong Tai Sin                 2\n",
       " Ngau Tau Kok                 2\n",
       " Sheung Wan                   2\n",
       " Tai Kok Tsui                 2\n",
       " Wong Chuk Hang               1\n",
       " Causeway Bay                 1\n",
       " Tsimshatsui                  1\n",
       " Hong Kong Science Park       1\n",
       " United Kingdom               1\n",
       " Mongkok                      1\n",
       " 2 Locations                  1\n",
       " Tin Hau                      1\n",
       " Cheung Sha Wan               1\n",
       " Kwai Fong                    1\n",
       " Central                      1\n",
       " Fotan                        1\n",
       " Admiralty                    1\n",
       "Name: Area, dtype: int64"
      ]
     },
     "execution_count": 55,
     "metadata": {},
     "output_type": "execute_result"
    }
   ],
   "source": [
    "# Lets start EDA\n",
    "df['Area'].value_counts()\n",
    "# Not Specified and '-' is high "
   ]
  },
  {
   "cell_type": "code",
   "execution_count": 56,
   "metadata": {
    "colab": {
     "base_uri": "https://localhost:8080/",
     "height": 530
    },
    "id": "v7WiXLytjyIo",
    "outputId": "f1113d73-7488-47d3-c89c-e3a1ab52c63f"
   },
   "outputs": [
    {
     "data": {
      "text/plain": [
       "Text(0, 0.5, 'Number of Career level')"
      ]
     },
     "execution_count": 56,
     "metadata": {},
     "output_type": "execute_result"
    },
    {
     "data": {
      "image/png": "[encoded data removed]",
      "text/plain": [
       "<Figure size 576x576 with 1 Axes>"
      ]
     },
     "metadata": {},
     "output_type": "display_data"
    }
   ],
   "source": [
    "# Univarient analysis of Career level\n",
    "plt.figure(figsize=(8,8)) # setting the width and hight\n",
    "ax=sns.set_style('darkgrid') # setting the  grid style \n",
    "ax=sns.histplot(df['Career Level'],color='r').set_title('Univarient analysis of Career level')\n",
    "plt.ylabel('Number of Career level')\n"
   ]
  },
  {
   "cell_type": "code",
   "execution_count": 57,
   "metadata": {
    "colab": {
     "base_uri": "https://localhost:8080/",
     "height": 490
    },
    "id": "9MC8UwqWkcml",
    "outputId": "87f87292-aeb3-4d01-c7c8-2c33cbd5fa60"
   },
   "outputs": [
    {
     "name": "stdout",
     "output_type": "stream",
     "text": [
      "unique company providing jobs: 1232\n",
      "Number of  job providing  by company:\n"
     ]
    },
    {
     "data": {
      "text/html": [
       "<div>\n",
       "<style scoped>\n",
       "    .dataframe tbody tr th:only-of-type {\n",
       "        vertical-align: middle;\n",
       "    }\n",
       "\n",
       "    .dataframe tbody tr th {\n",
       "        vertical-align: top;\n",
       "    }\n",
       "\n",
       "    .dataframe thead th {\n",
       "        text-align: right;\n",
       "    }\n",
       "</style>\n",
       "<table border=\"1\" class=\"dataframe\">\n",
       "  <thead>\n",
       "    <tr style=\"text-align: right;\">\n",
       "      <th></th>\n",
       "      <th>Job Title</th>\n",
       "    </tr>\n",
       "    <tr>\n",
       "      <th>Company</th>\n",
       "      <th></th>\n",
       "    </tr>\n",
       "  </thead>\n",
       "  <tbody>\n",
       "    <tr>\n",
       "      <th>IT Solutions Limited.</th>\n",
       "      <td>43</td>\n",
       "    </tr>\n",
       "    <tr>\n",
       "      <th>Robert Walters (HK)</th>\n",
       "      <td>40</td>\n",
       "    </tr>\n",
       "    <tr>\n",
       "      <th>Hong Kong Applied Science and Technology Research Institute Company Limited (ASTRI)</th>\n",
       "      <td>37</td>\n",
       "    </tr>\n",
       "    <tr>\n",
       "      <th>Manpower Services (Hong Kong) Limited</th>\n",
       "      <td>31</td>\n",
       "    </tr>\n",
       "    <tr>\n",
       "      <th>Pinpoint Asia Limited</th>\n",
       "      <td>29</td>\n",
       "    </tr>\n",
       "    <tr>\n",
       "      <th>...</th>\n",
       "      <td>...</td>\n",
       "    </tr>\n",
       "    <tr>\n",
       "      <th>Micepad Limited</th>\n",
       "      <td>1</td>\n",
       "    </tr>\n",
       "    <tr>\n",
       "      <th>Metron Hong Kong Limited</th>\n",
       "      <td>1</td>\n",
       "    </tr>\n",
       "    <tr>\n",
       "      <th>Medmind Technology Limited</th>\n",
       "      <td>1</td>\n",
       "    </tr>\n",
       "    <tr>\n",
       "      <th>McQueen &amp; Pitt Consultants Limited</th>\n",
       "      <td>1</td>\n",
       "    </tr>\n",
       "    <tr>\n",
       "      <th>01River Limited</th>\n",
       "      <td>1</td>\n",
       "    </tr>\n",
       "  </tbody>\n",
       "</table>\n",
       "<p>1232 rows × 1 columns</p>\n",
       "</div>"
      ],
      "text/plain": [
       "                                                    Job Title\n",
       "Company                                                      \n",
       "IT Solutions Limited.                                      43\n",
       "Robert Walters (HK)                                        40\n",
       "Hong Kong Applied Science and Technology Resear...         37\n",
       "Manpower Services (Hong Kong) Limited                      31\n",
       "Pinpoint Asia Limited                                      29\n",
       "...                                                       ...\n",
       "Micepad Limited                                             1\n",
       "Metron Hong Kong Limited                                    1\n",
       "Medmind Technology Limited                                  1\n",
       "McQueen & Pitt Consultants Limited                          1\n",
       "01River Limited                                             1\n",
       "\n",
       "[1232 rows x 1 columns]"
      ]
     },
     "execution_count": 57,
     "metadata": {},
     "output_type": "execute_result"
    }
   ],
   "source": [
    "# Company\n",
    "print(\"unique company providing jobs:\",len(df['Company'].unique())) # unique company\n",
    "print(\"Number of  job providing  by company:\")\n",
    "pd.DataFrame(df.groupby('Company')['Job Title'].count().sort_values(ascending=False))"
   ]
  },
  {
   "cell_type": "code",
   "execution_count": 58,
   "metadata": {
    "colab": {
     "base_uri": "https://localhost:8080/",
     "height": 990
    },
    "id": "fckCXRkPla4b",
    "outputId": "4b3b791d-1e00-4fc5-9675-1bcae8b9ac7c"
   },
   "outputs": [
    {
     "data": {
      "text/html": [
       "<div>\n",
       "<style scoped>\n",
       "    .dataframe tbody tr th:only-of-type {\n",
       "        vertical-align: middle;\n",
       "    }\n",
       "\n",
       "    .dataframe tbody tr th {\n",
       "        vertical-align: top;\n",
       "    }\n",
       "\n",
       "    .dataframe thead th {\n",
       "        text-align: right;\n",
       "    }\n",
       "</style>\n",
       "<table border=\"1\" class=\"dataframe\">\n",
       "  <thead>\n",
       "    <tr style=\"text-align: right;\">\n",
       "      <th></th>\n",
       "      <th>index</th>\n",
       "      <th>Date Posted</th>\n",
       "    </tr>\n",
       "  </thead>\n",
       "  <tbody>\n",
       "    <tr>\n",
       "      <th>0</th>\n",
       "      <td>2021-10-22</td>\n",
       "      <td>278</td>\n",
       "    </tr>\n",
       "    <tr>\n",
       "      <th>3</th>\n",
       "      <td>2021-10-21</td>\n",
       "      <td>194</td>\n",
       "    </tr>\n",
       "    <tr>\n",
       "      <th>4</th>\n",
       "      <td>2021-10-20</td>\n",
       "      <td>192</td>\n",
       "    </tr>\n",
       "    <tr>\n",
       "      <th>2</th>\n",
       "      <td>2021-10-19</td>\n",
       "      <td>209</td>\n",
       "    </tr>\n",
       "    <tr>\n",
       "      <th>1</th>\n",
       "      <td>2021-10-18</td>\n",
       "      <td>225</td>\n",
       "    </tr>\n",
       "    <tr>\n",
       "      <th>24</th>\n",
       "      <td>2021-10-17</td>\n",
       "      <td>18</td>\n",
       "    </tr>\n",
       "    <tr>\n",
       "      <th>21</th>\n",
       "      <td>2021-10-16</td>\n",
       "      <td>44</td>\n",
       "    </tr>\n",
       "    <tr>\n",
       "      <th>6</th>\n",
       "      <td>2021-10-15</td>\n",
       "      <td>178</td>\n",
       "    </tr>\n",
       "    <tr>\n",
       "      <th>25</th>\n",
       "      <td>2021-10-14</td>\n",
       "      <td>18</td>\n",
       "    </tr>\n",
       "    <tr>\n",
       "      <th>17</th>\n",
       "      <td>2021-10-13</td>\n",
       "      <td>90</td>\n",
       "    </tr>\n",
       "    <tr>\n",
       "      <th>9</th>\n",
       "      <td>2021-10-12</td>\n",
       "      <td>155</td>\n",
       "    </tr>\n",
       "    <tr>\n",
       "      <th>5</th>\n",
       "      <td>2021-10-11</td>\n",
       "      <td>180</td>\n",
       "    </tr>\n",
       "    <tr>\n",
       "      <th>28</th>\n",
       "      <td>2021-10-10</td>\n",
       "      <td>6</td>\n",
       "    </tr>\n",
       "    <tr>\n",
       "      <th>20</th>\n",
       "      <td>2021-10-09</td>\n",
       "      <td>45</td>\n",
       "    </tr>\n",
       "    <tr>\n",
       "      <th>7</th>\n",
       "      <td>2021-10-08</td>\n",
       "      <td>164</td>\n",
       "    </tr>\n",
       "    <tr>\n",
       "      <th>15</th>\n",
       "      <td>2021-10-07</td>\n",
       "      <td>101</td>\n",
       "    </tr>\n",
       "    <tr>\n",
       "      <th>11</th>\n",
       "      <td>2021-10-06</td>\n",
       "      <td>138</td>\n",
       "    </tr>\n",
       "    <tr>\n",
       "      <th>10</th>\n",
       "      <td>2021-10-05</td>\n",
       "      <td>140</td>\n",
       "    </tr>\n",
       "    <tr>\n",
       "      <th>8</th>\n",
       "      <td>2021-10-04</td>\n",
       "      <td>161</td>\n",
       "    </tr>\n",
       "    <tr>\n",
       "      <th>29</th>\n",
       "      <td>2021-10-03</td>\n",
       "      <td>5</td>\n",
       "    </tr>\n",
       "    <tr>\n",
       "      <th>23</th>\n",
       "      <td>2021-10-02</td>\n",
       "      <td>20</td>\n",
       "    </tr>\n",
       "    <tr>\n",
       "      <th>26</th>\n",
       "      <td>2021-10-01</td>\n",
       "      <td>14</td>\n",
       "    </tr>\n",
       "    <tr>\n",
       "      <th>12</th>\n",
       "      <td>2021-09-30</td>\n",
       "      <td>122</td>\n",
       "    </tr>\n",
       "    <tr>\n",
       "      <th>13</th>\n",
       "      <td>2021-09-29</td>\n",
       "      <td>107</td>\n",
       "    </tr>\n",
       "    <tr>\n",
       "      <th>14</th>\n",
       "      <td>2021-09-28</td>\n",
       "      <td>107</td>\n",
       "    </tr>\n",
       "    <tr>\n",
       "      <th>18</th>\n",
       "      <td>2021-09-27</td>\n",
       "      <td>89</td>\n",
       "    </tr>\n",
       "    <tr>\n",
       "      <th>27</th>\n",
       "      <td>2021-09-26</td>\n",
       "      <td>6</td>\n",
       "    </tr>\n",
       "    <tr>\n",
       "      <th>22</th>\n",
       "      <td>2021-09-25</td>\n",
       "      <td>23</td>\n",
       "    </tr>\n",
       "    <tr>\n",
       "      <th>16</th>\n",
       "      <td>2021-09-24</td>\n",
       "      <td>97</td>\n",
       "    </tr>\n",
       "    <tr>\n",
       "      <th>19</th>\n",
       "      <td>2021-09-23</td>\n",
       "      <td>85</td>\n",
       "    </tr>\n",
       "  </tbody>\n",
       "</table>\n",
       "</div>"
      ],
      "text/plain": [
       "         index  Date Posted\n",
       "0   2021-10-22          278\n",
       "3   2021-10-21          194\n",
       "4   2021-10-20          192\n",
       "2   2021-10-19          209\n",
       "1   2021-10-18          225\n",
       "24  2021-10-17           18\n",
       "21  2021-10-16           44\n",
       "6   2021-10-15          178\n",
       "25  2021-10-14           18\n",
       "17  2021-10-13           90\n",
       "9   2021-10-12          155\n",
       "5   2021-10-11          180\n",
       "28  2021-10-10            6\n",
       "20  2021-10-09           45\n",
       "7   2021-10-08          164\n",
       "15  2021-10-07          101\n",
       "11  2021-10-06          138\n",
       "10  2021-10-05          140\n",
       "8   2021-10-04          161\n",
       "29  2021-10-03            5\n",
       "23  2021-10-02           20\n",
       "26  2021-10-01           14\n",
       "12  2021-09-30          122\n",
       "13  2021-09-29          107\n",
       "14  2021-09-28          107\n",
       "18  2021-09-27           89\n",
       "27  2021-09-26            6\n",
       "22  2021-09-25           23\n",
       "16  2021-09-24           97\n",
       "19  2021-09-23           85"
      ]
     },
     "execution_count": 58,
     "metadata": {},
     "output_type": "execute_result"
    }
   ],
   "source": [
    "# Date Posted\tcolumn\n",
    "df['Date Posted'].value_counts().reset_index().sort_values(by='index',ascending=False) "
   ]
  },
  {
   "cell_type": "markdown",
   "metadata": {
    "id": "_f--zU-QnGJ-"
   },
   "source": [
    "Starting Date 2021-09-23\t\n",
    "Ending Date \t2021-10-22\n",
    "\n",
    "\n"
   ]
  },
  {
   "cell_type": "code",
   "execution_count": 59,
   "metadata": {
    "colab": {
     "base_uri": "https://localhost:8080/",
     "height": 206
    },
    "id": "Grsq4-TUmniZ",
    "outputId": "f4cbc3cf-5084-45b2-cf43-8e6153fc2bfa"
   },
   "outputs": [
    {
     "data": {
      "text/html": [
       "<div>\n",
       "<style scoped>\n",
       "    .dataframe tbody tr th:only-of-type {\n",
       "        vertical-align: middle;\n",
       "    }\n",
       "\n",
       "    .dataframe tbody tr th {\n",
       "        vertical-align: top;\n",
       "    }\n",
       "\n",
       "    .dataframe thead th {\n",
       "        text-align: right;\n",
       "    }\n",
       "</style>\n",
       "<table border=\"1\" class=\"dataframe\">\n",
       "  <thead>\n",
       "    <tr style=\"text-align: right;\">\n",
       "      <th></th>\n",
       "      <th>index</th>\n",
       "      <th>Industry</th>\n",
       "    </tr>\n",
       "  </thead>\n",
       "  <tbody>\n",
       "    <tr>\n",
       "      <th>0</th>\n",
       "      <td>Human Resources Management/Consultancy</td>\n",
       "      <td>777</td>\n",
       "    </tr>\n",
       "    <tr>\n",
       "      <th>1</th>\n",
       "      <td>Information Technology</td>\n",
       "      <td>757</td>\n",
       "    </tr>\n",
       "    <tr>\n",
       "      <th>2</th>\n",
       "      <td>Financial Services</td>\n",
       "      <td>327</td>\n",
       "    </tr>\n",
       "    <tr>\n",
       "      <th>3</th>\n",
       "      <td>Telecommunication</td>\n",
       "      <td>194</td>\n",
       "    </tr>\n",
       "    <tr>\n",
       "      <th>4</th>\n",
       "      <td>Others</td>\n",
       "      <td>109</td>\n",
       "    </tr>\n",
       "  </tbody>\n",
       "</table>\n",
       "</div>"
      ],
      "text/plain": [
       "                                    index  Industry\n",
       "0  Human Resources Management/Consultancy       777\n",
       "1                  Information Technology       757\n",
       "2                      Financial Services       327\n",
       "3                       Telecommunication       194\n",
       "4                                  Others       109"
      ]
     },
     "execution_count": 59,
     "metadata": {},
     "output_type": "execute_result"
    }
   ],
   "source": [
    "# Industry\n",
    "\n",
    "Industry_=df['Industry'].value_counts().head().reset_index()\n",
    "Industry_"
   ]
  },
  {
   "cell_type": "markdown",
   "metadata": {
    "id": "XuFZfjh6zvSe"
   },
   "source": [
    "The company 'Human Resources Management/Consultancy' provide many jobs\n",
    "Check the visualisation below\n"
   ]
  },
  {
   "cell_type": "code",
   "execution_count": 60,
   "metadata": {
    "colab": {
     "base_uri": "https://localhost:8080/",
     "height": 530
    },
    "id": "muD-OeopnS2W",
    "outputId": "c754f692-4478-4874-ac39-9ababdacf8df"
   },
   "outputs": [
    {
     "data": {
      "text/plain": [
       "Text(0, 0.5, 'Industry Names')"
      ]
     },
     "execution_count": 60,
     "metadata": {},
     "output_type": "execute_result"
    },
    {
     "data": {
      "image/png": "[encoded data removed]",
      "text/plain": [
       "<Figure size 720x576 with 1 Axes>"
      ]
     },
     "metadata": {},
     "output_type": "display_data"
    }
   ],
   "source": [
    "plt.figure(figsize=(10,8))\n",
    "sns.set_style('darkgrid')\n",
    "sns.barplot(y='index',x='Industry',data=Industry_,palette=\"bright\").set_title('TOP  5 analysis of Industry')\n",
    "plt.xlabel('Number of Industry')\n",
    "plt.ylabel('Industry Names')\n"
   ]
  },
  {
   "cell_type": "code",
   "execution_count": 61,
   "metadata": {
    "colab": {
     "base_uri": "https://localhost:8080/",
     "height": 424
    },
    "id": "zVzWxjy0nuFq",
    "outputId": "7d4ec25c-92ac-4248-b1e7-9842a5cb1d28"
   },
   "outputs": [
    {
     "data": {
      "text/html": [
       "<div>\n",
       "<style scoped>\n",
       "    .dataframe tbody tr th:only-of-type {\n",
       "        vertical-align: middle;\n",
       "    }\n",
       "\n",
       "    .dataframe tbody tr th {\n",
       "        vertical-align: top;\n",
       "    }\n",
       "\n",
       "    .dataframe thead th {\n",
       "        text-align: right;\n",
       "    }\n",
       "</style>\n",
       "<table border=\"1\" class=\"dataframe\">\n",
       "  <thead>\n",
       "    <tr style=\"text-align: right;\">\n",
       "      <th></th>\n",
       "      <th>index</th>\n",
       "      <th>Job Description</th>\n",
       "    </tr>\n",
       "  </thead>\n",
       "  <tbody>\n",
       "    <tr>\n",
       "      <th>0</th>\n",
       "      <td>Not Specified</td>\n",
       "      <td>96</td>\n",
       "    </tr>\n",
       "    <tr>\n",
       "      <th>1</th>\n",
       "      <td>['\\xa0', 'Come and join a Winning Team', '\\xa0...</td>\n",
       "      <td>7</td>\n",
       "    </tr>\n",
       "    <tr>\n",
       "      <th>2</th>\n",
       "      <td>['WeLab is a leading fintech company in Asia, ...</td>\n",
       "      <td>5</td>\n",
       "    </tr>\n",
       "    <tr>\n",
       "      <th>3</th>\n",
       "      <td>['Job Duties', 'He / She will be responsible f...</td>\n",
       "      <td>5</td>\n",
       "    </tr>\n",
       "    <tr>\n",
       "      <th>4</th>\n",
       "      <td>['Summary', 'The successful candidate will par...</td>\n",
       "      <td>4</td>\n",
       "    </tr>\n",
       "    <tr>\n",
       "      <th>...</th>\n",
       "      <td>...</td>\n",
       "      <td>...</td>\n",
       "    </tr>\n",
       "    <tr>\n",
       "      <th>3038</th>\n",
       "      <td>['As digital threats to business become more s...</td>\n",
       "      <td>1</td>\n",
       "    </tr>\n",
       "    <tr>\n",
       "      <th>3039</th>\n",
       "      <td>['The incumbents will join our research and de...</td>\n",
       "      <td>1</td>\n",
       "    </tr>\n",
       "    <tr>\n",
       "      <th>3040</th>\n",
       "      <td>['Responsibilities', 'Design and implement dat...</td>\n",
       "      <td>1</td>\n",
       "    </tr>\n",
       "    <tr>\n",
       "      <th>3041</th>\n",
       "      <td>['Responsibilities', ':', 'To support the eDMS...</td>\n",
       "      <td>1</td>\n",
       "    </tr>\n",
       "    <tr>\n",
       "      <th>3042</th>\n",
       "      <td>['Responsibilities:', 'Administer and coordina...</td>\n",
       "      <td>1</td>\n",
       "    </tr>\n",
       "  </tbody>\n",
       "</table>\n",
       "<p>3043 rows × 2 columns</p>\n",
       "</div>"
      ],
      "text/plain": [
       "                                                  index  Job Description\n",
       "0                                         Not Specified               96\n",
       "1     ['\\xa0', 'Come and join a Winning Team', '\\xa0...                7\n",
       "2     ['WeLab is a leading fintech company in Asia, ...                5\n",
       "3     ['Job Duties', 'He / She will be responsible f...                5\n",
       "4     ['Summary', 'The successful candidate will par...                4\n",
       "...                                                 ...              ...\n",
       "3038  ['As digital threats to business become more s...                1\n",
       "3039  ['The incumbents will join our research and de...                1\n",
       "3040  ['Responsibilities', 'Design and implement dat...                1\n",
       "3041  ['Responsibilities', ':', 'To support the eDMS...                1\n",
       "3042  ['Responsibilities:', 'Administer and coordina...                1\n",
       "\n",
       "[3043 rows x 2 columns]"
      ]
     },
     "execution_count": 61,
     "metadata": {},
     "output_type": "execute_result"
    }
   ],
   "source": [
    "# Job Description\n",
    "df['Job Description'].value_counts().reset_index()"
   ]
  },
  {
   "cell_type": "markdown",
   "metadata": {
    "id": "rFS6O3boz_7C"
   },
   "source": [
    "Many company not specified the Description it may cases the un wanted application and consume the time"
   ]
  },
  {
   "cell_type": "code",
   "execution_count": 62,
   "metadata": {
    "id": "nD6oYlFbpB07"
   },
   "outputs": [],
   "source": [
    "# Job Title\n",
    "jtitle_=df['Job Title'].value_counts().head().reset_index()"
   ]
  },
  {
   "cell_type": "code",
   "execution_count": 63,
   "metadata": {
    "colab": {
     "base_uri": "https://localhost:8080/",
     "height": 530
    },
    "id": "AxbzFDk-pi64",
    "outputId": "9192f2aa-2bbe-4c80-875f-225b80d4f215"
   },
   "outputs": [
    {
     "data": {
      "text/plain": [
       "Text(0, 0.5, 'Job Title Names')"
      ]
     },
     "execution_count": 63,
     "metadata": {},
     "output_type": "execute_result"
    },
    {
     "data": {
      "image/png": "[encoded data removed]",
      "text/plain": [
       "<Figure size 720x576 with 1 Axes>"
      ]
     },
     "metadata": {},
     "output_type": "display_data"
    }
   ],
   "source": [
    "plt.figure(figsize=(10,8))\n",
    "sns.set_style('darkgrid')\n",
    "sns.barplot(y='index',x='Job Title',data=jtitle_,palette=\"bright\").set_title('TOP  5 analysis of Job Title')\n",
    "plt.xlabel('Number of Job Title')\n",
    "plt.ylabel('Job Title Names')"
   ]
  },
  {
   "cell_type": "markdown",
   "metadata": {
    "id": "6-BOhFwH0am-"
   },
   "source": [
    "Increasing tech adoption across industries and entirely tech-enabled sectors such as eCommerce/Internet, and BFSI, has led to a growing demand for data science professionals. With 18,712 jobs advertised in the market in 2022  BY-GOOGLE\n",
    "\n",
    "\n",
    ">  Increasing in Data Jobs we can see the Business Analyst and other Data jobs have got top 5 titles\n",
    "\n",
    "\n"
   ]
  },
  {
   "cell_type": "code",
   "execution_count": 64,
   "metadata": {
    "colab": {
     "base_uri": "https://localhost:8080/",
     "height": 206
    },
    "id": "LY4baiFhqbqz",
    "outputId": "81c6e562-df25-4708-9095-b37cd0ed30ca"
   },
   "outputs": [
    {
     "data": {
      "text/html": [
       "<div>\n",
       "<style scoped>\n",
       "    .dataframe tbody tr th:only-of-type {\n",
       "        vertical-align: middle;\n",
       "    }\n",
       "\n",
       "    .dataframe tbody tr th {\n",
       "        vertical-align: top;\n",
       "    }\n",
       "\n",
       "    .dataframe thead th {\n",
       "        text-align: right;\n",
       "    }\n",
       "</style>\n",
       "<table border=\"1\" class=\"dataframe\">\n",
       "  <thead>\n",
       "    <tr style=\"text-align: right;\">\n",
       "      <th></th>\n",
       "      <th>index</th>\n",
       "      <th>Job Type</th>\n",
       "    </tr>\n",
       "  </thead>\n",
       "  <tbody>\n",
       "    <tr>\n",
       "      <th>0</th>\n",
       "      <td>Full Time, Permanent</td>\n",
       "      <td>1822</td>\n",
       "    </tr>\n",
       "    <tr>\n",
       "      <th>1</th>\n",
       "      <td>Full Time</td>\n",
       "      <td>786</td>\n",
       "    </tr>\n",
       "    <tr>\n",
       "      <th>2</th>\n",
       "      <td>Full Time, Contract</td>\n",
       "      <td>268</td>\n",
       "    </tr>\n",
       "    <tr>\n",
       "      <th>3</th>\n",
       "      <td>Not Specified</td>\n",
       "      <td>96</td>\n",
       "    </tr>\n",
       "    <tr>\n",
       "      <th>4</th>\n",
       "      <td>Permanent</td>\n",
       "      <td>56</td>\n",
       "    </tr>\n",
       "  </tbody>\n",
       "</table>\n",
       "</div>"
      ],
      "text/plain": [
       "                  index  Job Type\n",
       "0  Full Time, Permanent      1822\n",
       "1             Full Time       786\n",
       "2   Full Time, Contract       268\n",
       "3         Not Specified        96\n",
       "4             Permanent        56"
      ]
     },
     "execution_count": 64,
     "metadata": {},
     "output_type": "execute_result"
    }
   ],
   "source": [
    "# Job Type\n",
    "Jtyped=df['Job Type'].value_counts().head().reset_index()\n",
    "Jtyped"
   ]
  },
  {
   "cell_type": "markdown",
   "metadata": {
    "id": "to-mHKNp1FVm"
   },
   "source": [
    "\n",
    "\n",
    "> Full Time, Permanent Have 1822 jobs Because many company need permanent employee who will be experienced and help for the organisation growth\n",
    "\n"
   ]
  },
  {
   "cell_type": "code",
   "execution_count": 65,
   "metadata": {
    "colab": {
     "base_uri": "https://localhost:8080/",
     "height": 530
    },
    "id": "0zerIIcdqp9Q",
    "outputId": "80871cfa-6cca-4845-9ee4-b7329b594d20"
   },
   "outputs": [
    {
     "data": {
      "text/plain": [
       "Text(0.5, 0, 'Job Type Names')"
      ]
     },
     "execution_count": 65,
     "metadata": {},
     "output_type": "execute_result"
    },
    {
     "data": {
      "image/png": "[encoded data removed]",
      "text/plain": [
       "<Figure size 720x576 with 1 Axes>"
      ]
     },
     "metadata": {},
     "output_type": "display_data"
    }
   ],
   "source": [
    "plt.figure(figsize=(10,8))\n",
    "sns.set_style('darkgrid')\n",
    "sns.barplot(x='index',y='Job Type',data=Jtyped,palette=\"bright\").set_title('TOP  5 analysis of Job Type')\n",
    "plt.ylabel('Number of Job Type')\n",
    "plt.xlabel('Job Type Names')"
   ]
  },
  {
   "cell_type": "code",
   "execution_count": 66,
   "metadata": {
    "colab": {
     "base_uri": "https://localhost:8080/",
     "height": 584
    },
    "id": "Uaa6lgpZq1pE",
    "outputId": "f0f79ba3-eecd-499c-db59-d8168e3d8b21"
   },
   "outputs": [
    {
     "data": {
      "text/plain": [
       "Text(0.5, 1.0, 'The analysis of Qualification')"
      ]
     },
     "execution_count": 66,
     "metadata": {},
     "output_type": "execute_result"
    },
    {
     "data": {
      "image/png": "[encoded data removed]",
      "text/plain": [
       "<Figure size 720x576 with 1 Axes>"
      ]
     },
     "metadata": {},
     "output_type": "display_data"
    }
   ],
   "source": [
    "# Qualification\n",
    "plt.figure(figsize=(10,8))\n",
    "sns.set_style('darkgrid')\n",
    "df['Qualification'].hist()\n",
    "plt.xticks(rotation=45)\n",
    "plt.title('The analysis of Qualification')"
   ]
  },
  {
   "cell_type": "markdown",
   "metadata": {
    "id": "kzaU4WN71esE"
   },
   "source": [
    "\n",
    "\n",
    "> we can see the plot which shows that many company want employee who got any Under Graduate Degree\n",
    "\n"
   ]
  },
  {
   "cell_type": "code",
   "execution_count": 70,
   "metadata": {},
   "outputs": [
    {
     "data": {
      "image/png": "[encoded data removed]",
      "text/plain": [
       "<Figure size 720x504 with 1 Axes>"
      ]
     },
     "metadata": {},
     "output_type": "display_data"
    }
   ],
   "source": [
    "DP=df.groupby('Date Posted')['Job Type'].count().reset_index().sort_values(by='Date Posted')\n",
    "plt.figure(figsize=(10,7))\n",
    "sns.lineplot(x=DP['Date Posted'],y=DP['Job Type'])\n",
    "ax=plt.xticks(rotation=45)"
   ]
  },
  {
   "cell_type": "code",
   "execution_count": 68,
   "metadata": {
    "colab": {
     "base_uri": "https://localhost:8080/",
     "height": 514
    },
    "id": "HW3OgoXIur0j",
    "outputId": "7c52ee17-0219-4d11-9418-9acec4edc862"
   },
   "outputs": [
    {
     "data": {
      "text/plain": [
       "<AxesSubplot:xlabel='Years of Experience', ylabel='Count'>"
      ]
     },
     "execution_count": 68,
     "metadata": {},
     "output_type": "execute_result"
    },
    {
     "data": {
      "image/png": "[encoded data removed]",
      "text/plain": [
       "<Figure size 720x576 with 1 Axes>"
      ]
     },
     "metadata": {},
     "output_type": "display_data"
    }
   ],
   "source": [
    "# Years of Experience\n",
    "plt.figure(figsize=(10,8))\n",
    "sns.set_style('darkgrid')\n",
    "sns.histplot(df['Years of Experience'],bins=5)\n",
    "# 0 to 5 year is more expexcted by company's"
   ]
  },
  {
   "cell_type": "markdown",
   "metadata": {
    "id": "XN1sMXFD1yS4"
   },
   "source": [
    "\n",
    "\n",
    "> The experience between 0 and 5 year is mostly wanted by the Company's\n",
    "\n",
    "\n",
    "\n",
    "\n"
   ]
  },
  {
   "cell_type": "markdown",
   "metadata": {
    "id": "c4lgfdJK23yG"
   },
   "source": [
    "# Finding in Univarient Analysis ⬇\n",
    "\n",
    "\n",
    "1.   The 'Kowloon Bay' Distination Have many jobs 41\n",
    "2.   Many  Area are 'Not Specified' It may be Remote Jobs \n",
    "3.   Many company's provide  'Entry' Level job's\n",
    "4.   1232 Unique Company's Having vaccuncy\n",
    "5.   'IT Solutions Limited' is the only company Which provide 43 jobs\n",
    "6.   Date of job's posted start from 2021/09/23 and End at 2021/10/22\n",
    "7.   HR(\"Human Resources Management/Consultancy\")Industry have more Job's\n",
    "8.   Because of Demand of Data job's Business Analyst is prefered\n",
    "9.   Most of the Company's Need   \tFull Time AND Permanent Employee\n",
    "10.\t The minimum qualification for applying job is School Certicate\n",
    "11.  The experience between 0 and 5 year is mostly wanted by the Company's"
   ]
  }
 ],
 "metadata": {
  "colab": {
   "name": "Hr analysis EDA.ipynb",
   "provenance": []
  },
  "kernelspec": {
   "display_name": "mlu-tab:Python",
   "language": "python",
   "name": "conda-env-mlu-tab-py"
  },
  "language_info": {
   "codemirror_mode": {
    "name": "ipython",
    "version": 3
   },
   "file_extension": ".py",
   "mimetype": "text/x-python",
   "name": "python",
   "nbconvert_exporter": "python",
   "pygments_lexer": "ipython3",
   "version": "3.9.13"
  }
 },
 "nbformat": 4,
 "nbformat_minor": 4
}
