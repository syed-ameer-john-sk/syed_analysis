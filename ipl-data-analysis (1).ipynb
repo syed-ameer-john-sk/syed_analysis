{
  "metadata": {
    "kernelspec": {
      "language": "python",
      "display_name": "Python 3",
      "name": "python3"
    },
    "language_info": {
      "name": "python",
      "version": "3.7.12",
      "mimetype": "text/x-python",
      "codemirror_mode": {
        "name": "ipython",
        "version": 3
      },
      "pygments_lexer": "ipython3",
      "nbconvert_exporter": "python",
      "file_extension": ".py"
    },
    "colab": {
      "name": "ipl-data-analysis (1).ipynb",
      "provenance": [],
      "include_colab_link": true
    }
  },
  "nbformat_minor": 0,
  "nbformat": 4,
  "cells": [
    {
      "cell_type": "markdown",
      "metadata": {
        "id": "view-in-github",
        "colab_type": "text"
      },
      "source": [
        "<a href=\"https://colab.research.google.com/github/Rose776/syed_analysis/blob/main/ipl_data_analysis_(1).ipynb\" target=\"_parent\"><img src=\"https://colab.research.google.com/assets/colab-badge.svg\" alt=\"Open In Colab\"/></a>"
      ]
    },
    {
      "cell_type": "code",
      "source": [
        "# This Python 3 environment comes with many helpful analytics libraries installed\n",
        "# It is defined by the kaggle/python Docker image: https://github.com/kaggle/docker-python\n",
        "# For example, here's several helpful packages to load\n",
        "\n",
        "import numpy as np # linear algebra\n",
        "import pandas as pd # data processing, CSV file I/O (e.g. pd.read_csv)\n",
        "\n",
        "# Input data files are available in the read-only \"../input/\" directory\n",
        "# For example, running this (by clicking run or pressing Shift+Enter) will list all files under the input directory\n",
        "\n",
        "import os\n",
        "for dirname, _, filenames in os.walk('/kaggle/input'):\n",
        "    for filename in filenames:\n",
        "        print(os.path.join(dirname, filename))\n",
        "\n",
        "# You can write up to 20GB to the current directory (/kaggle/working/) that gets preserved as output when you create a version using \"Save & Run All\" \n",
        "# You can also write temporary files to /kaggle/temp/, but they won't be saved outside of the current session"
      ],
      "metadata": {
        "_uuid": "8f2839f25d086af736a60e9eeb907d3b93b6e0e5",
        "_cell_guid": "b1076dfc-b9ad-4769-8c92-a6c4dae69d19",
        "execution": {
          "iopub.status.busy": "2022-04-17T17:35:44.471471Z",
          "iopub.execute_input": "2022-04-17T17:35:44.472043Z",
          "iopub.status.idle": "2022-04-17T17:35:44.488173Z",
          "shell.execute_reply.started": "2022-04-17T17:35:44.471966Z",
          "shell.execute_reply": "2022-04-17T17:35:44.487220Z"
        },
        "trusted": true,
        "id": "92Q4M2yI6ACw"
      },
      "execution_count": 118,
      "outputs": []
    },
    {
      "cell_type": "code",
      "source": [
        "import matplotlib.pyplot as plt"
      ],
      "metadata": {
        "execution": {
          "iopub.status.busy": "2022-04-17T17:35:44.490188Z",
          "iopub.execute_input": "2022-04-17T17:35:44.491152Z",
          "iopub.status.idle": "2022-04-17T17:35:44.495567Z",
          "shell.execute_reply.started": "2022-04-17T17:35:44.491103Z",
          "shell.execute_reply": "2022-04-17T17:35:44.494946Z"
        },
        "trusted": true,
        "id": "YttPYY1W6AC0"
      },
      "execution_count": 119,
      "outputs": []
    },
    {
      "cell_type": "code",
      "source": [
        ""
      ],
      "metadata": {
        "execution": {
          "iopub.status.busy": "2022-04-17T17:35:44.624051Z",
          "iopub.status.idle": "2022-04-17T17:35:44.624527Z",
          "shell.execute_reply.started": "2022-04-17T17:35:44.624272Z",
          "shell.execute_reply": "2022-04-17T17:35:44.624297Z"
        },
        "trusted": true,
        "id": "rgtdZhiD6AC2"
      },
      "execution_count": 119,
      "outputs": []
    },
    {
      "cell_type": "markdown",
      "source": [
        ""
      ],
      "metadata": {
        "id": "1SAWtuwN6AC3"
      }
    },
    {
      "cell_type": "code",
      "source": [
        "import numpy as np"
      ],
      "metadata": {
        "execution": {
          "iopub.status.busy": "2022-04-17T17:35:44.717271Z",
          "iopub.status.idle": "2022-04-17T17:35:44.717652Z",
          "shell.execute_reply.started": "2022-04-17T17:35:44.717439Z",
          "shell.execute_reply": "2022-04-17T17:35:44.717470Z"
        },
        "trusted": true,
        "id": "R1_ahuKK6ADA"
      },
      "execution_count": 120,
      "outputs": []
    },
    {
      "cell_type": "code",
      "source": [
        "import pandas as pd"
      ],
      "metadata": {
        "execution": {
          "iopub.status.busy": "2022-04-17T17:35:44.723317Z",
          "iopub.status.idle": "2022-04-17T17:35:44.723883Z",
          "shell.execute_reply.started": "2022-04-17T17:35:44.723584Z",
          "shell.execute_reply": "2022-04-17T17:35:44.723686Z"
        },
        "trusted": true,
        "id": "mY4s2_nd6ADB"
      },
      "execution_count": 121,
      "outputs": []
    },
    {
      "cell_type": "code",
      "source": [
        "matches=pd.read_csv('/content/matches.csv')"
      ],
      "metadata": {
        "execution": {
          "iopub.status.busy": "2022-04-17T17:35:44.743100Z",
          "iopub.execute_input": "2022-04-17T17:35:44.743384Z",
          "iopub.status.idle": "2022-04-17T17:35:44.759301Z",
          "shell.execute_reply.started": "2022-04-17T17:35:44.743350Z",
          "shell.execute_reply": "2022-04-17T17:35:44.758353Z"
        },
        "trusted": true,
        "id": "L3RRg68T6ADD"
      },
      "execution_count": 122,
      "outputs": []
    },
    {
      "cell_type": "markdown",
      "source": [
        ""
      ],
      "metadata": {
        "id": "R3_uVNVB6UvX"
      }
    },
    {
      "cell_type": "markdown",
      "source": [
        "# Question3:\n",
        "Find the team name having maximum toss winners of their matches for the year 2017 & visualize toss winning count with respect to all years of that particular team and prove it if there is any relation between match winner & toss winner (i.e. if one team win toss then there is a chance to win the match or not).\n"
      ],
      "metadata": {
        "id": "9RREVGy76ADE"
      }
    },
    {
      "cell_type": "code",
      "source": [
        "matches"
      ],
      "metadata": {
        "execution": {
          "iopub.status.busy": "2022-04-17T17:35:44.761244Z",
          "iopub.execute_input": "2022-04-17T17:35:44.761827Z",
          "iopub.status.idle": "2022-04-17T17:35:44.793242Z",
          "shell.execute_reply.started": "2022-04-17T17:35:44.761782Z",
          "shell.execute_reply": "2022-04-17T17:35:44.792395Z"
        },
        "trusted": true,
        "colab": {
          "base_uri": "https://localhost:8080/",
          "height": 904
        },
        "id": "owPcmIYo6ADa",
        "outputId": "c5d7dcc3-8ce8-4630-ba41-1a6bfef5d6bb"
      },
      "execution_count": 123,
      "outputs": [
        {
          "output_type": "execute_result",
          "data": {
            "text/plain": [
              "      id  season       city       date                        team1  \\\n",
              "0      1    2017  Hyderabad   4/5/2017          Sunrisers Hyderabad   \n",
              "1      2    2017       Pune   4/6/2017               Mumbai Indians   \n",
              "2      3    2017     Rajkot   4/7/2017                Gujarat Lions   \n",
              "3      4    2017     Indore   4/8/2017       Rising Pune Supergiant   \n",
              "4      5    2017  Bangalore   4/8/2017  Royal Challengers Bangalore   \n",
              "..   ...     ...        ...        ...                          ...   \n",
              "631  632    2016     Raipur  5/22/2016             Delhi Daredevils   \n",
              "632  633    2016  Bangalore  5/24/2016                Gujarat Lions   \n",
              "633  634    2016      Delhi  5/25/2016          Sunrisers Hyderabad   \n",
              "634  635    2016      Delhi  5/27/2016                Gujarat Lions   \n",
              "635  636    2016  Bangalore  5/29/2016          Sunrisers Hyderabad   \n",
              "\n",
              "                           team2                  toss_winner toss_decision  \\\n",
              "0    Royal Challengers Bangalore  Royal Challengers Bangalore         field   \n",
              "1         Rising Pune Supergiant       Rising Pune Supergiant         field   \n",
              "2          Kolkata Knight Riders        Kolkata Knight Riders         field   \n",
              "3                Kings XI Punjab              Kings XI Punjab         field   \n",
              "4               Delhi Daredevils  Royal Challengers Bangalore           bat   \n",
              "..                           ...                          ...           ...   \n",
              "631  Royal Challengers Bangalore  Royal Challengers Bangalore         field   \n",
              "632  Royal Challengers Bangalore  Royal Challengers Bangalore         field   \n",
              "633        Kolkata Knight Riders        Kolkata Knight Riders         field   \n",
              "634          Sunrisers Hyderabad          Sunrisers Hyderabad         field   \n",
              "635  Royal Challengers Bangalore          Sunrisers Hyderabad           bat   \n",
              "\n",
              "     result  dl_applied                       winner  win_by_runs  \\\n",
              "0    normal           0          Sunrisers Hyderabad           35   \n",
              "1    normal           0       Rising Pune Supergiant            0   \n",
              "2    normal           0        Kolkata Knight Riders            0   \n",
              "3    normal           0              Kings XI Punjab            0   \n",
              "4    normal           0  Royal Challengers Bangalore           15   \n",
              "..      ...         ...                          ...          ...   \n",
              "631  normal           0  Royal Challengers Bangalore            0   \n",
              "632  normal           0  Royal Challengers Bangalore            0   \n",
              "633  normal           0          Sunrisers Hyderabad           22   \n",
              "634  normal           0          Sunrisers Hyderabad            0   \n",
              "635  normal           0          Sunrisers Hyderabad            8   \n",
              "\n",
              "     win_by_wickets player_of_match  \\\n",
              "0                 0    Yuvraj Singh   \n",
              "1                 7       SPD Smith   \n",
              "2                10         CA Lynn   \n",
              "3                 6      GJ Maxwell   \n",
              "4                 0       KM Jadhav   \n",
              "..              ...             ...   \n",
              "631               6         V Kohli   \n",
              "632               4  AB de Villiers   \n",
              "633               0    MC Henriques   \n",
              "634               4       DA Warner   \n",
              "635               0     BCJ Cutting   \n",
              "\n",
              "                                                venue          umpire1  \\\n",
              "0           Rajiv Gandhi International Stadium, Uppal      AY Dandekar   \n",
              "1             Maharashtra Cricket Association Stadium   A Nand Kishore   \n",
              "2              Saurashtra Cricket Association Stadium      Nitin Menon   \n",
              "3                              Holkar Cricket Stadium     AK Chaudhary   \n",
              "4                               M Chinnaswamy Stadium              NaN   \n",
              "..                                                ...              ...   \n",
              "631  Shaheed Veer Narayan Singh International Stadium   A Nand Kishore   \n",
              "632                             M Chinnaswamy Stadium     AK Chaudhary   \n",
              "633                                  Feroz Shah Kotla        M Erasmus   \n",
              "634                                  Feroz Shah Kotla        M Erasmus   \n",
              "635                             M Chinnaswamy Stadium  HDPK Dharmasena   \n",
              "\n",
              "             umpire2  umpire3  \n",
              "0           NJ Llong      NaN  \n",
              "1             S Ravi      NaN  \n",
              "2          CK Nandan      NaN  \n",
              "3      C Shamshuddin      NaN  \n",
              "4                NaN      NaN  \n",
              "..               ...      ...  \n",
              "631     BNJ Oxenford      NaN  \n",
              "632  HDPK Dharmasena      NaN  \n",
              "633    C Shamshuddin      NaN  \n",
              "634        CK Nandan      NaN  \n",
              "635     BNJ Oxenford      NaN  \n",
              "\n",
              "[636 rows x 18 columns]"
            ],
            "text/html": [
              "\n",
              "  <div id=\"df-d982ee4d-43ce-4abe-9f92-6466b5e0571f\">\n",
              "    <div class=\"colab-df-container\">\n",
              "      <div>\n",
              "<style scoped>\n",
              "    .dataframe tbody tr th:only-of-type {\n",
              "        vertical-align: middle;\n",
              "    }\n",
              "\n",
              "    .dataframe tbody tr th {\n",
              "        vertical-align: top;\n",
              "    }\n",
              "\n",
              "    .dataframe thead th {\n",
              "        text-align: right;\n",
              "    }\n",
              "</style>\n",
              "<table border=\"1\" class=\"dataframe\">\n",
              "  <thead>\n",
              "    <tr style=\"text-align: right;\">\n",
              "      <th></th>\n",
              "      <th>id</th>\n",
              "      <th>season</th>\n",
              "      <th>city</th>\n",
              "      <th>date</th>\n",
              "      <th>team1</th>\n",
              "      <th>team2</th>\n",
              "      <th>toss_winner</th>\n",
              "      <th>toss_decision</th>\n",
              "      <th>result</th>\n",
              "      <th>dl_applied</th>\n",
              "      <th>winner</th>\n",
              "      <th>win_by_runs</th>\n",
              "      <th>win_by_wickets</th>\n",
              "      <th>player_of_match</th>\n",
              "      <th>venue</th>\n",
              "      <th>umpire1</th>\n",
              "      <th>umpire2</th>\n",
              "      <th>umpire3</th>\n",
              "    </tr>\n",
              "  </thead>\n",
              "  <tbody>\n",
              "    <tr>\n",
              "      <th>0</th>\n",
              "      <td>1</td>\n",
              "      <td>2017</td>\n",
              "      <td>Hyderabad</td>\n",
              "      <td>4/5/2017</td>\n",
              "      <td>Sunrisers Hyderabad</td>\n",
              "      <td>Royal Challengers Bangalore</td>\n",
              "      <td>Royal Challengers Bangalore</td>\n",
              "      <td>field</td>\n",
              "      <td>normal</td>\n",
              "      <td>0</td>\n",
              "      <td>Sunrisers Hyderabad</td>\n",
              "      <td>35</td>\n",
              "      <td>0</td>\n",
              "      <td>Yuvraj Singh</td>\n",
              "      <td>Rajiv Gandhi International Stadium, Uppal</td>\n",
              "      <td>AY Dandekar</td>\n",
              "      <td>NJ Llong</td>\n",
              "      <td>NaN</td>\n",
              "    </tr>\n",
              "    <tr>\n",
              "      <th>1</th>\n",
              "      <td>2</td>\n",
              "      <td>2017</td>\n",
              "      <td>Pune</td>\n",
              "      <td>4/6/2017</td>\n",
              "      <td>Mumbai Indians</td>\n",
              "      <td>Rising Pune Supergiant</td>\n",
              "      <td>Rising Pune Supergiant</td>\n",
              "      <td>field</td>\n",
              "      <td>normal</td>\n",
              "      <td>0</td>\n",
              "      <td>Rising Pune Supergiant</td>\n",
              "      <td>0</td>\n",
              "      <td>7</td>\n",
              "      <td>SPD Smith</td>\n",
              "      <td>Maharashtra Cricket Association Stadium</td>\n",
              "      <td>A Nand Kishore</td>\n",
              "      <td>S Ravi</td>\n",
              "      <td>NaN</td>\n",
              "    </tr>\n",
              "    <tr>\n",
              "      <th>2</th>\n",
              "      <td>3</td>\n",
              "      <td>2017</td>\n",
              "      <td>Rajkot</td>\n",
              "      <td>4/7/2017</td>\n",
              "      <td>Gujarat Lions</td>\n",
              "      <td>Kolkata Knight Riders</td>\n",
              "      <td>Kolkata Knight Riders</td>\n",
              "      <td>field</td>\n",
              "      <td>normal</td>\n",
              "      <td>0</td>\n",
              "      <td>Kolkata Knight Riders</td>\n",
              "      <td>0</td>\n",
              "      <td>10</td>\n",
              "      <td>CA Lynn</td>\n",
              "      <td>Saurashtra Cricket Association Stadium</td>\n",
              "      <td>Nitin Menon</td>\n",
              "      <td>CK Nandan</td>\n",
              "      <td>NaN</td>\n",
              "    </tr>\n",
              "    <tr>\n",
              "      <th>3</th>\n",
              "      <td>4</td>\n",
              "      <td>2017</td>\n",
              "      <td>Indore</td>\n",
              "      <td>4/8/2017</td>\n",
              "      <td>Rising Pune Supergiant</td>\n",
              "      <td>Kings XI Punjab</td>\n",
              "      <td>Kings XI Punjab</td>\n",
              "      <td>field</td>\n",
              "      <td>normal</td>\n",
              "      <td>0</td>\n",
              "      <td>Kings XI Punjab</td>\n",
              "      <td>0</td>\n",
              "      <td>6</td>\n",
              "      <td>GJ Maxwell</td>\n",
              "      <td>Holkar Cricket Stadium</td>\n",
              "      <td>AK Chaudhary</td>\n",
              "      <td>C Shamshuddin</td>\n",
              "      <td>NaN</td>\n",
              "    </tr>\n",
              "    <tr>\n",
              "      <th>4</th>\n",
              "      <td>5</td>\n",
              "      <td>2017</td>\n",
              "      <td>Bangalore</td>\n",
              "      <td>4/8/2017</td>\n",
              "      <td>Royal Challengers Bangalore</td>\n",
              "      <td>Delhi Daredevils</td>\n",
              "      <td>Royal Challengers Bangalore</td>\n",
              "      <td>bat</td>\n",
              "      <td>normal</td>\n",
              "      <td>0</td>\n",
              "      <td>Royal Challengers Bangalore</td>\n",
              "      <td>15</td>\n",
              "      <td>0</td>\n",
              "      <td>KM Jadhav</td>\n",
              "      <td>M Chinnaswamy Stadium</td>\n",
              "      <td>NaN</td>\n",
              "      <td>NaN</td>\n",
              "      <td>NaN</td>\n",
              "    </tr>\n",
              "    <tr>\n",
              "      <th>...</th>\n",
              "      <td>...</td>\n",
              "      <td>...</td>\n",
              "      <td>...</td>\n",
              "      <td>...</td>\n",
              "      <td>...</td>\n",
              "      <td>...</td>\n",
              "      <td>...</td>\n",
              "      <td>...</td>\n",
              "      <td>...</td>\n",
              "      <td>...</td>\n",
              "      <td>...</td>\n",
              "      <td>...</td>\n",
              "      <td>...</td>\n",
              "      <td>...</td>\n",
              "      <td>...</td>\n",
              "      <td>...</td>\n",
              "      <td>...</td>\n",
              "      <td>...</td>\n",
              "    </tr>\n",
              "    <tr>\n",
              "      <th>631</th>\n",
              "      <td>632</td>\n",
              "      <td>2016</td>\n",
              "      <td>Raipur</td>\n",
              "      <td>5/22/2016</td>\n",
              "      <td>Delhi Daredevils</td>\n",
              "      <td>Royal Challengers Bangalore</td>\n",
              "      <td>Royal Challengers Bangalore</td>\n",
              "      <td>field</td>\n",
              "      <td>normal</td>\n",
              "      <td>0</td>\n",
              "      <td>Royal Challengers Bangalore</td>\n",
              "      <td>0</td>\n",
              "      <td>6</td>\n",
              "      <td>V Kohli</td>\n",
              "      <td>Shaheed Veer Narayan Singh International Stadium</td>\n",
              "      <td>A Nand Kishore</td>\n",
              "      <td>BNJ Oxenford</td>\n",
              "      <td>NaN</td>\n",
              "    </tr>\n",
              "    <tr>\n",
              "      <th>632</th>\n",
              "      <td>633</td>\n",
              "      <td>2016</td>\n",
              "      <td>Bangalore</td>\n",
              "      <td>5/24/2016</td>\n",
              "      <td>Gujarat Lions</td>\n",
              "      <td>Royal Challengers Bangalore</td>\n",
              "      <td>Royal Challengers Bangalore</td>\n",
              "      <td>field</td>\n",
              "      <td>normal</td>\n",
              "      <td>0</td>\n",
              "      <td>Royal Challengers Bangalore</td>\n",
              "      <td>0</td>\n",
              "      <td>4</td>\n",
              "      <td>AB de Villiers</td>\n",
              "      <td>M Chinnaswamy Stadium</td>\n",
              "      <td>AK Chaudhary</td>\n",
              "      <td>HDPK Dharmasena</td>\n",
              "      <td>NaN</td>\n",
              "    </tr>\n",
              "    <tr>\n",
              "      <th>633</th>\n",
              "      <td>634</td>\n",
              "      <td>2016</td>\n",
              "      <td>Delhi</td>\n",
              "      <td>5/25/2016</td>\n",
              "      <td>Sunrisers Hyderabad</td>\n",
              "      <td>Kolkata Knight Riders</td>\n",
              "      <td>Kolkata Knight Riders</td>\n",
              "      <td>field</td>\n",
              "      <td>normal</td>\n",
              "      <td>0</td>\n",
              "      <td>Sunrisers Hyderabad</td>\n",
              "      <td>22</td>\n",
              "      <td>0</td>\n",
              "      <td>MC Henriques</td>\n",
              "      <td>Feroz Shah Kotla</td>\n",
              "      <td>M Erasmus</td>\n",
              "      <td>C Shamshuddin</td>\n",
              "      <td>NaN</td>\n",
              "    </tr>\n",
              "    <tr>\n",
              "      <th>634</th>\n",
              "      <td>635</td>\n",
              "      <td>2016</td>\n",
              "      <td>Delhi</td>\n",
              "      <td>5/27/2016</td>\n",
              "      <td>Gujarat Lions</td>\n",
              "      <td>Sunrisers Hyderabad</td>\n",
              "      <td>Sunrisers Hyderabad</td>\n",
              "      <td>field</td>\n",
              "      <td>normal</td>\n",
              "      <td>0</td>\n",
              "      <td>Sunrisers Hyderabad</td>\n",
              "      <td>0</td>\n",
              "      <td>4</td>\n",
              "      <td>DA Warner</td>\n",
              "      <td>Feroz Shah Kotla</td>\n",
              "      <td>M Erasmus</td>\n",
              "      <td>CK Nandan</td>\n",
              "      <td>NaN</td>\n",
              "    </tr>\n",
              "    <tr>\n",
              "      <th>635</th>\n",
              "      <td>636</td>\n",
              "      <td>2016</td>\n",
              "      <td>Bangalore</td>\n",
              "      <td>5/29/2016</td>\n",
              "      <td>Sunrisers Hyderabad</td>\n",
              "      <td>Royal Challengers Bangalore</td>\n",
              "      <td>Sunrisers Hyderabad</td>\n",
              "      <td>bat</td>\n",
              "      <td>normal</td>\n",
              "      <td>0</td>\n",
              "      <td>Sunrisers Hyderabad</td>\n",
              "      <td>8</td>\n",
              "      <td>0</td>\n",
              "      <td>BCJ Cutting</td>\n",
              "      <td>M Chinnaswamy Stadium</td>\n",
              "      <td>HDPK Dharmasena</td>\n",
              "      <td>BNJ Oxenford</td>\n",
              "      <td>NaN</td>\n",
              "    </tr>\n",
              "  </tbody>\n",
              "</table>\n",
              "<p>636 rows × 18 columns</p>\n",
              "</div>\n",
              "      <button class=\"colab-df-convert\" onclick=\"convertToInteractive('df-d982ee4d-43ce-4abe-9f92-6466b5e0571f')\"\n",
              "              title=\"Convert this dataframe to an interactive table.\"\n",
              "              style=\"display:none;\">\n",
              "        \n",
              "  <svg xmlns=\"http://www.w3.org/2000/svg\" height=\"24px\"viewBox=\"0 0 24 24\"\n",
              "       width=\"24px\">\n",
              "    <path d=\"M0 0h24v24H0V0z\" fill=\"none\"/>\n",
              "    <path d=\"M18.56 5.44l.94 2.06.94-2.06 2.06-.94-2.06-.94-.94-2.06-.94 2.06-2.06.94zm-11 1L8.5 8.5l.94-2.06 2.06-.94-2.06-.94L8.5 2.5l-.94 2.06-2.06.94zm10 10l.94 2.06.94-2.06 2.06-.94-2.06-.94-.94-2.06-.94 2.06-2.06.94z\"/><path d=\"M17.41 7.96l-1.37-1.37c-.4-.4-.92-.59-1.43-.59-.52 0-1.04.2-1.43.59L10.3 9.45l-7.72 7.72c-.78.78-.78 2.05 0 2.83L4 21.41c.39.39.9.59 1.41.59.51 0 1.02-.2 1.41-.59l7.78-7.78 2.81-2.81c.8-.78.8-2.07 0-2.86zM5.41 20L4 18.59l7.72-7.72 1.47 1.35L5.41 20z\"/>\n",
              "  </svg>\n",
              "      </button>\n",
              "      \n",
              "  <style>\n",
              "    .colab-df-container {\n",
              "      display:flex;\n",
              "      flex-wrap:wrap;\n",
              "      gap: 12px;\n",
              "    }\n",
              "\n",
              "    .colab-df-convert {\n",
              "      background-color: #E8F0FE;\n",
              "      border: none;\n",
              "      border-radius: 50%;\n",
              "      cursor: pointer;\n",
              "      display: none;\n",
              "      fill: #1967D2;\n",
              "      height: 32px;\n",
              "      padding: 0 0 0 0;\n",
              "      width: 32px;\n",
              "    }\n",
              "\n",
              "    .colab-df-convert:hover {\n",
              "      background-color: #E2EBFA;\n",
              "      box-shadow: 0px 1px 2px rgba(60, 64, 67, 0.3), 0px 1px 3px 1px rgba(60, 64, 67, 0.15);\n",
              "      fill: #174EA6;\n",
              "    }\n",
              "\n",
              "    [theme=dark] .colab-df-convert {\n",
              "      background-color: #3B4455;\n",
              "      fill: #D2E3FC;\n",
              "    }\n",
              "\n",
              "    [theme=dark] .colab-df-convert:hover {\n",
              "      background-color: #434B5C;\n",
              "      box-shadow: 0px 1px 3px 1px rgba(0, 0, 0, 0.15);\n",
              "      filter: drop-shadow(0px 1px 2px rgba(0, 0, 0, 0.3));\n",
              "      fill: #FFFFFF;\n",
              "    }\n",
              "  </style>\n",
              "\n",
              "      <script>\n",
              "        const buttonEl =\n",
              "          document.querySelector('#df-d982ee4d-43ce-4abe-9f92-6466b5e0571f button.colab-df-convert');\n",
              "        buttonEl.style.display =\n",
              "          google.colab.kernel.accessAllowed ? 'block' : 'none';\n",
              "\n",
              "        async function convertToInteractive(key) {\n",
              "          const element = document.querySelector('#df-d982ee4d-43ce-4abe-9f92-6466b5e0571f');\n",
              "          const dataTable =\n",
              "            await google.colab.kernel.invokeFunction('convertToInteractive',\n",
              "                                                     [key], {});\n",
              "          if (!dataTable) return;\n",
              "\n",
              "          const docLinkHtml = 'Like what you see? Visit the ' +\n",
              "            '<a target=\"_blank\" href=https://colab.research.google.com/notebooks/data_table.ipynb>data table notebook</a>'\n",
              "            + ' to learn more about interactive tables.';\n",
              "          element.innerHTML = '';\n",
              "          dataTable['output_type'] = 'display_data';\n",
              "          await google.colab.output.renderOutput(dataTable, element);\n",
              "          const docLink = document.createElement('div');\n",
              "          docLink.innerHTML = docLinkHtml;\n",
              "          element.appendChild(docLink);\n",
              "        }\n",
              "      </script>\n",
              "    </div>\n",
              "  </div>\n",
              "  "
            ]
          },
          "metadata": {},
          "execution_count": 123
        }
      ]
    },
    {
      "cell_type": "code",
      "source": [
        "high_toss=matches.where(matches[\"season\"]==2017).groupby(\"toss_winner\")[\"toss_winner\"].value_counts()"
      ],
      "metadata": {
        "execution": {
          "iopub.status.busy": "2022-04-17T17:35:44.794880Z",
          "iopub.execute_input": "2022-04-17T17:35:44.795425Z",
          "iopub.status.idle": "2022-04-17T17:35:44.815478Z",
          "shell.execute_reply.started": "2022-04-17T17:35:44.795379Z",
          "shell.execute_reply": "2022-04-17T17:35:44.814623Z"
        },
        "trusted": true,
        "id": "XTmoXL_y6ADd"
      },
      "execution_count": 124,
      "outputs": []
    },
    {
      "cell_type": "code",
      "source": [
        "pd.DataFrame(high_toss)"
      ],
      "metadata": {
        "execution": {
          "iopub.status.busy": "2022-04-17T17:35:44.818065Z",
          "iopub.execute_input": "2022-04-17T17:35:44.818399Z",
          "iopub.status.idle": "2022-04-17T17:35:44.832862Z",
          "shell.execute_reply.started": "2022-04-17T17:35:44.818353Z",
          "shell.execute_reply": "2022-04-17T17:35:44.832005Z"
        },
        "trusted": true,
        "colab": {
          "base_uri": "https://localhost:8080/",
          "height": 332
        },
        "id": "RjQLtETK6ADe",
        "outputId": "d6d8dd05-2e53-41ef-ee9d-5b92dc9947e2"
      },
      "execution_count": 125,
      "outputs": [
        {
          "output_type": "execute_result",
          "data": {
            "text/plain": [
              "                                                         toss_winner\n",
              "toss_winner                 toss_winner                             \n",
              "Delhi Daredevils            Delhi Daredevils                       8\n",
              "Gujarat Lions               Gujarat Lions                          7\n",
              "Kings XI Punjab             Kings XI Punjab                        4\n",
              "Kolkata Knight Riders       Kolkata Knight Riders                  9\n",
              "Mumbai Indians              Mumbai Indians                        11\n",
              "Rising Pune Supergiant      Rising Pune Supergiant                 6\n",
              "Royal Challengers Bangalore Royal Challengers Bangalore            9\n",
              "Sunrisers Hyderabad         Sunrisers Hyderabad                    5"
            ],
            "text/html": [
              "\n",
              "  <div id=\"df-ec1b59b7-ff67-480b-b621-a2241fb4971b\">\n",
              "    <div class=\"colab-df-container\">\n",
              "      <div>\n",
              "<style scoped>\n",
              "    .dataframe tbody tr th:only-of-type {\n",
              "        vertical-align: middle;\n",
              "    }\n",
              "\n",
              "    .dataframe tbody tr th {\n",
              "        vertical-align: top;\n",
              "    }\n",
              "\n",
              "    .dataframe thead th {\n",
              "        text-align: right;\n",
              "    }\n",
              "</style>\n",
              "<table border=\"1\" class=\"dataframe\">\n",
              "  <thead>\n",
              "    <tr style=\"text-align: right;\">\n",
              "      <th></th>\n",
              "      <th></th>\n",
              "      <th>toss_winner</th>\n",
              "    </tr>\n",
              "    <tr>\n",
              "      <th>toss_winner</th>\n",
              "      <th>toss_winner</th>\n",
              "      <th></th>\n",
              "    </tr>\n",
              "  </thead>\n",
              "  <tbody>\n",
              "    <tr>\n",
              "      <th>Delhi Daredevils</th>\n",
              "      <th>Delhi Daredevils</th>\n",
              "      <td>8</td>\n",
              "    </tr>\n",
              "    <tr>\n",
              "      <th>Gujarat Lions</th>\n",
              "      <th>Gujarat Lions</th>\n",
              "      <td>7</td>\n",
              "    </tr>\n",
              "    <tr>\n",
              "      <th>Kings XI Punjab</th>\n",
              "      <th>Kings XI Punjab</th>\n",
              "      <td>4</td>\n",
              "    </tr>\n",
              "    <tr>\n",
              "      <th>Kolkata Knight Riders</th>\n",
              "      <th>Kolkata Knight Riders</th>\n",
              "      <td>9</td>\n",
              "    </tr>\n",
              "    <tr>\n",
              "      <th>Mumbai Indians</th>\n",
              "      <th>Mumbai Indians</th>\n",
              "      <td>11</td>\n",
              "    </tr>\n",
              "    <tr>\n",
              "      <th>Rising Pune Supergiant</th>\n",
              "      <th>Rising Pune Supergiant</th>\n",
              "      <td>6</td>\n",
              "    </tr>\n",
              "    <tr>\n",
              "      <th>Royal Challengers Bangalore</th>\n",
              "      <th>Royal Challengers Bangalore</th>\n",
              "      <td>9</td>\n",
              "    </tr>\n",
              "    <tr>\n",
              "      <th>Sunrisers Hyderabad</th>\n",
              "      <th>Sunrisers Hyderabad</th>\n",
              "      <td>5</td>\n",
              "    </tr>\n",
              "  </tbody>\n",
              "</table>\n",
              "</div>\n",
              "      <button class=\"colab-df-convert\" onclick=\"convertToInteractive('df-ec1b59b7-ff67-480b-b621-a2241fb4971b')\"\n",
              "              title=\"Convert this dataframe to an interactive table.\"\n",
              "              style=\"display:none;\">\n",
              "        \n",
              "  <svg xmlns=\"http://www.w3.org/2000/svg\" height=\"24px\"viewBox=\"0 0 24 24\"\n",
              "       width=\"24px\">\n",
              "    <path d=\"M0 0h24v24H0V0z\" fill=\"none\"/>\n",
              "    <path d=\"M18.56 5.44l.94 2.06.94-2.06 2.06-.94-2.06-.94-.94-2.06-.94 2.06-2.06.94zm-11 1L8.5 8.5l.94-2.06 2.06-.94-2.06-.94L8.5 2.5l-.94 2.06-2.06.94zm10 10l.94 2.06.94-2.06 2.06-.94-2.06-.94-.94-2.06-.94 2.06-2.06.94z\"/><path d=\"M17.41 7.96l-1.37-1.37c-.4-.4-.92-.59-1.43-.59-.52 0-1.04.2-1.43.59L10.3 9.45l-7.72 7.72c-.78.78-.78 2.05 0 2.83L4 21.41c.39.39.9.59 1.41.59.51 0 1.02-.2 1.41-.59l7.78-7.78 2.81-2.81c.8-.78.8-2.07 0-2.86zM5.41 20L4 18.59l7.72-7.72 1.47 1.35L5.41 20z\"/>\n",
              "  </svg>\n",
              "      </button>\n",
              "      \n",
              "  <style>\n",
              "    .colab-df-container {\n",
              "      display:flex;\n",
              "      flex-wrap:wrap;\n",
              "      gap: 12px;\n",
              "    }\n",
              "\n",
              "    .colab-df-convert {\n",
              "      background-color: #E8F0FE;\n",
              "      border: none;\n",
              "      border-radius: 50%;\n",
              "      cursor: pointer;\n",
              "      display: none;\n",
              "      fill: #1967D2;\n",
              "      height: 32px;\n",
              "      padding: 0 0 0 0;\n",
              "      width: 32px;\n",
              "    }\n",
              "\n",
              "    .colab-df-convert:hover {\n",
              "      background-color: #E2EBFA;\n",
              "      box-shadow: 0px 1px 2px rgba(60, 64, 67, 0.3), 0px 1px 3px 1px rgba(60, 64, 67, 0.15);\n",
              "      fill: #174EA6;\n",
              "    }\n",
              "\n",
              "    [theme=dark] .colab-df-convert {\n",
              "      background-color: #3B4455;\n",
              "      fill: #D2E3FC;\n",
              "    }\n",
              "\n",
              "    [theme=dark] .colab-df-convert:hover {\n",
              "      background-color: #434B5C;\n",
              "      box-shadow: 0px 1px 3px 1px rgba(0, 0, 0, 0.15);\n",
              "      filter: drop-shadow(0px 1px 2px rgba(0, 0, 0, 0.3));\n",
              "      fill: #FFFFFF;\n",
              "    }\n",
              "  </style>\n",
              "\n",
              "      <script>\n",
              "        const buttonEl =\n",
              "          document.querySelector('#df-ec1b59b7-ff67-480b-b621-a2241fb4971b button.colab-df-convert');\n",
              "        buttonEl.style.display =\n",
              "          google.colab.kernel.accessAllowed ? 'block' : 'none';\n",
              "\n",
              "        async function convertToInteractive(key) {\n",
              "          const element = document.querySelector('#df-ec1b59b7-ff67-480b-b621-a2241fb4971b');\n",
              "          const dataTable =\n",
              "            await google.colab.kernel.invokeFunction('convertToInteractive',\n",
              "                                                     [key], {});\n",
              "          if (!dataTable) return;\n",
              "\n",
              "          const docLinkHtml = 'Like what you see? Visit the ' +\n",
              "            '<a target=\"_blank\" href=https://colab.research.google.com/notebooks/data_table.ipynb>data table notebook</a>'\n",
              "            + ' to learn more about interactive tables.';\n",
              "          element.innerHTML = '';\n",
              "          dataTable['output_type'] = 'display_data';\n",
              "          await google.colab.output.renderOutput(dataTable, element);\n",
              "          const docLink = document.createElement('div');\n",
              "          docLink.innerHTML = docLinkHtml;\n",
              "          element.appendChild(docLink);\n",
              "        }\n",
              "      </script>\n",
              "    </div>\n",
              "  </div>\n",
              "  "
            ]
          },
          "metadata": {},
          "execution_count": 125
        }
      ]
    },
    {
      "cell_type": "code",
      "source": [
        "count_winning=matches[\"winner\"].groupby(matches[\"toss_winner\"]).count()"
      ],
      "metadata": {
        "execution": {
          "iopub.status.busy": "2022-04-17T17:35:44.834289Z",
          "iopub.execute_input": "2022-04-17T17:35:44.835021Z",
          "iopub.status.idle": "2022-04-17T17:35:44.846052Z",
          "shell.execute_reply.started": "2022-04-17T17:35:44.834974Z",
          "shell.execute_reply": "2022-04-17T17:35:44.845146Z"
        },
        "trusted": true,
        "id": "JBwXdb3y6ADf"
      },
      "execution_count": 126,
      "outputs": []
    },
    {
      "cell_type": "code",
      "source": [
        "count_winning"
      ],
      "metadata": {
        "execution": {
          "iopub.status.busy": "2022-04-17T17:35:44.847558Z",
          "iopub.execute_input": "2022-04-17T17:35:44.848085Z",
          "iopub.status.idle": "2022-04-17T17:35:44.860379Z",
          "shell.execute_reply.started": "2022-04-17T17:35:44.848000Z",
          "shell.execute_reply": "2022-04-17T17:35:44.859749Z"
        },
        "trusted": true,
        "colab": {
          "base_uri": "https://localhost:8080/"
        },
        "id": "ZNZUeAQF6ADg",
        "outputId": "fdcc60f7-d7d1-4a24-de15-55171abe5cf8"
      },
      "execution_count": 127,
      "outputs": [
        {
          "output_type": "execute_result",
          "data": {
            "text/plain": [
              "toss_winner\n",
              "Chennai Super Kings            66\n",
              "Deccan Chargers                43\n",
              "Delhi Daredevils               71\n",
              "Gujarat Lions                  15\n",
              "Kings XI Punjab                68\n",
              "Kochi Tuskers Kerala            8\n",
              "Kolkata Knight Riders          78\n",
              "Mumbai Indians                 85\n",
              "Pune Warriors                  20\n",
              "Rajasthan Royals               62\n",
              "Rising Pune Supergiant          6\n",
              "Rising Pune Supergiants         7\n",
              "Royal Challengers Bangalore    69\n",
              "Sunrisers Hyderabad            35\n",
              "Name: winner, dtype: int64"
            ]
          },
          "metadata": {},
          "execution_count": 127
        }
      ]
    },
    {
      "cell_type": "code",
      "source": [
        "high_toss_winning=matches[\"toss_winner\"].groupby(matches[\"toss_winner\"]).value_counts()"
      ],
      "metadata": {
        "execution": {
          "iopub.status.busy": "2022-04-17T17:35:44.861398Z",
          "iopub.execute_input": "2022-04-17T17:35:44.862046Z",
          "iopub.status.idle": "2022-04-17T17:35:44.872666Z",
          "shell.execute_reply.started": "2022-04-17T17:35:44.862009Z",
          "shell.execute_reply": "2022-04-17T17:35:44.871841Z"
        },
        "trusted": true,
        "id": "LrZbvs226ADh"
      },
      "execution_count": 128,
      "outputs": []
    },
    {
      "cell_type": "code",
      "source": [
        "high_toss_winning"
      ],
      "metadata": {
        "execution": {
          "iopub.status.busy": "2022-04-17T17:35:44.873926Z",
          "iopub.execute_input": "2022-04-17T17:35:44.874305Z",
          "iopub.status.idle": "2022-04-17T17:35:44.886054Z",
          "shell.execute_reply.started": "2022-04-17T17:35:44.874265Z",
          "shell.execute_reply": "2022-04-17T17:35:44.885135Z"
        },
        "trusted": true,
        "colab": {
          "base_uri": "https://localhost:8080/"
        },
        "id": "-LiCAr3n6ADi",
        "outputId": "9137789d-0da7-460f-e448-6bcdd80c3560"
      },
      "execution_count": 129,
      "outputs": [
        {
          "output_type": "execute_result",
          "data": {
            "text/plain": [
              "toss_winner                  toss_winner                \n",
              "Chennai Super Kings          Chennai Super Kings            66\n",
              "Deccan Chargers              Deccan Chargers                43\n",
              "Delhi Daredevils             Delhi Daredevils               72\n",
              "Gujarat Lions                Gujarat Lions                  15\n",
              "Kings XI Punjab              Kings XI Punjab                68\n",
              "Kochi Tuskers Kerala         Kochi Tuskers Kerala            8\n",
              "Kolkata Knight Riders        Kolkata Knight Riders          78\n",
              "Mumbai Indians               Mumbai Indians                 85\n",
              "Pune Warriors                Pune Warriors                  20\n",
              "Rajasthan Royals             Rajasthan Royals               63\n",
              "Rising Pune Supergiant       Rising Pune Supergiant          6\n",
              "Rising Pune Supergiants      Rising Pune Supergiants         7\n",
              "Royal Challengers Bangalore  Royal Challengers Bangalore    70\n",
              "Sunrisers Hyderabad          Sunrisers Hyderabad            35\n",
              "Name: toss_winner, dtype: int64"
            ]
          },
          "metadata": {},
          "execution_count": 129
        }
      ]
    },
    {
      "cell_type": "code",
      "source": [
        "high_toss_winning=matches[\"toss_winner\"].where(matches[\"season\"]==2017).groupby(matches[\"toss_winner\" ]).count()"
      ],
      "metadata": {
        "execution": {
          "iopub.status.busy": "2022-04-17T17:35:44.889009Z",
          "iopub.execute_input": "2022-04-17T17:35:44.889255Z",
          "iopub.status.idle": "2022-04-17T17:35:44.895399Z",
          "shell.execute_reply.started": "2022-04-17T17:35:44.889225Z",
          "shell.execute_reply": "2022-04-17T17:35:44.894763Z"
        },
        "trusted": true,
        "id": "d8rrigeW6ADl"
      },
      "execution_count": 130,
      "outputs": []
    },
    {
      "cell_type": "code",
      "source": [
        "high_toss_winning"
      ],
      "metadata": {
        "execution": {
          "iopub.status.busy": "2022-04-17T17:35:44.896565Z",
          "iopub.execute_input": "2022-04-17T17:35:44.897080Z",
          "iopub.status.idle": "2022-04-17T17:35:44.906486Z",
          "shell.execute_reply.started": "2022-04-17T17:35:44.897043Z",
          "shell.execute_reply": "2022-04-17T17:35:44.905844Z"
        },
        "trusted": true,
        "colab": {
          "base_uri": "https://localhost:8080/"
        },
        "id": "zrXeabJM6ADr",
        "outputId": "a49b67cd-287b-4a58-ee29-e86de90dbce7"
      },
      "execution_count": 131,
      "outputs": [
        {
          "output_type": "execute_result",
          "data": {
            "text/plain": [
              "toss_winner\n",
              "Chennai Super Kings             0\n",
              "Deccan Chargers                 0\n",
              "Delhi Daredevils                8\n",
              "Gujarat Lions                   7\n",
              "Kings XI Punjab                 4\n",
              "Kochi Tuskers Kerala            0\n",
              "Kolkata Knight Riders           9\n",
              "Mumbai Indians                 11\n",
              "Pune Warriors                   0\n",
              "Rajasthan Royals                0\n",
              "Rising Pune Supergiant          6\n",
              "Rising Pune Supergiants         0\n",
              "Royal Challengers Bangalore     9\n",
              "Sunrisers Hyderabad             5\n",
              "Name: toss_winner, dtype: int64"
            ]
          },
          "metadata": {},
          "execution_count": 131
        }
      ]
    },
    {
      "cell_type": "code",
      "source": [
        "high_toss_winning=high_toss_winning.nlargest()\n",
        "high_toss_winning.plot(kind=\"bar\")\n",
        "plt.plot()"
      ],
      "metadata": {
        "execution": {
          "iopub.status.busy": "2022-04-17T18:32:09.753153Z",
          "iopub.execute_input": "2022-04-17T18:32:09.754081Z",
          "iopub.status.idle": "2022-04-17T18:32:09.951665Z",
          "shell.execute_reply.started": "2022-04-17T18:32:09.754042Z",
          "shell.execute_reply": "2022-04-17T18:32:09.950626Z"
        },
        "trusted": true,
        "colab": {
          "base_uri": "https://localhost:8080/",
          "height": 432
        },
        "id": "RKt5Sun36ADt",
        "outputId": "1d168dc1-3491-42d6-c243-fbc5ce70d2ad"
      },
      "execution_count": 132,
      "outputs": [
        {
          "output_type": "execute_result",
          "data": {
            "text/plain": [
              "[]"
            ]
          },
          "metadata": {},
          "execution_count": 132
        },
        {
          "output_type": "display_data",
          "data": {
            "text/plain": [
              "<Figure size 432x288 with 1 Axes>"
            ],
            "image/png": "[encoded data removed]"
          },
          "metadata": {
            "needs_background": "light"
          }
        }
      ]
    },
    {
      "cell_type": "code",
      "source": [
        "toss_winner_count=matches[[\"toss_winner\"]].groupby(matches[\"toss_winner\"]).count()"
      ],
      "metadata": {
        "execution": {
          "iopub.status.busy": "2022-04-17T17:35:44.907584Z",
          "iopub.execute_input": "2022-04-17T17:35:44.908098Z",
          "iopub.status.idle": "2022-04-17T17:35:44.918980Z",
          "shell.execute_reply.started": "2022-04-17T17:35:44.908065Z",
          "shell.execute_reply": "2022-04-17T17:35:44.918106Z"
        },
        "trusted": true,
        "id": "r8zMdrwx6ADu"
      },
      "execution_count": 133,
      "outputs": []
    },
    {
      "cell_type": "code",
      "source": [
        "toss_winner_count"
      ],
      "metadata": {
        "execution": {
          "iopub.status.busy": "2022-04-17T17:35:44.920267Z",
          "iopub.execute_input": "2022-04-17T17:35:44.920515Z",
          "iopub.status.idle": "2022-04-17T17:35:44.937669Z",
          "shell.execute_reply.started": "2022-04-17T17:35:44.920487Z",
          "shell.execute_reply": "2022-04-17T17:35:44.936840Z"
        },
        "trusted": true,
        "colab": {
          "base_uri": "https://localhost:8080/",
          "height": 520
        },
        "id": "v2TunvrN6ADv",
        "outputId": "e6b4700d-3d1b-449a-ff0b-917c7ec02a92"
      },
      "execution_count": 134,
      "outputs": [
        {
          "output_type": "execute_result",
          "data": {
            "text/plain": [
              "                             toss_winner\n",
              "toss_winner                             \n",
              "Chennai Super Kings                   66\n",
              "Deccan Chargers                       43\n",
              "Delhi Daredevils                      72\n",
              "Gujarat Lions                         15\n",
              "Kings XI Punjab                       68\n",
              "Kochi Tuskers Kerala                   8\n",
              "Kolkata Knight Riders                 78\n",
              "Mumbai Indians                        85\n",
              "Pune Warriors                         20\n",
              "Rajasthan Royals                      63\n",
              "Rising Pune Supergiant                 6\n",
              "Rising Pune Supergiants                7\n",
              "Royal Challengers Bangalore           70\n",
              "Sunrisers Hyderabad                   35"
            ],
            "text/html": [
              "\n",
              "  <div id=\"df-16f89532-5392-4bc0-92ed-616459700991\">\n",
              "    <div class=\"colab-df-container\">\n",
              "      <div>\n",
              "<style scoped>\n",
              "    .dataframe tbody tr th:only-of-type {\n",
              "        vertical-align: middle;\n",
              "    }\n",
              "\n",
              "    .dataframe tbody tr th {\n",
              "        vertical-align: top;\n",
              "    }\n",
              "\n",
              "    .dataframe thead th {\n",
              "        text-align: right;\n",
              "    }\n",
              "</style>\n",
              "<table border=\"1\" class=\"dataframe\">\n",
              "  <thead>\n",
              "    <tr style=\"text-align: right;\">\n",
              "      <th></th>\n",
              "      <th>toss_winner</th>\n",
              "    </tr>\n",
              "    <tr>\n",
              "      <th>toss_winner</th>\n",
              "      <th></th>\n",
              "    </tr>\n",
              "  </thead>\n",
              "  <tbody>\n",
              "    <tr>\n",
              "      <th>Chennai Super Kings</th>\n",
              "      <td>66</td>\n",
              "    </tr>\n",
              "    <tr>\n",
              "      <th>Deccan Chargers</th>\n",
              "      <td>43</td>\n",
              "    </tr>\n",
              "    <tr>\n",
              "      <th>Delhi Daredevils</th>\n",
              "      <td>72</td>\n",
              "    </tr>\n",
              "    <tr>\n",
              "      <th>Gujarat Lions</th>\n",
              "      <td>15</td>\n",
              "    </tr>\n",
              "    <tr>\n",
              "      <th>Kings XI Punjab</th>\n",
              "      <td>68</td>\n",
              "    </tr>\n",
              "    <tr>\n",
              "      <th>Kochi Tuskers Kerala</th>\n",
              "      <td>8</td>\n",
              "    </tr>\n",
              "    <tr>\n",
              "      <th>Kolkata Knight Riders</th>\n",
              "      <td>78</td>\n",
              "    </tr>\n",
              "    <tr>\n",
              "      <th>Mumbai Indians</th>\n",
              "      <td>85</td>\n",
              "    </tr>\n",
              "    <tr>\n",
              "      <th>Pune Warriors</th>\n",
              "      <td>20</td>\n",
              "    </tr>\n",
              "    <tr>\n",
              "      <th>Rajasthan Royals</th>\n",
              "      <td>63</td>\n",
              "    </tr>\n",
              "    <tr>\n",
              "      <th>Rising Pune Supergiant</th>\n",
              "      <td>6</td>\n",
              "    </tr>\n",
              "    <tr>\n",
              "      <th>Rising Pune Supergiants</th>\n",
              "      <td>7</td>\n",
              "    </tr>\n",
              "    <tr>\n",
              "      <th>Royal Challengers Bangalore</th>\n",
              "      <td>70</td>\n",
              "    </tr>\n",
              "    <tr>\n",
              "      <th>Sunrisers Hyderabad</th>\n",
              "      <td>35</td>\n",
              "    </tr>\n",
              "  </tbody>\n",
              "</table>\n",
              "</div>\n",
              "      <button class=\"colab-df-convert\" onclick=\"convertToInteractive('df-16f89532-5392-4bc0-92ed-616459700991')\"\n",
              "              title=\"Convert this dataframe to an interactive table.\"\n",
              "              style=\"display:none;\">\n",
              "        \n",
              "  <svg xmlns=\"http://www.w3.org/2000/svg\" height=\"24px\"viewBox=\"0 0 24 24\"\n",
              "       width=\"24px\">\n",
              "    <path d=\"M0 0h24v24H0V0z\" fill=\"none\"/>\n",
              "    <path d=\"M18.56 5.44l.94 2.06.94-2.06 2.06-.94-2.06-.94-.94-2.06-.94 2.06-2.06.94zm-11 1L8.5 8.5l.94-2.06 2.06-.94-2.06-.94L8.5 2.5l-.94 2.06-2.06.94zm10 10l.94 2.06.94-2.06 2.06-.94-2.06-.94-.94-2.06-.94 2.06-2.06.94z\"/><path d=\"M17.41 7.96l-1.37-1.37c-.4-.4-.92-.59-1.43-.59-.52 0-1.04.2-1.43.59L10.3 9.45l-7.72 7.72c-.78.78-.78 2.05 0 2.83L4 21.41c.39.39.9.59 1.41.59.51 0 1.02-.2 1.41-.59l7.78-7.78 2.81-2.81c.8-.78.8-2.07 0-2.86zM5.41 20L4 18.59l7.72-7.72 1.47 1.35L5.41 20z\"/>\n",
              "  </svg>\n",
              "      </button>\n",
              "      \n",
              "  <style>\n",
              "    .colab-df-container {\n",
              "      display:flex;\n",
              "      flex-wrap:wrap;\n",
              "      gap: 12px;\n",
              "    }\n",
              "\n",
              "    .colab-df-convert {\n",
              "      background-color: #E8F0FE;\n",
              "      border: none;\n",
              "      border-radius: 50%;\n",
              "      cursor: pointer;\n",
              "      display: none;\n",
              "      fill: #1967D2;\n",
              "      height: 32px;\n",
              "      padding: 0 0 0 0;\n",
              "      width: 32px;\n",
              "    }\n",
              "\n",
              "    .colab-df-convert:hover {\n",
              "      background-color: #E2EBFA;\n",
              "      box-shadow: 0px 1px 2px rgba(60, 64, 67, 0.3), 0px 1px 3px 1px rgba(60, 64, 67, 0.15);\n",
              "      fill: #174EA6;\n",
              "    }\n",
              "\n",
              "    [theme=dark] .colab-df-convert {\n",
              "      background-color: #3B4455;\n",
              "      fill: #D2E3FC;\n",
              "    }\n",
              "\n",
              "    [theme=dark] .colab-df-convert:hover {\n",
              "      background-color: #434B5C;\n",
              "      box-shadow: 0px 1px 3px 1px rgba(0, 0, 0, 0.15);\n",
              "      filter: drop-shadow(0px 1px 2px rgba(0, 0, 0, 0.3));\n",
              "      fill: #FFFFFF;\n",
              "    }\n",
              "  </style>\n",
              "\n",
              "      <script>\n",
              "        const buttonEl =\n",
              "          document.querySelector('#df-16f89532-5392-4bc0-92ed-616459700991 button.colab-df-convert');\n",
              "        buttonEl.style.display =\n",
              "          google.colab.kernel.accessAllowed ? 'block' : 'none';\n",
              "\n",
              "        async function convertToInteractive(key) {\n",
              "          const element = document.querySelector('#df-16f89532-5392-4bc0-92ed-616459700991');\n",
              "          const dataTable =\n",
              "            await google.colab.kernel.invokeFunction('convertToInteractive',\n",
              "                                                     [key], {});\n",
              "          if (!dataTable) return;\n",
              "\n",
              "          const docLinkHtml = 'Like what you see? Visit the ' +\n",
              "            '<a target=\"_blank\" href=https://colab.research.google.com/notebooks/data_table.ipynb>data table notebook</a>'\n",
              "            + ' to learn more about interactive tables.';\n",
              "          element.innerHTML = '';\n",
              "          dataTable['output_type'] = 'display_data';\n",
              "          await google.colab.output.renderOutput(dataTable, element);\n",
              "          const docLink = document.createElement('div');\n",
              "          docLink.innerHTML = docLinkHtml;\n",
              "          element.appendChild(docLink);\n",
              "        }\n",
              "      </script>\n",
              "    </div>\n",
              "  </div>\n",
              "  "
            ]
          },
          "metadata": {},
          "execution_count": 134
        }
      ]
    },
    {
      "cell_type": "code",
      "source": [
        "seasons=matches[[\"winner\",\"toss_winner\"]].groupby(matches[\"toss_winner\"]).count()"
      ],
      "metadata": {
        "execution": {
          "iopub.status.busy": "2022-04-17T17:35:44.938978Z",
          "iopub.execute_input": "2022-04-17T17:35:44.939963Z",
          "iopub.status.idle": "2022-04-17T17:35:44.947843Z",
          "shell.execute_reply.started": "2022-04-17T17:35:44.939919Z",
          "shell.execute_reply": "2022-04-17T17:35:44.946916Z"
        },
        "trusted": true,
        "id": "lXkTFVVY6ADw"
      },
      "execution_count": 135,
      "outputs": []
    },
    {
      "cell_type": "markdown",
      "source": [
        ""
      ],
      "metadata": {
        "id": "hXQzaWiC6ADx"
      }
    },
    {
      "cell_type": "code",
      "source": [
        "match_winner=matches[\"toss_winner\"].value_counts()\n"
      ],
      "metadata": {
        "execution": {
          "iopub.status.busy": "2022-04-17T18:35:33.763642Z",
          "iopub.execute_input": "2022-04-17T18:35:33.764478Z",
          "iopub.status.idle": "2022-04-17T18:35:33.769653Z",
          "shell.execute_reply.started": "2022-04-17T18:35:33.764412Z",
          "shell.execute_reply": "2022-04-17T18:35:33.768774Z"
        },
        "trusted": true,
        "id": "fNgNlbSi6ADy"
      },
      "execution_count": 136,
      "outputs": []
    },
    {
      "cell_type": "code",
      "source": [
        "match_winner"
      ],
      "metadata": {
        "trusted": true,
        "colab": {
          "base_uri": "https://localhost:8080/"
        },
        "id": "Weqgtub_6ADy",
        "outputId": "8d65fc68-f918-497d-a52c-641d36b5b644"
      },
      "execution_count": 137,
      "outputs": [
        {
          "output_type": "execute_result",
          "data": {
            "text/plain": [
              "Mumbai Indians                 85\n",
              "Kolkata Knight Riders          78\n",
              "Delhi Daredevils               72\n",
              "Royal Challengers Bangalore    70\n",
              "Kings XI Punjab                68\n",
              "Chennai Super Kings            66\n",
              "Rajasthan Royals               63\n",
              "Deccan Chargers                43\n",
              "Sunrisers Hyderabad            35\n",
              "Pune Warriors                  20\n",
              "Gujarat Lions                  15\n",
              "Kochi Tuskers Kerala            8\n",
              "Rising Pune Supergiants         7\n",
              "Rising Pune Supergiant          6\n",
              "Name: toss_winner, dtype: int64"
            ]
          },
          "metadata": {},
          "execution_count": 137
        }
      ]
    },
    {
      "cell_type": "code",
      "source": [
        "match_winner=pd.DataFrame(match_winner)"
      ],
      "metadata": {
        "execution": {
          "iopub.status.busy": "2022-04-17T17:35:44.975722Z",
          "iopub.execute_input": "2022-04-17T17:35:44.976199Z",
          "iopub.status.idle": "2022-04-17T17:35:44.984656Z",
          "shell.execute_reply.started": "2022-04-17T17:35:44.976158Z",
          "shell.execute_reply": "2022-04-17T17:35:44.983759Z"
        },
        "trusted": true,
        "id": "YSTKw3cX6ADz"
      },
      "execution_count": 138,
      "outputs": []
    },
    {
      "cell_type": "code",
      "source": [
        "\n",
        "match_winner.plot(figsize=(12,13),kind=\"pie\",title=\"match_winner\",subplots=True)\n",
        "plt.show()"
      ],
      "metadata": {
        "execution": {
          "iopub.status.busy": "2022-04-17T18:36:29.344838Z",
          "iopub.execute_input": "2022-04-17T18:36:29.345271Z",
          "iopub.status.idle": "2022-04-17T18:36:29.606687Z",
          "shell.execute_reply.started": "2022-04-17T18:36:29.345240Z",
          "shell.execute_reply": "2022-04-17T18:36:29.606068Z"
        },
        "trusted": true,
        "colab": {
          "base_uri": "https://localhost:8080/",
          "height": 813
        },
        "id": "IVmqJVeU6AD0",
        "outputId": "183ce0e1-a9e2-4ae0-f962-f1c3b2b53e7a"
      },
      "execution_count": 139,
      "outputs": [
        {
          "output_type": "display_data",
          "data": {
            "text/plain": [
              "<Figure size 864x936 with 1 Axes>"
            ],
            "image/png": "[encoded data removed]"
          },
          "metadata": {}
        }
      ]
    },
    {
      "cell_type": "code",
      "source": [
        "count_winning=count_winning.reset_index()"
      ],
      "metadata": {
        "execution": {
          "iopub.status.busy": "2022-04-17T18:37:58.563823Z",
          "iopub.execute_input": "2022-04-17T18:37:58.564103Z",
          "iopub.status.idle": "2022-04-17T18:37:58.569555Z",
          "shell.execute_reply.started": "2022-04-17T18:37:58.564072Z",
          "shell.execute_reply": "2022-04-17T18:37:58.568760Z"
        },
        "trusted": true,
        "id": "eX2fOXc46AD1"
      },
      "execution_count": 140,
      "outputs": []
    },
    {
      "cell_type": "code",
      "source": [
        "count_winning"
      ],
      "metadata": {
        "execution": {
          "iopub.status.busy": "2022-04-17T18:38:35.273994Z",
          "iopub.execute_input": "2022-04-17T18:38:35.274314Z",
          "iopub.status.idle": "2022-04-17T18:38:35.283574Z",
          "shell.execute_reply.started": "2022-04-17T18:38:35.274266Z",
          "shell.execute_reply": "2022-04-17T18:38:35.282810Z"
        },
        "trusted": true,
        "colab": {
          "base_uri": "https://localhost:8080/",
          "height": 488
        },
        "id": "usRlOZlM6AD1",
        "outputId": "c9b0e45d-1034-4426-8768-92ec0f12b625"
      },
      "execution_count": 141,
      "outputs": [
        {
          "output_type": "execute_result",
          "data": {
            "text/plain": [
              "                    toss_winner  winner\n",
              "0           Chennai Super Kings      66\n",
              "1               Deccan Chargers      43\n",
              "2              Delhi Daredevils      71\n",
              "3                 Gujarat Lions      15\n",
              "4               Kings XI Punjab      68\n",
              "5          Kochi Tuskers Kerala       8\n",
              "6         Kolkata Knight Riders      78\n",
              "7                Mumbai Indians      85\n",
              "8                 Pune Warriors      20\n",
              "9              Rajasthan Royals      62\n",
              "10       Rising Pune Supergiant       6\n",
              "11      Rising Pune Supergiants       7\n",
              "12  Royal Challengers Bangalore      69\n",
              "13          Sunrisers Hyderabad      35"
            ],
            "text/html": [
              "\n",
              "  <div id=\"df-74cf3039-8b73-42c5-9283-c9fa2124c00d\">\n",
              "    <div class=\"colab-df-container\">\n",
              "      <div>\n",
              "<style scoped>\n",
              "    .dataframe tbody tr th:only-of-type {\n",
              "        vertical-align: middle;\n",
              "    }\n",
              "\n",
              "    .dataframe tbody tr th {\n",
              "        vertical-align: top;\n",
              "    }\n",
              "\n",
              "    .dataframe thead th {\n",
              "        text-align: right;\n",
              "    }\n",
              "</style>\n",
              "<table border=\"1\" class=\"dataframe\">\n",
              "  <thead>\n",
              "    <tr style=\"text-align: right;\">\n",
              "      <th></th>\n",
              "      <th>toss_winner</th>\n",
              "      <th>winner</th>\n",
              "    </tr>\n",
              "  </thead>\n",
              "  <tbody>\n",
              "    <tr>\n",
              "      <th>0</th>\n",
              "      <td>Chennai Super Kings</td>\n",
              "      <td>66</td>\n",
              "    </tr>\n",
              "    <tr>\n",
              "      <th>1</th>\n",
              "      <td>Deccan Chargers</td>\n",
              "      <td>43</td>\n",
              "    </tr>\n",
              "    <tr>\n",
              "      <th>2</th>\n",
              "      <td>Delhi Daredevils</td>\n",
              "      <td>71</td>\n",
              "    </tr>\n",
              "    <tr>\n",
              "      <th>3</th>\n",
              "      <td>Gujarat Lions</td>\n",
              "      <td>15</td>\n",
              "    </tr>\n",
              "    <tr>\n",
              "      <th>4</th>\n",
              "      <td>Kings XI Punjab</td>\n",
              "      <td>68</td>\n",
              "    </tr>\n",
              "    <tr>\n",
              "      <th>5</th>\n",
              "      <td>Kochi Tuskers Kerala</td>\n",
              "      <td>8</td>\n",
              "    </tr>\n",
              "    <tr>\n",
              "      <th>6</th>\n",
              "      <td>Kolkata Knight Riders</td>\n",
              "      <td>78</td>\n",
              "    </tr>\n",
              "    <tr>\n",
              "      <th>7</th>\n",
              "      <td>Mumbai Indians</td>\n",
              "      <td>85</td>\n",
              "    </tr>\n",
              "    <tr>\n",
              "      <th>8</th>\n",
              "      <td>Pune Warriors</td>\n",
              "      <td>20</td>\n",
              "    </tr>\n",
              "    <tr>\n",
              "      <th>9</th>\n",
              "      <td>Rajasthan Royals</td>\n",
              "      <td>62</td>\n",
              "    </tr>\n",
              "    <tr>\n",
              "      <th>10</th>\n",
              "      <td>Rising Pune Supergiant</td>\n",
              "      <td>6</td>\n",
              "    </tr>\n",
              "    <tr>\n",
              "      <th>11</th>\n",
              "      <td>Rising Pune Supergiants</td>\n",
              "      <td>7</td>\n",
              "    </tr>\n",
              "    <tr>\n",
              "      <th>12</th>\n",
              "      <td>Royal Challengers Bangalore</td>\n",
              "      <td>69</td>\n",
              "    </tr>\n",
              "    <tr>\n",
              "      <th>13</th>\n",
              "      <td>Sunrisers Hyderabad</td>\n",
              "      <td>35</td>\n",
              "    </tr>\n",
              "  </tbody>\n",
              "</table>\n",
              "</div>\n",
              "      <button class=\"colab-df-convert\" onclick=\"convertToInteractive('df-74cf3039-8b73-42c5-9283-c9fa2124c00d')\"\n",
              "              title=\"Convert this dataframe to an interactive table.\"\n",
              "              style=\"display:none;\">\n",
              "        \n",
              "  <svg xmlns=\"http://www.w3.org/2000/svg\" height=\"24px\"viewBox=\"0 0 24 24\"\n",
              "       width=\"24px\">\n",
              "    <path d=\"M0 0h24v24H0V0z\" fill=\"none\"/>\n",
              "    <path d=\"M18.56 5.44l.94 2.06.94-2.06 2.06-.94-2.06-.94-.94-2.06-.94 2.06-2.06.94zm-11 1L8.5 8.5l.94-2.06 2.06-.94-2.06-.94L8.5 2.5l-.94 2.06-2.06.94zm10 10l.94 2.06.94-2.06 2.06-.94-2.06-.94-.94-2.06-.94 2.06-2.06.94z\"/><path d=\"M17.41 7.96l-1.37-1.37c-.4-.4-.92-.59-1.43-.59-.52 0-1.04.2-1.43.59L10.3 9.45l-7.72 7.72c-.78.78-.78 2.05 0 2.83L4 21.41c.39.39.9.59 1.41.59.51 0 1.02-.2 1.41-.59l7.78-7.78 2.81-2.81c.8-.78.8-2.07 0-2.86zM5.41 20L4 18.59l7.72-7.72 1.47 1.35L5.41 20z\"/>\n",
              "  </svg>\n",
              "      </button>\n",
              "      \n",
              "  <style>\n",
              "    .colab-df-container {\n",
              "      display:flex;\n",
              "      flex-wrap:wrap;\n",
              "      gap: 12px;\n",
              "    }\n",
              "\n",
              "    .colab-df-convert {\n",
              "      background-color: #E8F0FE;\n",
              "      border: none;\n",
              "      border-radius: 50%;\n",
              "      cursor: pointer;\n",
              "      display: none;\n",
              "      fill: #1967D2;\n",
              "      height: 32px;\n",
              "      padding: 0 0 0 0;\n",
              "      width: 32px;\n",
              "    }\n",
              "\n",
              "    .colab-df-convert:hover {\n",
              "      background-color: #E2EBFA;\n",
              "      box-shadow: 0px 1px 2px rgba(60, 64, 67, 0.3), 0px 1px 3px 1px rgba(60, 64, 67, 0.15);\n",
              "      fill: #174EA6;\n",
              "    }\n",
              "\n",
              "    [theme=dark] .colab-df-convert {\n",
              "      background-color: #3B4455;\n",
              "      fill: #D2E3FC;\n",
              "    }\n",
              "\n",
              "    [theme=dark] .colab-df-convert:hover {\n",
              "      background-color: #434B5C;\n",
              "      box-shadow: 0px 1px 3px 1px rgba(0, 0, 0, 0.15);\n",
              "      filter: drop-shadow(0px 1px 2px rgba(0, 0, 0, 0.3));\n",
              "      fill: #FFFFFF;\n",
              "    }\n",
              "  </style>\n",
              "\n",
              "      <script>\n",
              "        const buttonEl =\n",
              "          document.querySelector('#df-74cf3039-8b73-42c5-9283-c9fa2124c00d button.colab-df-convert');\n",
              "        buttonEl.style.display =\n",
              "          google.colab.kernel.accessAllowed ? 'block' : 'none';\n",
              "\n",
              "        async function convertToInteractive(key) {\n",
              "          const element = document.querySelector('#df-74cf3039-8b73-42c5-9283-c9fa2124c00d');\n",
              "          const dataTable =\n",
              "            await google.colab.kernel.invokeFunction('convertToInteractive',\n",
              "                                                     [key], {});\n",
              "          if (!dataTable) return;\n",
              "\n",
              "          const docLinkHtml = 'Like what you see? Visit the ' +\n",
              "            '<a target=\"_blank\" href=https://colab.research.google.com/notebooks/data_table.ipynb>data table notebook</a>'\n",
              "            + ' to learn more about interactive tables.';\n",
              "          element.innerHTML = '';\n",
              "          dataTable['output_type'] = 'display_data';\n",
              "          await google.colab.output.renderOutput(dataTable, element);\n",
              "          const docLink = document.createElement('div');\n",
              "          docLink.innerHTML = docLinkHtml;\n",
              "          element.appendChild(docLink);\n",
              "        }\n",
              "      </script>\n",
              "    </div>\n",
              "  </div>\n",
              "  "
            ]
          },
          "metadata": {},
          "execution_count": 141
        }
      ]
    },
    {
      "cell_type": "code",
      "source": [
        "count_winning.plot(figsize=(10,10),x=\"toss_winner\",y=\"winner\",kind=\"scatter\",rot=45)\n",
        "plt.show()"
      ],
      "metadata": {
        "execution": {
          "iopub.status.busy": "2022-04-17T18:40:14.923737Z",
          "iopub.execute_input": "2022-04-17T18:40:14.924173Z",
          "iopub.status.idle": "2022-04-17T18:40:15.137749Z",
          "shell.execute_reply.started": "2022-04-17T18:40:14.924141Z",
          "shell.execute_reply": "2022-04-17T18:40:15.136871Z"
        },
        "trusted": true,
        "colab": {
          "base_uri": "https://localhost:8080/",
          "height": 705
        },
        "id": "s8xAJT6N6AD2",
        "outputId": "e0e47c5f-5cee-4f11-c3d2-575bcfbddd4a"
      },
      "execution_count": 142,
      "outputs": [
        {
          "output_type": "display_data",
          "data": {
            "text/plain": [
              "<Figure size 720x720 with 1 Axes>"
            ],
            "image/png": "[encoded data removed]"
          },
          "metadata": {
            "needs_background": "light"
          }
        }
      ]
    },
    {
      "cell_type": "code",
      "source": [
        "count_winning=pd.DataFrame(count_winning)"
      ],
      "metadata": {
        "execution": {
          "iopub.status.busy": "2022-04-17T17:35:45.480404Z",
          "iopub.execute_input": "2022-04-17T17:35:45.480729Z",
          "iopub.status.idle": "2022-04-17T17:35:45.486492Z",
          "shell.execute_reply.started": "2022-04-17T17:35:45.480672Z",
          "shell.execute_reply": "2022-04-17T17:35:45.485429Z"
        },
        "trusted": true,
        "id": "KGxlFVpO6AD2"
      },
      "execution_count": 143,
      "outputs": []
    },
    {
      "cell_type": "code",
      "source": [
        "\n",
        "count_winning=count_winning.sort_values(\"winner\")\n",
        "count_winning.plot.barh(figsize = (15,10))\n",
        "plt.xlabel(\"Count_of_toss_winner_win_the_match\")\n",
        "plt.show()\n"
      ],
      "metadata": {
        "execution": {
          "iopub.status.busy": "2022-04-17T17:35:45.488376Z",
          "iopub.execute_input": "2022-04-17T17:35:45.488714Z",
          "iopub.status.idle": "2022-04-17T17:35:45.815745Z",
          "shell.execute_reply.started": "2022-04-17T17:35:45.488654Z",
          "shell.execute_reply": "2022-04-17T17:35:45.815107Z"
        },
        "trusted": true,
        "colab": {
          "base_uri": "https://localhost:8080/",
          "height": 606
        },
        "id": "FrF77Ln16AD3",
        "outputId": "ed2fd1bc-1d21-4e5a-a2ff-81827c087fe9"
      },
      "execution_count": 144,
      "outputs": [
        {
          "output_type": "display_data",
          "data": {
            "text/plain": [
              "<Figure size 1080x720 with 1 Axes>"
            ],
            "image/png": "[encoded data removed]"
          },
          "metadata": {
            "needs_background": "light"
          }
        }
      ]
    },
    {
      "cell_type": "code",
      "source": [
        "toss_winner=matches[\"toss_winner\"].value_counts()\n",
        "toss_winner"
      ],
      "metadata": {
        "execution": {
          "iopub.status.busy": "2022-04-17T17:35:45.816660Z",
          "iopub.execute_input": "2022-04-17T17:35:45.817227Z",
          "iopub.status.idle": "2022-04-17T17:35:45.824625Z",
          "shell.execute_reply.started": "2022-04-17T17:35:45.817196Z",
          "shell.execute_reply": "2022-04-17T17:35:45.823540Z"
        },
        "trusted": true,
        "colab": {
          "base_uri": "https://localhost:8080/"
        },
        "id": "I2n_Es0j6AD3",
        "outputId": "44a4b2ea-a974-464f-97ec-20662a728152"
      },
      "execution_count": 145,
      "outputs": [
        {
          "output_type": "execute_result",
          "data": {
            "text/plain": [
              "Mumbai Indians                 85\n",
              "Kolkata Knight Riders          78\n",
              "Delhi Daredevils               72\n",
              "Royal Challengers Bangalore    70\n",
              "Kings XI Punjab                68\n",
              "Chennai Super Kings            66\n",
              "Rajasthan Royals               63\n",
              "Deccan Chargers                43\n",
              "Sunrisers Hyderabad            35\n",
              "Pune Warriors                  20\n",
              "Gujarat Lions                  15\n",
              "Kochi Tuskers Kerala            8\n",
              "Rising Pune Supergiants         7\n",
              "Rising Pune Supergiant          6\n",
              "Name: toss_winner, dtype: int64"
            ]
          },
          "metadata": {},
          "execution_count": 145
        }
      ]
    },
    {
      "cell_type": "code",
      "source": [
        ""
      ],
      "metadata": {
        "id": "smOmc9hP6AD4"
      },
      "execution_count": 145,
      "outputs": []
    },
    {
      "cell_type": "code",
      "source": [
        ""
      ],
      "metadata": {
        "id": "RgDDFpsJ6AD4"
      },
      "execution_count": 145,
      "outputs": []
    },
    {
      "cell_type": "code",
      "source": [
        ""
      ],
      "metadata": {
        "id": "kcZ4QSrC6AD4"
      },
      "execution_count": 145,
      "outputs": []
    },
    {
      "cell_type": "code",
      "source": [
        ""
      ],
      "metadata": {
        "id": "Iq1cEKiS6AD4"
      },
      "execution_count": 145,
      "outputs": []
    },
    {
      "cell_type": "code",
      "source": [
        ""
      ],
      "metadata": {
        "id": "0VX8AEo56AD5"
      },
      "execution_count": 145,
      "outputs": []
    },
    {
      "cell_type": "code",
      "source": [
        ""
      ],
      "metadata": {
        "id": "RKXZvIJs6AD5"
      },
      "execution_count": 145,
      "outputs": []
    },
    {
      "cell_type": "code",
      "source": [
        ""
      ],
      "metadata": {
        "id": "tE33gKOG6AD5"
      },
      "execution_count": 145,
      "outputs": []
    },
    {
      "cell_type": "code",
      "source": [
        ""
      ],
      "metadata": {
        "id": "rwMaKklY6AD6"
      },
      "execution_count": 145,
      "outputs": []
    },
    {
      "cell_type": "code",
      "source": [
        ""
      ],
      "metadata": {
        "id": "38FJ25AE6AD6"
      },
      "execution_count": 145,
      "outputs": []
    },
    {
      "cell_type": "code",
      "source": [
        ""
      ],
      "metadata": {
        "id": "VSGW57_q6AD6"
      },
      "execution_count": 145,
      "outputs": []
    },
    {
      "cell_type": "code",
      "source": [
        ""
      ],
      "metadata": {
        "id": "Q4enmIlZ6AD7"
      },
      "execution_count": 145,
      "outputs": []
    },
    {
      "cell_type": "code",
      "source": [
        ""
      ],
      "metadata": {
        "id": "Csl2KPEL6AD7"
      },
      "execution_count": 145,
      "outputs": []
    },
    {
      "cell_type": "code",
      "source": [
        ""
      ],
      "metadata": {
        "id": "h5P-RMvc6AD7"
      },
      "execution_count": 145,
      "outputs": []
    },
    {
      "cell_type": "code",
      "source": [
        ""
      ],
      "metadata": {
        "id": "FJYODpDj6AD7"
      },
      "execution_count": 145,
      "outputs": []
    },
    {
      "cell_type": "code",
      "source": [
        ""
      ],
      "metadata": {
        "id": "bsgyZknx6AD7"
      },
      "execution_count": 145,
      "outputs": []
    },
    {
      "cell_type": "markdown",
      "source": [
        "# Contents\n",
        "1. 1. \n",
        "1. **1 Introduction\n",
        "1. 2 Importing Libraries\n",
        "1. 3 IPL Dataset\n",
        "1. 3.1 Importing IPL Dataset\n",
        "1. 3.2 Checking IPL Dataset Attributes\n",
        "1. 4 IPL Data Analysis and Visualization with Python\n",
        "1. 5 i) General Analysis of IPL Matches \n",
        "1. 5.1 1. List of Seasons\n",
        "1. 5.2 2. First ball of IPL history\n",
        "1. 5.3 3. Season Wise IPL Matches\n",
        "1. 5.4 4. Most IPL Matches played in a Venue\n",
        "1. 5.5 5. IPL Matches Played by Each Team**"
      ],
      "metadata": {
        "id": "fqomcyCL6AD8"
      }
    },
    {
      "cell_type": "code",
      "source": [
        ""
      ],
      "metadata": {
        "id": "S0Bms0I86AD8"
      },
      "execution_count": 145,
      "outputs": []
    },
    {
      "cell_type": "markdown",
      "source": [
        "#1.List of Seasons"
      ],
      "metadata": {
        "id": "DB6ZiHUj6AD8"
      }
    },
    {
      "cell_type": "code",
      "source": [
        "df.groupby(\"season\")[\"season\"].count()"
      ],
      "metadata": {
        "execution": {
          "iopub.status.busy": "2022-04-17T17:35:45.840420Z",
          "iopub.status.idle": "2022-04-17T17:35:45.840911Z",
          "shell.execute_reply.started": "2022-04-17T17:35:45.840729Z",
          "shell.execute_reply": "2022-04-17T17:35:45.840751Z"
        },
        "trusted": true,
        "colab": {
          "base_uri": "https://localhost:8080/"
        },
        "id": "YpLdid7v6AD9",
        "outputId": "d342810c-ed55-4da2-e9ad-51377004ea3a"
      },
      "execution_count": 146,
      "outputs": [
        {
          "output_type": "execute_result",
          "data": {
            "text/plain": [
              "season\n",
              "2008    58\n",
              "2009    57\n",
              "2010    60\n",
              "2011    73\n",
              "2012    74\n",
              "2013    76\n",
              "2014    60\n",
              "2015    59\n",
              "2016    60\n",
              "2017    59\n",
              "Name: season, dtype: int64"
            ]
          },
          "metadata": {},
          "execution_count": 146
        }
      ]
    },
    {
      "cell_type": "code",
      "source": [
        "df=pd.read_csv(\"/content/matches.csv\")"
      ],
      "metadata": {
        "execution": {
          "iopub.status.busy": "2022-04-17T17:35:55.090588Z",
          "iopub.execute_input": "2022-04-17T17:35:55.090890Z",
          "iopub.status.idle": "2022-04-17T17:35:55.101281Z",
          "shell.execute_reply.started": "2022-04-17T17:35:55.090853Z",
          "shell.execute_reply": "2022-04-17T17:35:55.100640Z"
        },
        "trusted": true,
        "id": "N6PcIpvd6AEA"
      },
      "execution_count": 147,
      "outputs": []
    },
    {
      "cell_type": "code",
      "source": [
        "df"
      ],
      "metadata": {
        "execution": {
          "iopub.status.busy": "2022-04-17T17:35:45.843187Z",
          "iopub.status.idle": "2022-04-17T17:35:45.843596Z",
          "shell.execute_reply.started": "2022-04-17T17:35:45.843432Z",
          "shell.execute_reply": "2022-04-17T17:35:45.843449Z"
        },
        "trusted": true,
        "colab": {
          "base_uri": "https://localhost:8080/",
          "height": 904
        },
        "id": "8McqNKRo6AEA",
        "outputId": "a3d0585e-4eab-4276-82ad-b3d71602284c"
      },
      "execution_count": 148,
      "outputs": [
        {
          "output_type": "execute_result",
          "data": {
            "text/plain": [
              "      id  season       city       date                        team1  \\\n",
              "0      1    2017  Hyderabad   4/5/2017          Sunrisers Hyderabad   \n",
              "1      2    2017       Pune   4/6/2017               Mumbai Indians   \n",
              "2      3    2017     Rajkot   4/7/2017                Gujarat Lions   \n",
              "3      4    2017     Indore   4/8/2017       Rising Pune Supergiant   \n",
              "4      5    2017  Bangalore   4/8/2017  Royal Challengers Bangalore   \n",
              "..   ...     ...        ...        ...                          ...   \n",
              "631  632    2016     Raipur  5/22/2016             Delhi Daredevils   \n",
              "632  633    2016  Bangalore  5/24/2016                Gujarat Lions   \n",
              "633  634    2016      Delhi  5/25/2016          Sunrisers Hyderabad   \n",
              "634  635    2016      Delhi  5/27/2016                Gujarat Lions   \n",
              "635  636    2016  Bangalore  5/29/2016          Sunrisers Hyderabad   \n",
              "\n",
              "                           team2                  toss_winner toss_decision  \\\n",
              "0    Royal Challengers Bangalore  Royal Challengers Bangalore         field   \n",
              "1         Rising Pune Supergiant       Rising Pune Supergiant         field   \n",
              "2          Kolkata Knight Riders        Kolkata Knight Riders         field   \n",
              "3                Kings XI Punjab              Kings XI Punjab         field   \n",
              "4               Delhi Daredevils  Royal Challengers Bangalore           bat   \n",
              "..                           ...                          ...           ...   \n",
              "631  Royal Challengers Bangalore  Royal Challengers Bangalore         field   \n",
              "632  Royal Challengers Bangalore  Royal Challengers Bangalore         field   \n",
              "633        Kolkata Knight Riders        Kolkata Knight Riders         field   \n",
              "634          Sunrisers Hyderabad          Sunrisers Hyderabad         field   \n",
              "635  Royal Challengers Bangalore          Sunrisers Hyderabad           bat   \n",
              "\n",
              "     result  dl_applied                       winner  win_by_runs  \\\n",
              "0    normal           0          Sunrisers Hyderabad           35   \n",
              "1    normal           0       Rising Pune Supergiant            0   \n",
              "2    normal           0        Kolkata Knight Riders            0   \n",
              "3    normal           0              Kings XI Punjab            0   \n",
              "4    normal           0  Royal Challengers Bangalore           15   \n",
              "..      ...         ...                          ...          ...   \n",
              "631  normal           0  Royal Challengers Bangalore            0   \n",
              "632  normal           0  Royal Challengers Bangalore            0   \n",
              "633  normal           0          Sunrisers Hyderabad           22   \n",
              "634  normal           0          Sunrisers Hyderabad            0   \n",
              "635  normal           0          Sunrisers Hyderabad            8   \n",
              "\n",
              "     win_by_wickets player_of_match  \\\n",
              "0                 0    Yuvraj Singh   \n",
              "1                 7       SPD Smith   \n",
              "2                10         CA Lynn   \n",
              "3                 6      GJ Maxwell   \n",
              "4                 0       KM Jadhav   \n",
              "..              ...             ...   \n",
              "631               6         V Kohli   \n",
              "632               4  AB de Villiers   \n",
              "633               0    MC Henriques   \n",
              "634               4       DA Warner   \n",
              "635               0     BCJ Cutting   \n",
              "\n",
              "                                                venue          umpire1  \\\n",
              "0           Rajiv Gandhi International Stadium, Uppal      AY Dandekar   \n",
              "1             Maharashtra Cricket Association Stadium   A Nand Kishore   \n",
              "2              Saurashtra Cricket Association Stadium      Nitin Menon   \n",
              "3                              Holkar Cricket Stadium     AK Chaudhary   \n",
              "4                               M Chinnaswamy Stadium              NaN   \n",
              "..                                                ...              ...   \n",
              "631  Shaheed Veer Narayan Singh International Stadium   A Nand Kishore   \n",
              "632                             M Chinnaswamy Stadium     AK Chaudhary   \n",
              "633                                  Feroz Shah Kotla        M Erasmus   \n",
              "634                                  Feroz Shah Kotla        M Erasmus   \n",
              "635                             M Chinnaswamy Stadium  HDPK Dharmasena   \n",
              "\n",
              "             umpire2  umpire3  \n",
              "0           NJ Llong      NaN  \n",
              "1             S Ravi      NaN  \n",
              "2          CK Nandan      NaN  \n",
              "3      C Shamshuddin      NaN  \n",
              "4                NaN      NaN  \n",
              "..               ...      ...  \n",
              "631     BNJ Oxenford      NaN  \n",
              "632  HDPK Dharmasena      NaN  \n",
              "633    C Shamshuddin      NaN  \n",
              "634        CK Nandan      NaN  \n",
              "635     BNJ Oxenford      NaN  \n",
              "\n",
              "[636 rows x 18 columns]"
            ],
            "text/html": [
              "\n",
              "  <div id=\"df-b83c8e3c-b922-4665-8073-899dcfa03845\">\n",
              "    <div class=\"colab-df-container\">\n",
              "      <div>\n",
              "<style scoped>\n",
              "    .dataframe tbody tr th:only-of-type {\n",
              "        vertical-align: middle;\n",
              "    }\n",
              "\n",
              "    .dataframe tbody tr th {\n",
              "        vertical-align: top;\n",
              "    }\n",
              "\n",
              "    .dataframe thead th {\n",
              "        text-align: right;\n",
              "    }\n",
              "</style>\n",
              "<table border=\"1\" class=\"dataframe\">\n",
              "  <thead>\n",
              "    <tr style=\"text-align: right;\">\n",
              "      <th></th>\n",
              "      <th>id</th>\n",
              "      <th>season</th>\n",
              "      <th>city</th>\n",
              "      <th>date</th>\n",
              "      <th>team1</th>\n",
              "      <th>team2</th>\n",
              "      <th>toss_winner</th>\n",
              "      <th>toss_decision</th>\n",
              "      <th>result</th>\n",
              "      <th>dl_applied</th>\n",
              "      <th>winner</th>\n",
              "      <th>win_by_runs</th>\n",
              "      <th>win_by_wickets</th>\n",
              "      <th>player_of_match</th>\n",
              "      <th>venue</th>\n",
              "      <th>umpire1</th>\n",
              "      <th>umpire2</th>\n",
              "      <th>umpire3</th>\n",
              "    </tr>\n",
              "  </thead>\n",
              "  <tbody>\n",
              "    <tr>\n",
              "      <th>0</th>\n",
              "      <td>1</td>\n",
              "      <td>2017</td>\n",
              "      <td>Hyderabad</td>\n",
              "      <td>4/5/2017</td>\n",
              "      <td>Sunrisers Hyderabad</td>\n",
              "      <td>Royal Challengers Bangalore</td>\n",
              "      <td>Royal Challengers Bangalore</td>\n",
              "      <td>field</td>\n",
              "      <td>normal</td>\n",
              "      <td>0</td>\n",
              "      <td>Sunrisers Hyderabad</td>\n",
              "      <td>35</td>\n",
              "      <td>0</td>\n",
              "      <td>Yuvraj Singh</td>\n",
              "      <td>Rajiv Gandhi International Stadium, Uppal</td>\n",
              "      <td>AY Dandekar</td>\n",
              "      <td>NJ Llong</td>\n",
              "      <td>NaN</td>\n",
              "    </tr>\n",
              "    <tr>\n",
              "      <th>1</th>\n",
              "      <td>2</td>\n",
              "      <td>2017</td>\n",
              "      <td>Pune</td>\n",
              "      <td>4/6/2017</td>\n",
              "      <td>Mumbai Indians</td>\n",
              "      <td>Rising Pune Supergiant</td>\n",
              "      <td>Rising Pune Supergiant</td>\n",
              "      <td>field</td>\n",
              "      <td>normal</td>\n",
              "      <td>0</td>\n",
              "      <td>Rising Pune Supergiant</td>\n",
              "      <td>0</td>\n",
              "      <td>7</td>\n",
              "      <td>SPD Smith</td>\n",
              "      <td>Maharashtra Cricket Association Stadium</td>\n",
              "      <td>A Nand Kishore</td>\n",
              "      <td>S Ravi</td>\n",
              "      <td>NaN</td>\n",
              "    </tr>\n",
              "    <tr>\n",
              "      <th>2</th>\n",
              "      <td>3</td>\n",
              "      <td>2017</td>\n",
              "      <td>Rajkot</td>\n",
              "      <td>4/7/2017</td>\n",
              "      <td>Gujarat Lions</td>\n",
              "      <td>Kolkata Knight Riders</td>\n",
              "      <td>Kolkata Knight Riders</td>\n",
              "      <td>field</td>\n",
              "      <td>normal</td>\n",
              "      <td>0</td>\n",
              "      <td>Kolkata Knight Riders</td>\n",
              "      <td>0</td>\n",
              "      <td>10</td>\n",
              "      <td>CA Lynn</td>\n",
              "      <td>Saurashtra Cricket Association Stadium</td>\n",
              "      <td>Nitin Menon</td>\n",
              "      <td>CK Nandan</td>\n",
              "      <td>NaN</td>\n",
              "    </tr>\n",
              "    <tr>\n",
              "      <th>3</th>\n",
              "      <td>4</td>\n",
              "      <td>2017</td>\n",
              "      <td>Indore</td>\n",
              "      <td>4/8/2017</td>\n",
              "      <td>Rising Pune Supergiant</td>\n",
              "      <td>Kings XI Punjab</td>\n",
              "      <td>Kings XI Punjab</td>\n",
              "      <td>field</td>\n",
              "      <td>normal</td>\n",
              "      <td>0</td>\n",
              "      <td>Kings XI Punjab</td>\n",
              "      <td>0</td>\n",
              "      <td>6</td>\n",
              "      <td>GJ Maxwell</td>\n",
              "      <td>Holkar Cricket Stadium</td>\n",
              "      <td>AK Chaudhary</td>\n",
              "      <td>C Shamshuddin</td>\n",
              "      <td>NaN</td>\n",
              "    </tr>\n",
              "    <tr>\n",
              "      <th>4</th>\n",
              "      <td>5</td>\n",
              "      <td>2017</td>\n",
              "      <td>Bangalore</td>\n",
              "      <td>4/8/2017</td>\n",
              "      <td>Royal Challengers Bangalore</td>\n",
              "      <td>Delhi Daredevils</td>\n",
              "      <td>Royal Challengers Bangalore</td>\n",
              "      <td>bat</td>\n",
              "      <td>normal</td>\n",
              "      <td>0</td>\n",
              "      <td>Royal Challengers Bangalore</td>\n",
              "      <td>15</td>\n",
              "      <td>0</td>\n",
              "      <td>KM Jadhav</td>\n",
              "      <td>M Chinnaswamy Stadium</td>\n",
              "      <td>NaN</td>\n",
              "      <td>NaN</td>\n",
              "      <td>NaN</td>\n",
              "    </tr>\n",
              "    <tr>\n",
              "      <th>...</th>\n",
              "      <td>...</td>\n",
              "      <td>...</td>\n",
              "      <td>...</td>\n",
              "      <td>...</td>\n",
              "      <td>...</td>\n",
              "      <td>...</td>\n",
              "      <td>...</td>\n",
              "      <td>...</td>\n",
              "      <td>...</td>\n",
              "      <td>...</td>\n",
              "      <td>...</td>\n",
              "      <td>...</td>\n",
              "      <td>...</td>\n",
              "      <td>...</td>\n",
              "      <td>...</td>\n",
              "      <td>...</td>\n",
              "      <td>...</td>\n",
              "      <td>...</td>\n",
              "    </tr>\n",
              "    <tr>\n",
              "      <th>631</th>\n",
              "      <td>632</td>\n",
              "      <td>2016</td>\n",
              "      <td>Raipur</td>\n",
              "      <td>5/22/2016</td>\n",
              "      <td>Delhi Daredevils</td>\n",
              "      <td>Royal Challengers Bangalore</td>\n",
              "      <td>Royal Challengers Bangalore</td>\n",
              "      <td>field</td>\n",
              "      <td>normal</td>\n",
              "      <td>0</td>\n",
              "      <td>Royal Challengers Bangalore</td>\n",
              "      <td>0</td>\n",
              "      <td>6</td>\n",
              "      <td>V Kohli</td>\n",
              "      <td>Shaheed Veer Narayan Singh International Stadium</td>\n",
              "      <td>A Nand Kishore</td>\n",
              "      <td>BNJ Oxenford</td>\n",
              "      <td>NaN</td>\n",
              "    </tr>\n",
              "    <tr>\n",
              "      <th>632</th>\n",
              "      <td>633</td>\n",
              "      <td>2016</td>\n",
              "      <td>Bangalore</td>\n",
              "      <td>5/24/2016</td>\n",
              "      <td>Gujarat Lions</td>\n",
              "      <td>Royal Challengers Bangalore</td>\n",
              "      <td>Royal Challengers Bangalore</td>\n",
              "      <td>field</td>\n",
              "      <td>normal</td>\n",
              "      <td>0</td>\n",
              "      <td>Royal Challengers Bangalore</td>\n",
              "      <td>0</td>\n",
              "      <td>4</td>\n",
              "      <td>AB de Villiers</td>\n",
              "      <td>M Chinnaswamy Stadium</td>\n",
              "      <td>AK Chaudhary</td>\n",
              "      <td>HDPK Dharmasena</td>\n",
              "      <td>NaN</td>\n",
              "    </tr>\n",
              "    <tr>\n",
              "      <th>633</th>\n",
              "      <td>634</td>\n",
              "      <td>2016</td>\n",
              "      <td>Delhi</td>\n",
              "      <td>5/25/2016</td>\n",
              "      <td>Sunrisers Hyderabad</td>\n",
              "      <td>Kolkata Knight Riders</td>\n",
              "      <td>Kolkata Knight Riders</td>\n",
              "      <td>field</td>\n",
              "      <td>normal</td>\n",
              "      <td>0</td>\n",
              "      <td>Sunrisers Hyderabad</td>\n",
              "      <td>22</td>\n",
              "      <td>0</td>\n",
              "      <td>MC Henriques</td>\n",
              "      <td>Feroz Shah Kotla</td>\n",
              "      <td>M Erasmus</td>\n",
              "      <td>C Shamshuddin</td>\n",
              "      <td>NaN</td>\n",
              "    </tr>\n",
              "    <tr>\n",
              "      <th>634</th>\n",
              "      <td>635</td>\n",
              "      <td>2016</td>\n",
              "      <td>Delhi</td>\n",
              "      <td>5/27/2016</td>\n",
              "      <td>Gujarat Lions</td>\n",
              "      <td>Sunrisers Hyderabad</td>\n",
              "      <td>Sunrisers Hyderabad</td>\n",
              "      <td>field</td>\n",
              "      <td>normal</td>\n",
              "      <td>0</td>\n",
              "      <td>Sunrisers Hyderabad</td>\n",
              "      <td>0</td>\n",
              "      <td>4</td>\n",
              "      <td>DA Warner</td>\n",
              "      <td>Feroz Shah Kotla</td>\n",
              "      <td>M Erasmus</td>\n",
              "      <td>CK Nandan</td>\n",
              "      <td>NaN</td>\n",
              "    </tr>\n",
              "    <tr>\n",
              "      <th>635</th>\n",
              "      <td>636</td>\n",
              "      <td>2016</td>\n",
              "      <td>Bangalore</td>\n",
              "      <td>5/29/2016</td>\n",
              "      <td>Sunrisers Hyderabad</td>\n",
              "      <td>Royal Challengers Bangalore</td>\n",
              "      <td>Sunrisers Hyderabad</td>\n",
              "      <td>bat</td>\n",
              "      <td>normal</td>\n",
              "      <td>0</td>\n",
              "      <td>Sunrisers Hyderabad</td>\n",
              "      <td>8</td>\n",
              "      <td>0</td>\n",
              "      <td>BCJ Cutting</td>\n",
              "      <td>M Chinnaswamy Stadium</td>\n",
              "      <td>HDPK Dharmasena</td>\n",
              "      <td>BNJ Oxenford</td>\n",
              "      <td>NaN</td>\n",
              "    </tr>\n",
              "  </tbody>\n",
              "</table>\n",
              "<p>636 rows × 18 columns</p>\n",
              "</div>\n",
              "      <button class=\"colab-df-convert\" onclick=\"convertToInteractive('df-b83c8e3c-b922-4665-8073-899dcfa03845')\"\n",
              "              title=\"Convert this dataframe to an interactive table.\"\n",
              "              style=\"display:none;\">\n",
              "        \n",
              "  <svg xmlns=\"http://www.w3.org/2000/svg\" height=\"24px\"viewBox=\"0 0 24 24\"\n",
              "       width=\"24px\">\n",
              "    <path d=\"M0 0h24v24H0V0z\" fill=\"none\"/>\n",
              "    <path d=\"M18.56 5.44l.94 2.06.94-2.06 2.06-.94-2.06-.94-.94-2.06-.94 2.06-2.06.94zm-11 1L8.5 8.5l.94-2.06 2.06-.94-2.06-.94L8.5 2.5l-.94 2.06-2.06.94zm10 10l.94 2.06.94-2.06 2.06-.94-2.06-.94-.94-2.06-.94 2.06-2.06.94z\"/><path d=\"M17.41 7.96l-1.37-1.37c-.4-.4-.92-.59-1.43-.59-.52 0-1.04.2-1.43.59L10.3 9.45l-7.72 7.72c-.78.78-.78 2.05 0 2.83L4 21.41c.39.39.9.59 1.41.59.51 0 1.02-.2 1.41-.59l7.78-7.78 2.81-2.81c.8-.78.8-2.07 0-2.86zM5.41 20L4 18.59l7.72-7.72 1.47 1.35L5.41 20z\"/>\n",
              "  </svg>\n",
              "      </button>\n",
              "      \n",
              "  <style>\n",
              "    .colab-df-container {\n",
              "      display:flex;\n",
              "      flex-wrap:wrap;\n",
              "      gap: 12px;\n",
              "    }\n",
              "\n",
              "    .colab-df-convert {\n",
              "      background-color: #E8F0FE;\n",
              "      border: none;\n",
              "      border-radius: 50%;\n",
              "      cursor: pointer;\n",
              "      display: none;\n",
              "      fill: #1967D2;\n",
              "      height: 32px;\n",
              "      padding: 0 0 0 0;\n",
              "      width: 32px;\n",
              "    }\n",
              "\n",
              "    .colab-df-convert:hover {\n",
              "      background-color: #E2EBFA;\n",
              "      box-shadow: 0px 1px 2px rgba(60, 64, 67, 0.3), 0px 1px 3px 1px rgba(60, 64, 67, 0.15);\n",
              "      fill: #174EA6;\n",
              "    }\n",
              "\n",
              "    [theme=dark] .colab-df-convert {\n",
              "      background-color: #3B4455;\n",
              "      fill: #D2E3FC;\n",
              "    }\n",
              "\n",
              "    [theme=dark] .colab-df-convert:hover {\n",
              "      background-color: #434B5C;\n",
              "      box-shadow: 0px 1px 3px 1px rgba(0, 0, 0, 0.15);\n",
              "      filter: drop-shadow(0px 1px 2px rgba(0, 0, 0, 0.3));\n",
              "      fill: #FFFFFF;\n",
              "    }\n",
              "  </style>\n",
              "\n",
              "      <script>\n",
              "        const buttonEl =\n",
              "          document.querySelector('#df-b83c8e3c-b922-4665-8073-899dcfa03845 button.colab-df-convert');\n",
              "        buttonEl.style.display =\n",
              "          google.colab.kernel.accessAllowed ? 'block' : 'none';\n",
              "\n",
              "        async function convertToInteractive(key) {\n",
              "          const element = document.querySelector('#df-b83c8e3c-b922-4665-8073-899dcfa03845');\n",
              "          const dataTable =\n",
              "            await google.colab.kernel.invokeFunction('convertToInteractive',\n",
              "                                                     [key], {});\n",
              "          if (!dataTable) return;\n",
              "\n",
              "          const docLinkHtml = 'Like what you see? Visit the ' +\n",
              "            '<a target=\"_blank\" href=https://colab.research.google.com/notebooks/data_table.ipynb>data table notebook</a>'\n",
              "            + ' to learn more about interactive tables.';\n",
              "          element.innerHTML = '';\n",
              "          dataTable['output_type'] = 'display_data';\n",
              "          await google.colab.output.renderOutput(dataTable, element);\n",
              "          const docLink = document.createElement('div');\n",
              "          docLink.innerHTML = docLinkHtml;\n",
              "          element.appendChild(docLink);\n",
              "        }\n",
              "      </script>\n",
              "    </div>\n",
              "  </div>\n",
              "  "
            ]
          },
          "metadata": {},
          "execution_count": 148
        }
      ]
    },
    {
      "cell_type": "code",
      "source": [
        ""
      ],
      "metadata": {
        "id": "NhehcmRV6AEB"
      },
      "execution_count": 148,
      "outputs": []
    },
    {
      "cell_type": "markdown",
      "source": [
        "# First ball of IPL dataset\n",
        "        \n",
        "        "
      ],
      "metadata": {
        "id": "mYsBKnqE6AEC"
      }
    },
    {
      "cell_type": "code",
      "source": [
        "season_as_ind=df.set_index(\"season\")\n"
      ],
      "metadata": {
        "execution": {
          "iopub.status.busy": "2022-04-17T17:35:57.645376Z",
          "iopub.execute_input": "2022-04-17T17:35:57.645849Z",
          "iopub.status.idle": "2022-04-17T17:35:57.650531Z",
          "shell.execute_reply.started": "2022-04-17T17:35:57.645814Z",
          "shell.execute_reply": "2022-04-17T17:35:57.649873Z"
        },
        "trusted": true,
        "id": "z5g87bcF6AED"
      },
      "execution_count": 149,
      "outputs": []
    },
    {
      "cell_type": "code",
      "source": [
        "season_as_ind.sort_index()\n",
        "season_as_ind[[\"date\",\"team1\",\"team2\",\"winner\",'venue']].sort_index().head(10)"
      ],
      "metadata": {
        "execution": {
          "iopub.status.busy": "2022-04-17T18:08:19.730752Z",
          "iopub.execute_input": "2022-04-17T18:08:19.731857Z",
          "iopub.status.idle": "2022-04-17T18:08:19.749618Z",
          "shell.execute_reply.started": "2022-04-17T18:08:19.731802Z",
          "shell.execute_reply": "2022-04-17T18:08:19.748540Z"
        },
        "trusted": true,
        "colab": {
          "base_uri": "https://localhost:8080/",
          "height": 508
        },
        "id": "pnu1wK_h6AED",
        "outputId": "0014f521-c8b4-4a5f-dc24-f394de452a74"
      },
      "execution_count": 150,
      "outputs": [
        {
          "output_type": "execute_result",
          "data": {
            "text/plain": [
              "             date                  team1                        team2  \\\n",
              "season                                                                  \n",
              "2008     6/1/2008    Chennai Super Kings             Rajasthan Royals   \n",
              "2008     5/4/2008    Chennai Super Kings             Rajasthan Royals   \n",
              "2008     5/4/2008         Mumbai Indians             Delhi Daredevils   \n",
              "2008     5/3/2008        Kings XI Punjab        Kolkata Knight Riders   \n",
              "2008    5/25/2008        Deccan Chargers  Royal Challengers Bangalore   \n",
              "2008     5/2/2008    Chennai Super Kings             Delhi Daredevils   \n",
              "2008     5/1/2008       Rajasthan Royals        Kolkata Knight Riders   \n",
              "2008     5/1/2008        Deccan Chargers              Kings XI Punjab   \n",
              "2008    4/30/2008       Delhi Daredevils  Royal Challengers Bangalore   \n",
              "2008    4/29/2008  Kolkata Knight Riders               Mumbai Indians   \n",
              "\n",
              "                             winner  \\\n",
              "season                                \n",
              "2008               Rajasthan Royals   \n",
              "2008               Rajasthan Royals   \n",
              "2008                 Mumbai Indians   \n",
              "2008                Kings XI Punjab   \n",
              "2008    Royal Challengers Bangalore   \n",
              "2008               Delhi Daredevils   \n",
              "2008               Rajasthan Royals   \n",
              "2008                Kings XI Punjab   \n",
              "2008               Delhi Daredevils   \n",
              "2008                 Mumbai Indians   \n",
              "\n",
              "                                             venue  \n",
              "season                                              \n",
              "2008                    Dr DY Patil Sports Academy  \n",
              "2008                        Sawai Mansingh Stadium  \n",
              "2008                    Dr DY Patil Sports Academy  \n",
              "2008    Punjab Cricket Association Stadium, Mohali  \n",
              "2008     Rajiv Gandhi International Stadium, Uppal  \n",
              "2008               MA Chidambaram Stadium, Chepauk  \n",
              "2008                        Sawai Mansingh Stadium  \n",
              "2008     Rajiv Gandhi International Stadium, Uppal  \n",
              "2008                              Feroz Shah Kotla  \n",
              "2008                                  Eden Gardens  "
            ],
            "text/html": [
              "\n",
              "  <div id=\"df-0df522f9-a916-451b-b49a-4b48fbfc3430\">\n",
              "    <div class=\"colab-df-container\">\n",
              "      <div>\n",
              "<style scoped>\n",
              "    .dataframe tbody tr th:only-of-type {\n",
              "        vertical-align: middle;\n",
              "    }\n",
              "\n",
              "    .dataframe tbody tr th {\n",
              "        vertical-align: top;\n",
              "    }\n",
              "\n",
              "    .dataframe thead th {\n",
              "        text-align: right;\n",
              "    }\n",
              "</style>\n",
              "<table border=\"1\" class=\"dataframe\">\n",
              "  <thead>\n",
              "    <tr style=\"text-align: right;\">\n",
              "      <th></th>\n",
              "      <th>date</th>\n",
              "      <th>team1</th>\n",
              "      <th>team2</th>\n",
              "      <th>winner</th>\n",
              "      <th>venue</th>\n",
              "    </tr>\n",
              "    <tr>\n",
              "      <th>season</th>\n",
              "      <th></th>\n",
              "      <th></th>\n",
              "      <th></th>\n",
              "      <th></th>\n",
              "      <th></th>\n",
              "    </tr>\n",
              "  </thead>\n",
              "  <tbody>\n",
              "    <tr>\n",
              "      <th>2008</th>\n",
              "      <td>6/1/2008</td>\n",
              "      <td>Chennai Super Kings</td>\n",
              "      <td>Rajasthan Royals</td>\n",
              "      <td>Rajasthan Royals</td>\n",
              "      <td>Dr DY Patil Sports Academy</td>\n",
              "    </tr>\n",
              "    <tr>\n",
              "      <th>2008</th>\n",
              "      <td>5/4/2008</td>\n",
              "      <td>Chennai Super Kings</td>\n",
              "      <td>Rajasthan Royals</td>\n",
              "      <td>Rajasthan Royals</td>\n",
              "      <td>Sawai Mansingh Stadium</td>\n",
              "    </tr>\n",
              "    <tr>\n",
              "      <th>2008</th>\n",
              "      <td>5/4/2008</td>\n",
              "      <td>Mumbai Indians</td>\n",
              "      <td>Delhi Daredevils</td>\n",
              "      <td>Mumbai Indians</td>\n",
              "      <td>Dr DY Patil Sports Academy</td>\n",
              "    </tr>\n",
              "    <tr>\n",
              "      <th>2008</th>\n",
              "      <td>5/3/2008</td>\n",
              "      <td>Kings XI Punjab</td>\n",
              "      <td>Kolkata Knight Riders</td>\n",
              "      <td>Kings XI Punjab</td>\n",
              "      <td>Punjab Cricket Association Stadium, Mohali</td>\n",
              "    </tr>\n",
              "    <tr>\n",
              "      <th>2008</th>\n",
              "      <td>5/25/2008</td>\n",
              "      <td>Deccan Chargers</td>\n",
              "      <td>Royal Challengers Bangalore</td>\n",
              "      <td>Royal Challengers Bangalore</td>\n",
              "      <td>Rajiv Gandhi International Stadium, Uppal</td>\n",
              "    </tr>\n",
              "    <tr>\n",
              "      <th>2008</th>\n",
              "      <td>5/2/2008</td>\n",
              "      <td>Chennai Super Kings</td>\n",
              "      <td>Delhi Daredevils</td>\n",
              "      <td>Delhi Daredevils</td>\n",
              "      <td>MA Chidambaram Stadium, Chepauk</td>\n",
              "    </tr>\n",
              "    <tr>\n",
              "      <th>2008</th>\n",
              "      <td>5/1/2008</td>\n",
              "      <td>Rajasthan Royals</td>\n",
              "      <td>Kolkata Knight Riders</td>\n",
              "      <td>Rajasthan Royals</td>\n",
              "      <td>Sawai Mansingh Stadium</td>\n",
              "    </tr>\n",
              "    <tr>\n",
              "      <th>2008</th>\n",
              "      <td>5/1/2008</td>\n",
              "      <td>Deccan Chargers</td>\n",
              "      <td>Kings XI Punjab</td>\n",
              "      <td>Kings XI Punjab</td>\n",
              "      <td>Rajiv Gandhi International Stadium, Uppal</td>\n",
              "    </tr>\n",
              "    <tr>\n",
              "      <th>2008</th>\n",
              "      <td>4/30/2008</td>\n",
              "      <td>Delhi Daredevils</td>\n",
              "      <td>Royal Challengers Bangalore</td>\n",
              "      <td>Delhi Daredevils</td>\n",
              "      <td>Feroz Shah Kotla</td>\n",
              "    </tr>\n",
              "    <tr>\n",
              "      <th>2008</th>\n",
              "      <td>4/29/2008</td>\n",
              "      <td>Kolkata Knight Riders</td>\n",
              "      <td>Mumbai Indians</td>\n",
              "      <td>Mumbai Indians</td>\n",
              "      <td>Eden Gardens</td>\n",
              "    </tr>\n",
              "  </tbody>\n",
              "</table>\n",
              "</div>\n",
              "      <button class=\"colab-df-convert\" onclick=\"convertToInteractive('df-0df522f9-a916-451b-b49a-4b48fbfc3430')\"\n",
              "              title=\"Convert this dataframe to an interactive table.\"\n",
              "              style=\"display:none;\">\n",
              "        \n",
              "  <svg xmlns=\"http://www.w3.org/2000/svg\" height=\"24px\"viewBox=\"0 0 24 24\"\n",
              "       width=\"24px\">\n",
              "    <path d=\"M0 0h24v24H0V0z\" fill=\"none\"/>\n",
              "    <path d=\"M18.56 5.44l.94 2.06.94-2.06 2.06-.94-2.06-.94-.94-2.06-.94 2.06-2.06.94zm-11 1L8.5 8.5l.94-2.06 2.06-.94-2.06-.94L8.5 2.5l-.94 2.06-2.06.94zm10 10l.94 2.06.94-2.06 2.06-.94-2.06-.94-.94-2.06-.94 2.06-2.06.94z\"/><path d=\"M17.41 7.96l-1.37-1.37c-.4-.4-.92-.59-1.43-.59-.52 0-1.04.2-1.43.59L10.3 9.45l-7.72 7.72c-.78.78-.78 2.05 0 2.83L4 21.41c.39.39.9.59 1.41.59.51 0 1.02-.2 1.41-.59l7.78-7.78 2.81-2.81c.8-.78.8-2.07 0-2.86zM5.41 20L4 18.59l7.72-7.72 1.47 1.35L5.41 20z\"/>\n",
              "  </svg>\n",
              "      </button>\n",
              "      \n",
              "  <style>\n",
              "    .colab-df-container {\n",
              "      display:flex;\n",
              "      flex-wrap:wrap;\n",
              "      gap: 12px;\n",
              "    }\n",
              "\n",
              "    .colab-df-convert {\n",
              "      background-color: #E8F0FE;\n",
              "      border: none;\n",
              "      border-radius: 50%;\n",
              "      cursor: pointer;\n",
              "      display: none;\n",
              "      fill: #1967D2;\n",
              "      height: 32px;\n",
              "      padding: 0 0 0 0;\n",
              "      width: 32px;\n",
              "    }\n",
              "\n",
              "    .colab-df-convert:hover {\n",
              "      background-color: #E2EBFA;\n",
              "      box-shadow: 0px 1px 2px rgba(60, 64, 67, 0.3), 0px 1px 3px 1px rgba(60, 64, 67, 0.15);\n",
              "      fill: #174EA6;\n",
              "    }\n",
              "\n",
              "    [theme=dark] .colab-df-convert {\n",
              "      background-color: #3B4455;\n",
              "      fill: #D2E3FC;\n",
              "    }\n",
              "\n",
              "    [theme=dark] .colab-df-convert:hover {\n",
              "      background-color: #434B5C;\n",
              "      box-shadow: 0px 1px 3px 1px rgba(0, 0, 0, 0.15);\n",
              "      filter: drop-shadow(0px 1px 2px rgba(0, 0, 0, 0.3));\n",
              "      fill: #FFFFFF;\n",
              "    }\n",
              "  </style>\n",
              "\n",
              "      <script>\n",
              "        const buttonEl =\n",
              "          document.querySelector('#df-0df522f9-a916-451b-b49a-4b48fbfc3430 button.colab-df-convert');\n",
              "        buttonEl.style.display =\n",
              "          google.colab.kernel.accessAllowed ? 'block' : 'none';\n",
              "\n",
              "        async function convertToInteractive(key) {\n",
              "          const element = document.querySelector('#df-0df522f9-a916-451b-b49a-4b48fbfc3430');\n",
              "          const dataTable =\n",
              "            await google.colab.kernel.invokeFunction('convertToInteractive',\n",
              "                                                     [key], {});\n",
              "          if (!dataTable) return;\n",
              "\n",
              "          const docLinkHtml = 'Like what you see? Visit the ' +\n",
              "            '<a target=\"_blank\" href=https://colab.research.google.com/notebooks/data_table.ipynb>data table notebook</a>'\n",
              "            + ' to learn more about interactive tables.';\n",
              "          element.innerHTML = '';\n",
              "          dataTable['output_type'] = 'display_data';\n",
              "          await google.colab.output.renderOutput(dataTable, element);\n",
              "          const docLink = document.createElement('div');\n",
              "          docLink.innerHTML = docLinkHtml;\n",
              "          element.appendChild(docLink);\n",
              "        }\n",
              "      </script>\n",
              "    </div>\n",
              "  </div>\n",
              "  "
            ]
          },
          "metadata": {},
          "execution_count": 150
        }
      ]
    },
    {
      "cell_type": "code",
      "source": [
        "season_wise_match=season_as_ind[[\"date\",\"team1\",\"team2\",\"winner\"]]"
      ],
      "metadata": {
        "execution": {
          "iopub.status.busy": "2022-04-17T17:36:01.914252Z",
          "iopub.execute_input": "2022-04-17T17:36:01.914661Z",
          "iopub.status.idle": "2022-04-17T17:36:01.920663Z",
          "shell.execute_reply.started": "2022-04-17T17:36:01.914631Z",
          "shell.execute_reply": "2022-04-17T17:36:01.919754Z"
        },
        "trusted": true,
        "id": "mBnEEIJz6AEE"
      },
      "execution_count": 151,
      "outputs": []
    },
    {
      "cell_type": "code",
      "source": [
        "season_wise_match=season_wise_match.reset_index()"
      ],
      "metadata": {
        "execution": {
          "iopub.status.busy": "2022-04-17T17:36:50.474819Z",
          "iopub.execute_input": "2022-04-17T17:36:50.475122Z",
          "iopub.status.idle": "2022-04-17T17:36:50.480918Z",
          "shell.execute_reply.started": "2022-04-17T17:36:50.475088Z",
          "shell.execute_reply": "2022-04-17T17:36:50.480051Z"
        },
        "trusted": true,
        "id": "Ada5ZnlV6AEF"
      },
      "execution_count": 152,
      "outputs": []
    },
    {
      "cell_type": "code",
      "source": [
        "season_wise_match=season_wise_match.groupby(\"winner\")[\"season\"].count()"
      ],
      "metadata": {
        "execution": {
          "iopub.status.busy": "2022-04-17T17:47:03.374870Z",
          "iopub.execute_input": "2022-04-17T17:47:03.375167Z",
          "iopub.status.idle": "2022-04-17T17:47:03.380794Z",
          "shell.execute_reply.started": "2022-04-17T17:47:03.375138Z",
          "shell.execute_reply": "2022-04-17T17:47:03.379910Z"
        },
        "trusted": true,
        "id": "cCS4IXn_6AEF"
      },
      "execution_count": 153,
      "outputs": []
    },
    {
      "cell_type": "code",
      "source": [
        "\n",
        "season_wise_total_winner=season_wise_match.sort_index()\n",
        "\n",
        "season_wise_total_winner.plot(kind=\"bar\")\n",
        "plt.show()"
      ],
      "metadata": {
        "execution": {
          "iopub.status.busy": "2022-04-17T17:48:57.945035Z",
          "iopub.execute_input": "2022-04-17T17:48:57.945775Z",
          "iopub.status.idle": "2022-04-17T17:48:58.190294Z",
          "shell.execute_reply.started": "2022-04-17T17:48:57.945728Z",
          "shell.execute_reply": "2022-04-17T17:48:58.189439Z"
        },
        "trusted": true,
        "colab": {
          "base_uri": "https://localhost:8080/",
          "height": 413
        },
        "id": "SUyyeX7V6AEG",
        "outputId": "4a6be0c1-0c35-4775-c89b-820e3d56eb30"
      },
      "execution_count": 155,
      "outputs": [
        {
          "output_type": "display_data",
          "data": {
            "text/plain": [
              "<Figure size 432x288 with 1 Axes>"
            ],
            "image/png": "[encoded data removed]"
          },
          "metadata": {
            "needs_background": "light"
          }
        }
      ]
    },
    {
      "cell_type": "code",
      "source": [
        "season_wise_total_winner"
      ],
      "metadata": {
        "execution": {
          "iopub.status.busy": "2022-04-17T17:49:10.722909Z",
          "iopub.execute_input": "2022-04-17T17:49:10.723529Z",
          "iopub.status.idle": "2022-04-17T17:49:10.730988Z",
          "shell.execute_reply.started": "2022-04-17T17:49:10.723452Z",
          "shell.execute_reply": "2022-04-17T17:49:10.730376Z"
        },
        "trusted": true,
        "colab": {
          "base_uri": "https://localhost:8080/"
        },
        "id": "0nR4dGbs6AEH",
        "outputId": "32a0aea2-d1c5-478e-8fbd-518afe470056"
      },
      "execution_count": 156,
      "outputs": [
        {
          "output_type": "execute_result",
          "data": {
            "text/plain": [
              "winner\n",
              "Chennai Super Kings            79\n",
              "Deccan Chargers                29\n",
              "Delhi Daredevils               62\n",
              "Gujarat Lions                  13\n",
              "Kings XI Punjab                70\n",
              "Kochi Tuskers Kerala            6\n",
              "Kolkata Knight Riders          77\n",
              "Mumbai Indians                 92\n",
              "Pune Warriors                  12\n",
              "Rajasthan Royals               63\n",
              "Rising Pune Supergiant         10\n",
              "Rising Pune Supergiants         5\n",
              "Royal Challengers Bangalore    73\n",
              "Sunrisers Hyderabad            42\n",
              "Name: season, dtype: int64"
            ]
          },
          "metadata": {},
          "execution_count": 156
        }
      ]
    },
    {
      "cell_type": "markdown",
      "source": [
        "# Most IPL Matches played in a Venue"
      ],
      "metadata": {
        "id": "5xl5b8zT6AEH"
      }
    },
    {
      "cell_type": "code",
      "source": [
        "most_ipl_venu=df.groupby(\"venue\")[\"id\"].count()\n"
      ],
      "metadata": {
        "execution": {
          "iopub.status.busy": "2022-04-17T17:59:46.683893Z",
          "iopub.execute_input": "2022-04-17T17:59:46.684207Z",
          "iopub.status.idle": "2022-04-17T17:59:46.691028Z",
          "shell.execute_reply.started": "2022-04-17T17:59:46.684170Z",
          "shell.execute_reply": "2022-04-17T17:59:46.690062Z"
        },
        "trusted": true,
        "id": "LfDNlhBn6AEI"
      },
      "execution_count": 157,
      "outputs": []
    },
    {
      "cell_type": "code",
      "source": [
        "most_ipl_venu=most_ipl_venu.nlargest(10)"
      ],
      "metadata": {
        "execution": {
          "iopub.status.busy": "2022-04-17T18:00:32.893418Z",
          "iopub.execute_input": "2022-04-17T18:00:32.894296Z",
          "iopub.status.idle": "2022-04-17T18:00:32.899178Z",
          "shell.execute_reply.started": "2022-04-17T18:00:32.894247Z",
          "shell.execute_reply": "2022-04-17T18:00:32.898322Z"
        },
        "trusted": true,
        "id": "N4m1R2TK6AEI"
      },
      "execution_count": 158,
      "outputs": []
    },
    {
      "cell_type": "code",
      "source": [
        "most_ipl_venu"
      ],
      "metadata": {
        "execution": {
          "iopub.status.busy": "2022-04-17T18:00:35.503152Z",
          "iopub.execute_input": "2022-04-17T18:00:35.503984Z",
          "iopub.status.idle": "2022-04-17T18:00:35.510653Z",
          "shell.execute_reply.started": "2022-04-17T18:00:35.503946Z",
          "shell.execute_reply": "2022-04-17T18:00:35.509763Z"
        },
        "trusted": true,
        "colab": {
          "base_uri": "https://localhost:8080/"
        },
        "id": "ohWVDQph6AEI",
        "outputId": "be98220d-9650-488a-d952-95103a8a5b93"
      },
      "execution_count": 159,
      "outputs": [
        {
          "output_type": "execute_result",
          "data": {
            "text/plain": [
              "venue\n",
              "M Chinnaswamy Stadium                         66\n",
              "Eden Gardens                                  61\n",
              "Feroz Shah Kotla                              60\n",
              "Wankhede Stadium                              57\n",
              "Rajiv Gandhi International Stadium, Uppal     49\n",
              "MA Chidambaram Stadium, Chepauk               48\n",
              "Punjab Cricket Association Stadium, Mohali    35\n",
              "Sawai Mansingh Stadium                        33\n",
              "Dr DY Patil Sports Academy                    17\n",
              "Subrata Roy Sahara Stadium                    17\n",
              "Name: id, dtype: int64"
            ]
          },
          "metadata": {},
          "execution_count": 159
        }
      ]
    },
    {
      "cell_type": "code",
      "source": [
        "most_ipl_venu.plot(figsize=(15,14),rot=45,kind=\"bar\")\n",
        "plt.show()"
      ],
      "metadata": {
        "execution": {
          "iopub.status.busy": "2022-04-17T18:04:41.196591Z",
          "iopub.execute_input": "2022-04-17T18:04:41.198087Z",
          "iopub.status.idle": "2022-04-17T18:04:41.481412Z",
          "shell.execute_reply.started": "2022-04-17T18:04:41.198026Z",
          "shell.execute_reply": "2022-04-17T18:04:41.480414Z"
        },
        "trusted": true,
        "colab": {
          "base_uri": "https://localhost:8080/",
          "height": 0
        },
        "id": "5WJhRO7b6AEJ",
        "outputId": "ecf23932-6c97-496b-8edf-ccab093f8319"
      },
      "execution_count": 160,
      "outputs": [
        {
          "output_type": "display_data",
          "data": {
            "text/plain": [
              "<Figure size 1080x1008 with 1 Axes>"
            ],
            "image/png": "[encoded data removed]"
          },
          "metadata": {
            "needs_background": "light"
          }
        }
      ]
    },
    {
      "cell_type": "code",
      "source": [
        "df"
      ],
      "metadata": {
        "execution": {
          "iopub.status.busy": "2022-04-17T17:51:01.823807Z",
          "iopub.execute_input": "2022-04-17T17:51:01.824441Z",
          "iopub.status.idle": "2022-04-17T17:51:01.854330Z",
          "shell.execute_reply.started": "2022-04-17T17:51:01.824404Z",
          "shell.execute_reply": "2022-04-17T17:51:01.853324Z"
        },
        "trusted": true,
        "colab": {
          "base_uri": "https://localhost:8080/",
          "height": 0
        },
        "id": "oWq0IrrL6AEJ",
        "outputId": "2724f4ef-c256-422c-b7dd-5de6327ce6f4"
      },
      "execution_count": 161,
      "outputs": [
        {
          "output_type": "execute_result",
          "data": {
            "text/plain": [
              "      id  season       city       date                        team1  \\\n",
              "0      1    2017  Hyderabad   4/5/2017          Sunrisers Hyderabad   \n",
              "1      2    2017       Pune   4/6/2017               Mumbai Indians   \n",
              "2      3    2017     Rajkot   4/7/2017                Gujarat Lions   \n",
              "3      4    2017     Indore   4/8/2017       Rising Pune Supergiant   \n",
              "4      5    2017  Bangalore   4/8/2017  Royal Challengers Bangalore   \n",
              "..   ...     ...        ...        ...                          ...   \n",
              "631  632    2016     Raipur  5/22/2016             Delhi Daredevils   \n",
              "632  633    2016  Bangalore  5/24/2016                Gujarat Lions   \n",
              "633  634    2016      Delhi  5/25/2016          Sunrisers Hyderabad   \n",
              "634  635    2016      Delhi  5/27/2016                Gujarat Lions   \n",
              "635  636    2016  Bangalore  5/29/2016          Sunrisers Hyderabad   \n",
              "\n",
              "                           team2                  toss_winner toss_decision  \\\n",
              "0    Royal Challengers Bangalore  Royal Challengers Bangalore         field   \n",
              "1         Rising Pune Supergiant       Rising Pune Supergiant         field   \n",
              "2          Kolkata Knight Riders        Kolkata Knight Riders         field   \n",
              "3                Kings XI Punjab              Kings XI Punjab         field   \n",
              "4               Delhi Daredevils  Royal Challengers Bangalore           bat   \n",
              "..                           ...                          ...           ...   \n",
              "631  Royal Challengers Bangalore  Royal Challengers Bangalore         field   \n",
              "632  Royal Challengers Bangalore  Royal Challengers Bangalore         field   \n",
              "633        Kolkata Knight Riders        Kolkata Knight Riders         field   \n",
              "634          Sunrisers Hyderabad          Sunrisers Hyderabad         field   \n",
              "635  Royal Challengers Bangalore          Sunrisers Hyderabad           bat   \n",
              "\n",
              "     result  dl_applied                       winner  win_by_runs  \\\n",
              "0    normal           0          Sunrisers Hyderabad           35   \n",
              "1    normal           0       Rising Pune Supergiant            0   \n",
              "2    normal           0        Kolkata Knight Riders            0   \n",
              "3    normal           0              Kings XI Punjab            0   \n",
              "4    normal           0  Royal Challengers Bangalore           15   \n",
              "..      ...         ...                          ...          ...   \n",
              "631  normal           0  Royal Challengers Bangalore            0   \n",
              "632  normal           0  Royal Challengers Bangalore            0   \n",
              "633  normal           0          Sunrisers Hyderabad           22   \n",
              "634  normal           0          Sunrisers Hyderabad            0   \n",
              "635  normal           0          Sunrisers Hyderabad            8   \n",
              "\n",
              "     win_by_wickets player_of_match  \\\n",
              "0                 0    Yuvraj Singh   \n",
              "1                 7       SPD Smith   \n",
              "2                10         CA Lynn   \n",
              "3                 6      GJ Maxwell   \n",
              "4                 0       KM Jadhav   \n",
              "..              ...             ...   \n",
              "631               6         V Kohli   \n",
              "632               4  AB de Villiers   \n",
              "633               0    MC Henriques   \n",
              "634               4       DA Warner   \n",
              "635               0     BCJ Cutting   \n",
              "\n",
              "                                                venue          umpire1  \\\n",
              "0           Rajiv Gandhi International Stadium, Uppal      AY Dandekar   \n",
              "1             Maharashtra Cricket Association Stadium   A Nand Kishore   \n",
              "2              Saurashtra Cricket Association Stadium      Nitin Menon   \n",
              "3                              Holkar Cricket Stadium     AK Chaudhary   \n",
              "4                               M Chinnaswamy Stadium              NaN   \n",
              "..                                                ...              ...   \n",
              "631  Shaheed Veer Narayan Singh International Stadium   A Nand Kishore   \n",
              "632                             M Chinnaswamy Stadium     AK Chaudhary   \n",
              "633                                  Feroz Shah Kotla        M Erasmus   \n",
              "634                                  Feroz Shah Kotla        M Erasmus   \n",
              "635                             M Chinnaswamy Stadium  HDPK Dharmasena   \n",
              "\n",
              "             umpire2  umpire3  \n",
              "0           NJ Llong      NaN  \n",
              "1             S Ravi      NaN  \n",
              "2          CK Nandan      NaN  \n",
              "3      C Shamshuddin      NaN  \n",
              "4                NaN      NaN  \n",
              "..               ...      ...  \n",
              "631     BNJ Oxenford      NaN  \n",
              "632  HDPK Dharmasena      NaN  \n",
              "633    C Shamshuddin      NaN  \n",
              "634        CK Nandan      NaN  \n",
              "635     BNJ Oxenford      NaN  \n",
              "\n",
              "[636 rows x 18 columns]"
            ],
            "text/html": [
              "\n",
              "  <div id=\"df-82af1e1b-e796-454f-8bb1-c717bc99add7\">\n",
              "    <div class=\"colab-df-container\">\n",
              "      <div>\n",
              "<style scoped>\n",
              "    .dataframe tbody tr th:only-of-type {\n",
              "        vertical-align: middle;\n",
              "    }\n",
              "\n",
              "    .dataframe tbody tr th {\n",
              "        vertical-align: top;\n",
              "    }\n",
              "\n",
              "    .dataframe thead th {\n",
              "        text-align: right;\n",
              "    }\n",
              "</style>\n",
              "<table border=\"1\" class=\"dataframe\">\n",
              "  <thead>\n",
              "    <tr style=\"text-align: right;\">\n",
              "      <th></th>\n",
              "      <th>id</th>\n",
              "      <th>season</th>\n",
              "      <th>city</th>\n",
              "      <th>date</th>\n",
              "      <th>team1</th>\n",
              "      <th>team2</th>\n",
              "      <th>toss_winner</th>\n",
              "      <th>toss_decision</th>\n",
              "      <th>result</th>\n",
              "      <th>dl_applied</th>\n",
              "      <th>winner</th>\n",
              "      <th>win_by_runs</th>\n",
              "      <th>win_by_wickets</th>\n",
              "      <th>player_of_match</th>\n",
              "      <th>venue</th>\n",
              "      <th>umpire1</th>\n",
              "      <th>umpire2</th>\n",
              "      <th>umpire3</th>\n",
              "    </tr>\n",
              "  </thead>\n",
              "  <tbody>\n",
              "    <tr>\n",
              "      <th>0</th>\n",
              "      <td>1</td>\n",
              "      <td>2017</td>\n",
              "      <td>Hyderabad</td>\n",
              "      <td>4/5/2017</td>\n",
              "      <td>Sunrisers Hyderabad</td>\n",
              "      <td>Royal Challengers Bangalore</td>\n",
              "      <td>Royal Challengers Bangalore</td>\n",
              "      <td>field</td>\n",
              "      <td>normal</td>\n",
              "      <td>0</td>\n",
              "      <td>Sunrisers Hyderabad</td>\n",
              "      <td>35</td>\n",
              "      <td>0</td>\n",
              "      <td>Yuvraj Singh</td>\n",
              "      <td>Rajiv Gandhi International Stadium, Uppal</td>\n",
              "      <td>AY Dandekar</td>\n",
              "      <td>NJ Llong</td>\n",
              "      <td>NaN</td>\n",
              "    </tr>\n",
              "    <tr>\n",
              "      <th>1</th>\n",
              "      <td>2</td>\n",
              "      <td>2017</td>\n",
              "      <td>Pune</td>\n",
              "      <td>4/6/2017</td>\n",
              "      <td>Mumbai Indians</td>\n",
              "      <td>Rising Pune Supergiant</td>\n",
              "      <td>Rising Pune Supergiant</td>\n",
              "      <td>field</td>\n",
              "      <td>normal</td>\n",
              "      <td>0</td>\n",
              "      <td>Rising Pune Supergiant</td>\n",
              "      <td>0</td>\n",
              "      <td>7</td>\n",
              "      <td>SPD Smith</td>\n",
              "      <td>Maharashtra Cricket Association Stadium</td>\n",
              "      <td>A Nand Kishore</td>\n",
              "      <td>S Ravi</td>\n",
              "      <td>NaN</td>\n",
              "    </tr>\n",
              "    <tr>\n",
              "      <th>2</th>\n",
              "      <td>3</td>\n",
              "      <td>2017</td>\n",
              "      <td>Rajkot</td>\n",
              "      <td>4/7/2017</td>\n",
              "      <td>Gujarat Lions</td>\n",
              "      <td>Kolkata Knight Riders</td>\n",
              "      <td>Kolkata Knight Riders</td>\n",
              "      <td>field</td>\n",
              "      <td>normal</td>\n",
              "      <td>0</td>\n",
              "      <td>Kolkata Knight Riders</td>\n",
              "      <td>0</td>\n",
              "      <td>10</td>\n",
              "      <td>CA Lynn</td>\n",
              "      <td>Saurashtra Cricket Association Stadium</td>\n",
              "      <td>Nitin Menon</td>\n",
              "      <td>CK Nandan</td>\n",
              "      <td>NaN</td>\n",
              "    </tr>\n",
              "    <tr>\n",
              "      <th>3</th>\n",
              "      <td>4</td>\n",
              "      <td>2017</td>\n",
              "      <td>Indore</td>\n",
              "      <td>4/8/2017</td>\n",
              "      <td>Rising Pune Supergiant</td>\n",
              "      <td>Kings XI Punjab</td>\n",
              "      <td>Kings XI Punjab</td>\n",
              "      <td>field</td>\n",
              "      <td>normal</td>\n",
              "      <td>0</td>\n",
              "      <td>Kings XI Punjab</td>\n",
              "      <td>0</td>\n",
              "      <td>6</td>\n",
              "      <td>GJ Maxwell</td>\n",
              "      <td>Holkar Cricket Stadium</td>\n",
              "      <td>AK Chaudhary</td>\n",
              "      <td>C Shamshuddin</td>\n",
              "      <td>NaN</td>\n",
              "    </tr>\n",
              "    <tr>\n",
              "      <th>4</th>\n",
              "      <td>5</td>\n",
              "      <td>2017</td>\n",
              "      <td>Bangalore</td>\n",
              "      <td>4/8/2017</td>\n",
              "      <td>Royal Challengers Bangalore</td>\n",
              "      <td>Delhi Daredevils</td>\n",
              "      <td>Royal Challengers Bangalore</td>\n",
              "      <td>bat</td>\n",
              "      <td>normal</td>\n",
              "      <td>0</td>\n",
              "      <td>Royal Challengers Bangalore</td>\n",
              "      <td>15</td>\n",
              "      <td>0</td>\n",
              "      <td>KM Jadhav</td>\n",
              "      <td>M Chinnaswamy Stadium</td>\n",
              "      <td>NaN</td>\n",
              "      <td>NaN</td>\n",
              "      <td>NaN</td>\n",
              "    </tr>\n",
              "    <tr>\n",
              "      <th>...</th>\n",
              "      <td>...</td>\n",
              "      <td>...</td>\n",
              "      <td>...</td>\n",
              "      <td>...</td>\n",
              "      <td>...</td>\n",
              "      <td>...</td>\n",
              "      <td>...</td>\n",
              "      <td>...</td>\n",
              "      <td>...</td>\n",
              "      <td>...</td>\n",
              "      <td>...</td>\n",
              "      <td>...</td>\n",
              "      <td>...</td>\n",
              "      <td>...</td>\n",
              "      <td>...</td>\n",
              "      <td>...</td>\n",
              "      <td>...</td>\n",
              "      <td>...</td>\n",
              "    </tr>\n",
              "    <tr>\n",
              "      <th>631</th>\n",
              "      <td>632</td>\n",
              "      <td>2016</td>\n",
              "      <td>Raipur</td>\n",
              "      <td>5/22/2016</td>\n",
              "      <td>Delhi Daredevils</td>\n",
              "      <td>Royal Challengers Bangalore</td>\n",
              "      <td>Royal Challengers Bangalore</td>\n",
              "      <td>field</td>\n",
              "      <td>normal</td>\n",
              "      <td>0</td>\n",
              "      <td>Royal Challengers Bangalore</td>\n",
              "      <td>0</td>\n",
              "      <td>6</td>\n",
              "      <td>V Kohli</td>\n",
              "      <td>Shaheed Veer Narayan Singh International Stadium</td>\n",
              "      <td>A Nand Kishore</td>\n",
              "      <td>BNJ Oxenford</td>\n",
              "      <td>NaN</td>\n",
              "    </tr>\n",
              "    <tr>\n",
              "      <th>632</th>\n",
              "      <td>633</td>\n",
              "      <td>2016</td>\n",
              "      <td>Bangalore</td>\n",
              "      <td>5/24/2016</td>\n",
              "      <td>Gujarat Lions</td>\n",
              "      <td>Royal Challengers Bangalore</td>\n",
              "      <td>Royal Challengers Bangalore</td>\n",
              "      <td>field</td>\n",
              "      <td>normal</td>\n",
              "      <td>0</td>\n",
              "      <td>Royal Challengers Bangalore</td>\n",
              "      <td>0</td>\n",
              "      <td>4</td>\n",
              "      <td>AB de Villiers</td>\n",
              "      <td>M Chinnaswamy Stadium</td>\n",
              "      <td>AK Chaudhary</td>\n",
              "      <td>HDPK Dharmasena</td>\n",
              "      <td>NaN</td>\n",
              "    </tr>\n",
              "    <tr>\n",
              "      <th>633</th>\n",
              "      <td>634</td>\n",
              "      <td>2016</td>\n",
              "      <td>Delhi</td>\n",
              "      <td>5/25/2016</td>\n",
              "      <td>Sunrisers Hyderabad</td>\n",
              "      <td>Kolkata Knight Riders</td>\n",
              "      <td>Kolkata Knight Riders</td>\n",
              "      <td>field</td>\n",
              "      <td>normal</td>\n",
              "      <td>0</td>\n",
              "      <td>Sunrisers Hyderabad</td>\n",
              "      <td>22</td>\n",
              "      <td>0</td>\n",
              "      <td>MC Henriques</td>\n",
              "      <td>Feroz Shah Kotla</td>\n",
              "      <td>M Erasmus</td>\n",
              "      <td>C Shamshuddin</td>\n",
              "      <td>NaN</td>\n",
              "    </tr>\n",
              "    <tr>\n",
              "      <th>634</th>\n",
              "      <td>635</td>\n",
              "      <td>2016</td>\n",
              "      <td>Delhi</td>\n",
              "      <td>5/27/2016</td>\n",
              "      <td>Gujarat Lions</td>\n",
              "      <td>Sunrisers Hyderabad</td>\n",
              "      <td>Sunrisers Hyderabad</td>\n",
              "      <td>field</td>\n",
              "      <td>normal</td>\n",
              "      <td>0</td>\n",
              "      <td>Sunrisers Hyderabad</td>\n",
              "      <td>0</td>\n",
              "      <td>4</td>\n",
              "      <td>DA Warner</td>\n",
              "      <td>Feroz Shah Kotla</td>\n",
              "      <td>M Erasmus</td>\n",
              "      <td>CK Nandan</td>\n",
              "      <td>NaN</td>\n",
              "    </tr>\n",
              "    <tr>\n",
              "      <th>635</th>\n",
              "      <td>636</td>\n",
              "      <td>2016</td>\n",
              "      <td>Bangalore</td>\n",
              "      <td>5/29/2016</td>\n",
              "      <td>Sunrisers Hyderabad</td>\n",
              "      <td>Royal Challengers Bangalore</td>\n",
              "      <td>Sunrisers Hyderabad</td>\n",
              "      <td>bat</td>\n",
              "      <td>normal</td>\n",
              "      <td>0</td>\n",
              "      <td>Sunrisers Hyderabad</td>\n",
              "      <td>8</td>\n",
              "      <td>0</td>\n",
              "      <td>BCJ Cutting</td>\n",
              "      <td>M Chinnaswamy Stadium</td>\n",
              "      <td>HDPK Dharmasena</td>\n",
              "      <td>BNJ Oxenford</td>\n",
              "      <td>NaN</td>\n",
              "    </tr>\n",
              "  </tbody>\n",
              "</table>\n",
              "<p>636 rows × 18 columns</p>\n",
              "</div>\n",
              "      <button class=\"colab-df-convert\" onclick=\"convertToInteractive('df-82af1e1b-e796-454f-8bb1-c717bc99add7')\"\n",
              "              title=\"Convert this dataframe to an interactive table.\"\n",
              "              style=\"display:none;\">\n",
              "        \n",
              "  <svg xmlns=\"http://www.w3.org/2000/svg\" height=\"24px\"viewBox=\"0 0 24 24\"\n",
              "       width=\"24px\">\n",
              "    <path d=\"M0 0h24v24H0V0z\" fill=\"none\"/>\n",
              "    <path d=\"M18.56 5.44l.94 2.06.94-2.06 2.06-.94-2.06-.94-.94-2.06-.94 2.06-2.06.94zm-11 1L8.5 8.5l.94-2.06 2.06-.94-2.06-.94L8.5 2.5l-.94 2.06-2.06.94zm10 10l.94 2.06.94-2.06 2.06-.94-2.06-.94-.94-2.06-.94 2.06-2.06.94z\"/><path d=\"M17.41 7.96l-1.37-1.37c-.4-.4-.92-.59-1.43-.59-.52 0-1.04.2-1.43.59L10.3 9.45l-7.72 7.72c-.78.78-.78 2.05 0 2.83L4 21.41c.39.39.9.59 1.41.59.51 0 1.02-.2 1.41-.59l7.78-7.78 2.81-2.81c.8-.78.8-2.07 0-2.86zM5.41 20L4 18.59l7.72-7.72 1.47 1.35L5.41 20z\"/>\n",
              "  </svg>\n",
              "      </button>\n",
              "      \n",
              "  <style>\n",
              "    .colab-df-container {\n",
              "      display:flex;\n",
              "      flex-wrap:wrap;\n",
              "      gap: 12px;\n",
              "    }\n",
              "\n",
              "    .colab-df-convert {\n",
              "      background-color: #E8F0FE;\n",
              "      border: none;\n",
              "      border-radius: 50%;\n",
              "      cursor: pointer;\n",
              "      display: none;\n",
              "      fill: #1967D2;\n",
              "      height: 32px;\n",
              "      padding: 0 0 0 0;\n",
              "      width: 32px;\n",
              "    }\n",
              "\n",
              "    .colab-df-convert:hover {\n",
              "      background-color: #E2EBFA;\n",
              "      box-shadow: 0px 1px 2px rgba(60, 64, 67, 0.3), 0px 1px 3px 1px rgba(60, 64, 67, 0.15);\n",
              "      fill: #174EA6;\n",
              "    }\n",
              "\n",
              "    [theme=dark] .colab-df-convert {\n",
              "      background-color: #3B4455;\n",
              "      fill: #D2E3FC;\n",
              "    }\n",
              "\n",
              "    [theme=dark] .colab-df-convert:hover {\n",
              "      background-color: #434B5C;\n",
              "      box-shadow: 0px 1px 3px 1px rgba(0, 0, 0, 0.15);\n",
              "      filter: drop-shadow(0px 1px 2px rgba(0, 0, 0, 0.3));\n",
              "      fill: #FFFFFF;\n",
              "    }\n",
              "  </style>\n",
              "\n",
              "      <script>\n",
              "        const buttonEl =\n",
              "          document.querySelector('#df-82af1e1b-e796-454f-8bb1-c717bc99add7 button.colab-df-convert');\n",
              "        buttonEl.style.display =\n",
              "          google.colab.kernel.accessAllowed ? 'block' : 'none';\n",
              "\n",
              "        async function convertToInteractive(key) {\n",
              "          const element = document.querySelector('#df-82af1e1b-e796-454f-8bb1-c717bc99add7');\n",
              "          const dataTable =\n",
              "            await google.colab.kernel.invokeFunction('convertToInteractive',\n",
              "                                                     [key], {});\n",
              "          if (!dataTable) return;\n",
              "\n",
              "          const docLinkHtml = 'Like what you see? Visit the ' +\n",
              "            '<a target=\"_blank\" href=https://colab.research.google.com/notebooks/data_table.ipynb>data table notebook</a>'\n",
              "            + ' to learn more about interactive tables.';\n",
              "          element.innerHTML = '';\n",
              "          dataTable['output_type'] = 'display_data';\n",
              "          await google.colab.output.renderOutput(dataTable, element);\n",
              "          const docLink = document.createElement('div');\n",
              "          docLink.innerHTML = docLinkHtml;\n",
              "          element.appendChild(docLink);\n",
              "        }\n",
              "      </script>\n",
              "    </div>\n",
              "  </div>\n",
              "  "
            ]
          },
          "metadata": {},
          "execution_count": 161
        }
      ]
    },
    {
      "cell_type": "markdown",
      "source": [
        "#  IPL Matches Played by Each Team**"
      ],
      "metadata": {
        "id": "VYdlXx416AEJ"
      }
    },
    {
      "cell_type": "code",
      "source": [
        "ipl_played=df.groupby(\"team1\")[\"id\"].count().sort_values(ascending=False)\n",
        "ipl_played"
      ],
      "metadata": {
        "execution": {
          "iopub.status.busy": "2022-04-17T18:12:40.733209Z",
          "iopub.execute_input": "2022-04-17T18:12:40.733847Z",
          "iopub.status.idle": "2022-04-17T18:12:40.744359Z",
          "shell.execute_reply.started": "2022-04-17T18:12:40.733799Z",
          "shell.execute_reply": "2022-04-17T18:12:40.743238Z"
        },
        "trusted": true,
        "colab": {
          "base_uri": "https://localhost:8080/"
        },
        "id": "iiaeeyt86AEK",
        "outputId": "835b1701-c5d7-4fea-a290-a9e6a306ed30"
      },
      "execution_count": 162,
      "outputs": [
        {
          "output_type": "execute_result",
          "data": {
            "text/plain": [
              "team1\n",
              "Mumbai Indians                 82\n",
              "Chennai Super Kings            77\n",
              "Kings XI Punjab                77\n",
              "Royal Challengers Bangalore    70\n",
              "Kolkata Knight Riders          68\n",
              "Delhi Daredevils               63\n",
              "Rajasthan Royals               54\n",
              "Sunrisers Hyderabad            46\n",
              "Deccan Chargers                43\n",
              "Pune Warriors                  20\n",
              "Gujarat Lions                  14\n",
              "Rising Pune Supergiant          8\n",
              "Kochi Tuskers Kerala            7\n",
              "Rising Pune Supergiants         7\n",
              "Name: id, dtype: int64"
            ]
          },
          "metadata": {},
          "execution_count": 162
        }
      ]
    },
    {
      "cell_type": "code",
      "source": [
        "#most winning team"
      ],
      "metadata": {
        "id": "TX2mdYA16AEL"
      },
      "execution_count": 164,
      "outputs": []
    },
    {
      "cell_type": "markdown",
      "source": [
        ""
      ],
      "metadata": {
        "id": "4S1cVmP76AEM"
      }
    },
    {
      "cell_type": "code",
      "source": [
        "most_win=df.groupby(\"team1\")[\"winner\"].value_counts()"
      ],
      "metadata": {
        "execution": {
          "iopub.status.busy": "2022-04-17T18:26:29.504849Z",
          "iopub.execute_input": "2022-04-17T18:26:29.505184Z",
          "iopub.status.idle": "2022-04-17T18:26:29.513295Z",
          "shell.execute_reply.started": "2022-04-17T18:26:29.505131Z",
          "shell.execute_reply": "2022-04-17T18:26:29.512440Z"
        },
        "trusted": true,
        "id": "c8IL_FoS6AEM"
      },
      "execution_count": 165,
      "outputs": []
    },
    {
      "cell_type": "code",
      "source": [
        "most_win=most_win.sort_values(ascending=False)"
      ],
      "metadata": {
        "execution": {
          "iopub.status.busy": "2022-04-17T18:27:30.004008Z",
          "iopub.execute_input": "2022-04-17T18:27:30.004279Z",
          "iopub.status.idle": "2022-04-17T18:27:30.013785Z",
          "shell.execute_reply.started": "2022-04-17T18:27:30.004250Z",
          "shell.execute_reply": "2022-04-17T18:27:30.008591Z"
        },
        "trusted": true,
        "id": "O4qQB1f76AEM"
      },
      "execution_count": 166,
      "outputs": []
    },
    {
      "cell_type": "markdown",
      "source": [
        ""
      ],
      "metadata": {
        "id": "VSP0wV9a6AEO"
      }
    },
    {
      "cell_type": "markdown",
      "source": [
        "# match win by toss_decision "
      ],
      "metadata": {
        "id": "hcDCRnQp6AEP"
      }
    },
    {
      "cell_type": "code",
      "source": [
        "match_tos=df.groupby(\"winner\")[\"toss_decision\"].count()\n",
        "match_tos=match_tos.nlargest()\n",
        "match_tos.plot(kind=\"bar\",title=\"match_tos\")\n",
        "\n",
        "plt.show()"
      ],
      "metadata": {
        "execution": {
          "iopub.status.busy": "2022-04-17T18:30:18.253682Z",
          "iopub.execute_input": "2022-04-17T18:30:18.253967Z",
          "iopub.status.idle": "2022-04-17T18:30:18.442780Z",
          "shell.execute_reply.started": "2022-04-17T18:30:18.253937Z",
          "shell.execute_reply": "2022-04-17T18:30:18.441787Z"
        },
        "trusted": true,
        "colab": {
          "base_uri": "https://localhost:8080/",
          "height": 429
        },
        "id": "hmVBRbcZ6AEU",
        "outputId": "8ed38f60-eb6a-407f-daa3-aed627dde3c6"
      },
      "execution_count": 168,
      "outputs": [
        {
          "output_type": "display_data",
          "data": {
            "text/plain": [
              "<Figure size 432x288 with 1 Axes>"
            ],
            "image/png": "[encoded data removed]"
          },
          "metadata": {
            "needs_background": "light"
          }
        }
      ]
    },
    {
      "cell_type": "code",
      "source": [
        "most_win=most_win.nlargest()\n",
        "most_win.plot(kind=\"bar\",title=\"most_win\")"
      ],
      "metadata": {
        "execution": {
          "iopub.status.busy": "2022-04-17T18:29:50.476224Z",
          "iopub.execute_input": "2022-04-17T18:29:50.476617Z",
          "iopub.status.idle": "2022-04-17T18:29:50.700880Z",
          "shell.execute_reply.started": "2022-04-17T18:29:50.476580Z",
          "shell.execute_reply": "2022-04-17T18:29:50.699992Z"
        },
        "trusted": true,
        "colab": {
          "base_uri": "https://localhost:8080/",
          "height": 605
        },
        "id": "UHSNXc2E6AEW",
        "outputId": "27b03ce1-3082-403c-f693-34b19b12250f"
      },
      "execution_count": 169,
      "outputs": [
        {
          "output_type": "execute_result",
          "data": {
            "text/plain": [
              "<matplotlib.axes._subplots.AxesSubplot at 0x7f7a08149110>"
            ]
          },
          "metadata": {},
          "execution_count": 169
        },
        {
          "output_type": "display_data",
          "data": {
            "text/plain": [
              "<Figure size 432x288 with 1 Axes>"
            ],
            "image/png": "[encoded data removed]"
          },
          "metadata": {
            "needs_background": "light"
          }
        }
      ]
    },
    {
      "cell_type": "markdown",
      "source": [
        ""
      ],
      "metadata": {
        "id": "oMB3eKve6AEY"
      }
    }
  ]
}
