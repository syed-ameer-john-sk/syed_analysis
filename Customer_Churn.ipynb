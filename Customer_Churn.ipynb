{
  "cells": [
    {
      "cell_type": "markdown",
      "metadata": {
        "id": "view-in-github",
        "colab_type": "text"
      },
      "source": [
        "<a href=\"https://colab.research.google.com/github/Rose776/syed_analysis/blob/main/Customer_Churn.ipynb\" target=\"_parent\"><img src=\"https://colab.research.google.com/assets/colab-badge.svg\" alt=\"Open In Colab\"/></a>"
      ]
    },
    {
      "cell_type": "code",
      "execution_count": 79,
      "id": "84c00110-89c5-40f5-bff7-a19e43416d97",
      "metadata": {
        "id": "84c00110-89c5-40f5-bff7-a19e43416d97"
      },
      "outputs": [],
      "source": [
        "import pandas as pd\n",
        "import numpy as np\n",
        "import matplotlib.pyplot as plt\n",
        "import seaborn as sns\n",
        "import warnings\n",
        "warnings.filterwarnings('ignore')\n",
        "                        "
      ]
    },
    {
      "cell_type": "code",
      "source": [
        "from google.colab import drive\n",
        "drive.mount('/content/drive')"
      ],
      "metadata": {
        "colab": {
          "base_uri": "https://localhost:8080/"
        },
        "id": "HnS42GeeYtm4",
        "outputId": "06972890-b8bc-4f1d-ea39-6f73703bc9df"
      },
      "id": "HnS42GeeYtm4",
      "execution_count": 80,
      "outputs": [
        {
          "output_type": "stream",
          "name": "stdout",
          "text": [
            "Drive already mounted at /content/drive; to attempt to forcibly remount, call drive.mount(\"/content/drive\", force_remount=True).\n"
          ]
        }
      ]
    },
    {
      "cell_type": "code",
      "execution_count": 81,
      "id": "f6d6af4c-3176-4a2e-8e1d-e5aa971abbee",
      "metadata": {
        "id": "f6d6af4c-3176-4a2e-8e1d-e5aa971abbee"
      },
      "outputs": [],
      "source": [
        "df=pd.read_csv('/content/drive/MyDrive/Data/WA_Fn-UseC_-Telco-Customer-Churn.csv')"
      ]
    },
    {
      "cell_type": "code",
      "execution_count": 82,
      "id": "8c2623dc-2c11-4641-962c-13f4510acdd7",
      "metadata": {
        "colab": {
          "base_uri": "https://localhost:8080/",
          "height": 386
        },
        "id": "8c2623dc-2c11-4641-962c-13f4510acdd7",
        "outputId": "afd6c872-7c32-4c3a-9d77-1c5700095cbc"
      },
      "outputs": [
        {
          "output_type": "execute_result",
          "data": {
            "text/plain": [
              "   customerID  gender  SeniorCitizen Partner Dependents  tenure PhoneService  \\\n",
              "0  7590-VHVEG  Female              0     Yes         No       1           No   \n",
              "1  5575-GNVDE    Male              0      No         No      34          Yes   \n",
              "2  3668-QPYBK    Male              0      No         No       2          Yes   \n",
              "3  7795-CFOCW    Male              0      No         No      45           No   \n",
              "4  9237-HQITU  Female              0      No         No       2          Yes   \n",
              "\n",
              "      MultipleLines InternetService OnlineSecurity  ... DeviceProtection  \\\n",
              "0  No phone service             DSL             No  ...               No   \n",
              "1                No             DSL            Yes  ...              Yes   \n",
              "2                No             DSL            Yes  ...               No   \n",
              "3  No phone service             DSL            Yes  ...              Yes   \n",
              "4                No     Fiber optic             No  ...               No   \n",
              "\n",
              "  TechSupport StreamingTV StreamingMovies        Contract PaperlessBilling  \\\n",
              "0          No          No              No  Month-to-month              Yes   \n",
              "1          No          No              No        One year               No   \n",
              "2          No          No              No  Month-to-month              Yes   \n",
              "3         Yes          No              No        One year               No   \n",
              "4          No          No              No  Month-to-month              Yes   \n",
              "\n",
              "               PaymentMethod MonthlyCharges  TotalCharges Churn  \n",
              "0           Electronic check          29.85         29.85    No  \n",
              "1               Mailed check          56.95        1889.5    No  \n",
              "2               Mailed check          53.85        108.15   Yes  \n",
              "3  Bank transfer (automatic)          42.30       1840.75    No  \n",
              "4           Electronic check          70.70        151.65   Yes  \n",
              "\n",
              "[5 rows x 21 columns]"
            ],
            "text/html": [
              "\n",
              "  <div id=\"df-c2b4d5f0-a805-4c4d-8910-dd00650bead9\">\n",
              "    <div class=\"colab-df-container\">\n",
              "      <div>\n",
              "<style scoped>\n",
              "    .dataframe tbody tr th:only-of-type {\n",
              "        vertical-align: middle;\n",
              "    }\n",
              "\n",
              "    .dataframe tbody tr th {\n",
              "        vertical-align: top;\n",
              "    }\n",
              "\n",
              "    .dataframe thead th {\n",
              "        text-align: right;\n",
              "    }\n",
              "</style>\n",
              "<table border=\"1\" class=\"dataframe\">\n",
              "  <thead>\n",
              "    <tr style=\"text-align: right;\">\n",
              "      <th></th>\n",
              "      <th>customerID</th>\n",
              "      <th>gender</th>\n",
              "      <th>SeniorCitizen</th>\n",
              "      <th>Partner</th>\n",
              "      <th>Dependents</th>\n",
              "      <th>tenure</th>\n",
              "      <th>PhoneService</th>\n",
              "      <th>MultipleLines</th>\n",
              "      <th>InternetService</th>\n",
              "      <th>OnlineSecurity</th>\n",
              "      <th>...</th>\n",
              "      <th>DeviceProtection</th>\n",
              "      <th>TechSupport</th>\n",
              "      <th>StreamingTV</th>\n",
              "      <th>StreamingMovies</th>\n",
              "      <th>Contract</th>\n",
              "      <th>PaperlessBilling</th>\n",
              "      <th>PaymentMethod</th>\n",
              "      <th>MonthlyCharges</th>\n",
              "      <th>TotalCharges</th>\n",
              "      <th>Churn</th>\n",
              "    </tr>\n",
              "  </thead>\n",
              "  <tbody>\n",
              "    <tr>\n",
              "      <th>0</th>\n",
              "      <td>7590-VHVEG</td>\n",
              "      <td>Female</td>\n",
              "      <td>0</td>\n",
              "      <td>Yes</td>\n",
              "      <td>No</td>\n",
              "      <td>1</td>\n",
              "      <td>No</td>\n",
              "      <td>No phone service</td>\n",
              "      <td>DSL</td>\n",
              "      <td>No</td>\n",
              "      <td>...</td>\n",
              "      <td>No</td>\n",
              "      <td>No</td>\n",
              "      <td>No</td>\n",
              "      <td>No</td>\n",
              "      <td>Month-to-month</td>\n",
              "      <td>Yes</td>\n",
              "      <td>Electronic check</td>\n",
              "      <td>29.85</td>\n",
              "      <td>29.85</td>\n",
              "      <td>No</td>\n",
              "    </tr>\n",
              "    <tr>\n",
              "      <th>1</th>\n",
              "      <td>5575-GNVDE</td>\n",
              "      <td>Male</td>\n",
              "      <td>0</td>\n",
              "      <td>No</td>\n",
              "      <td>No</td>\n",
              "      <td>34</td>\n",
              "      <td>Yes</td>\n",
              "      <td>No</td>\n",
              "      <td>DSL</td>\n",
              "      <td>Yes</td>\n",
              "      <td>...</td>\n",
              "      <td>Yes</td>\n",
              "      <td>No</td>\n",
              "      <td>No</td>\n",
              "      <td>No</td>\n",
              "      <td>One year</td>\n",
              "      <td>No</td>\n",
              "      <td>Mailed check</td>\n",
              "      <td>56.95</td>\n",
              "      <td>1889.5</td>\n",
              "      <td>No</td>\n",
              "    </tr>\n",
              "    <tr>\n",
              "      <th>2</th>\n",
              "      <td>3668-QPYBK</td>\n",
              "      <td>Male</td>\n",
              "      <td>0</td>\n",
              "      <td>No</td>\n",
              "      <td>No</td>\n",
              "      <td>2</td>\n",
              "      <td>Yes</td>\n",
              "      <td>No</td>\n",
              "      <td>DSL</td>\n",
              "      <td>Yes</td>\n",
              "      <td>...</td>\n",
              "      <td>No</td>\n",
              "      <td>No</td>\n",
              "      <td>No</td>\n",
              "      <td>No</td>\n",
              "      <td>Month-to-month</td>\n",
              "      <td>Yes</td>\n",
              "      <td>Mailed check</td>\n",
              "      <td>53.85</td>\n",
              "      <td>108.15</td>\n",
              "      <td>Yes</td>\n",
              "    </tr>\n",
              "    <tr>\n",
              "      <th>3</th>\n",
              "      <td>7795-CFOCW</td>\n",
              "      <td>Male</td>\n",
              "      <td>0</td>\n",
              "      <td>No</td>\n",
              "      <td>No</td>\n",
              "      <td>45</td>\n",
              "      <td>No</td>\n",
              "      <td>No phone service</td>\n",
              "      <td>DSL</td>\n",
              "      <td>Yes</td>\n",
              "      <td>...</td>\n",
              "      <td>Yes</td>\n",
              "      <td>Yes</td>\n",
              "      <td>No</td>\n",
              "      <td>No</td>\n",
              "      <td>One year</td>\n",
              "      <td>No</td>\n",
              "      <td>Bank transfer (automatic)</td>\n",
              "      <td>42.30</td>\n",
              "      <td>1840.75</td>\n",
              "      <td>No</td>\n",
              "    </tr>\n",
              "    <tr>\n",
              "      <th>4</th>\n",
              "      <td>9237-HQITU</td>\n",
              "      <td>Female</td>\n",
              "      <td>0</td>\n",
              "      <td>No</td>\n",
              "      <td>No</td>\n",
              "      <td>2</td>\n",
              "      <td>Yes</td>\n",
              "      <td>No</td>\n",
              "      <td>Fiber optic</td>\n",
              "      <td>No</td>\n",
              "      <td>...</td>\n",
              "      <td>No</td>\n",
              "      <td>No</td>\n",
              "      <td>No</td>\n",
              "      <td>No</td>\n",
              "      <td>Month-to-month</td>\n",
              "      <td>Yes</td>\n",
              "      <td>Electronic check</td>\n",
              "      <td>70.70</td>\n",
              "      <td>151.65</td>\n",
              "      <td>Yes</td>\n",
              "    </tr>\n",
              "  </tbody>\n",
              "</table>\n",
              "<p>5 rows × 21 columns</p>\n",
              "</div>\n",
              "      <button class=\"colab-df-convert\" onclick=\"convertToInteractive('df-c2b4d5f0-a805-4c4d-8910-dd00650bead9')\"\n",
              "              title=\"Convert this dataframe to an interactive table.\"\n",
              "              style=\"display:none;\">\n",
              "        \n",
              "  <svg xmlns=\"http://www.w3.org/2000/svg\" height=\"24px\"viewBox=\"0 0 24 24\"\n",
              "       width=\"24px\">\n",
              "    <path d=\"M0 0h24v24H0V0z\" fill=\"none\"/>\n",
              "    <path d=\"M18.56 5.44l.94 2.06.94-2.06 2.06-.94-2.06-.94-.94-2.06-.94 2.06-2.06.94zm-11 1L8.5 8.5l.94-2.06 2.06-.94-2.06-.94L8.5 2.5l-.94 2.06-2.06.94zm10 10l.94 2.06.94-2.06 2.06-.94-2.06-.94-.94-2.06-.94 2.06-2.06.94z\"/><path d=\"M17.41 7.96l-1.37-1.37c-.4-.4-.92-.59-1.43-.59-.52 0-1.04.2-1.43.59L10.3 9.45l-7.72 7.72c-.78.78-.78 2.05 0 2.83L4 21.41c.39.39.9.59 1.41.59.51 0 1.02-.2 1.41-.59l7.78-7.78 2.81-2.81c.8-.78.8-2.07 0-2.86zM5.41 20L4 18.59l7.72-7.72 1.47 1.35L5.41 20z\"/>\n",
              "  </svg>\n",
              "      </button>\n",
              "      \n",
              "  <style>\n",
              "    .colab-df-container {\n",
              "      display:flex;\n",
              "      flex-wrap:wrap;\n",
              "      gap: 12px;\n",
              "    }\n",
              "\n",
              "    .colab-df-convert {\n",
              "      background-color: #E8F0FE;\n",
              "      border: none;\n",
              "      border-radius: 50%;\n",
              "      cursor: pointer;\n",
              "      display: none;\n",
              "      fill: #1967D2;\n",
              "      height: 32px;\n",
              "      padding: 0 0 0 0;\n",
              "      width: 32px;\n",
              "    }\n",
              "\n",
              "    .colab-df-convert:hover {\n",
              "      background-color: #E2EBFA;\n",
              "      box-shadow: 0px 1px 2px rgba(60, 64, 67, 0.3), 0px 1px 3px 1px rgba(60, 64, 67, 0.15);\n",
              "      fill: #174EA6;\n",
              "    }\n",
              "\n",
              "    [theme=dark] .colab-df-convert {\n",
              "      background-color: #3B4455;\n",
              "      fill: #D2E3FC;\n",
              "    }\n",
              "\n",
              "    [theme=dark] .colab-df-convert:hover {\n",
              "      background-color: #434B5C;\n",
              "      box-shadow: 0px 1px 3px 1px rgba(0, 0, 0, 0.15);\n",
              "      filter: drop-shadow(0px 1px 2px rgba(0, 0, 0, 0.3));\n",
              "      fill: #FFFFFF;\n",
              "    }\n",
              "  </style>\n",
              "\n",
              "      <script>\n",
              "        const buttonEl =\n",
              "          document.querySelector('#df-c2b4d5f0-a805-4c4d-8910-dd00650bead9 button.colab-df-convert');\n",
              "        buttonEl.style.display =\n",
              "          google.colab.kernel.accessAllowed ? 'block' : 'none';\n",
              "\n",
              "        async function convertToInteractive(key) {\n",
              "          const element = document.querySelector('#df-c2b4d5f0-a805-4c4d-8910-dd00650bead9');\n",
              "          const dataTable =\n",
              "            await google.colab.kernel.invokeFunction('convertToInteractive',\n",
              "                                                     [key], {});\n",
              "          if (!dataTable) return;\n",
              "\n",
              "          const docLinkHtml = 'Like what you see? Visit the ' +\n",
              "            '<a target=\"_blank\" href=https://colab.research.google.com/notebooks/data_table.ipynb>data table notebook</a>'\n",
              "            + ' to learn more about interactive tables.';\n",
              "          element.innerHTML = '';\n",
              "          dataTable['output_type'] = 'display_data';\n",
              "          await google.colab.output.renderOutput(dataTable, element);\n",
              "          const docLink = document.createElement('div');\n",
              "          docLink.innerHTML = docLinkHtml;\n",
              "          element.appendChild(docLink);\n",
              "        }\n",
              "      </script>\n",
              "    </div>\n",
              "  </div>\n",
              "  "
            ]
          },
          "metadata": {},
          "execution_count": 82
        }
      ],
      "source": [
        "df.head()"
      ]
    },
    {
      "cell_type": "markdown",
      "id": "0ce474a7-3099-4e87-b088-45521e6997b1",
      "metadata": {
        "id": "0ce474a7-3099-4e87-b088-45521e6997b1"
      },
      "source": [
        "# Basic Analysis Of data"
      ]
    },
    {
      "cell_type": "code",
      "execution_count": 83,
      "id": "9fd92d08-ff3b-48d0-b496-b8bf3771f48c",
      "metadata": {
        "colab": {
          "base_uri": "https://localhost:8080/"
        },
        "id": "9fd92d08-ff3b-48d0-b496-b8bf3771f48c",
        "outputId": "ac4c5f26-73b3-457d-a165-f5f0a1da59bb"
      },
      "outputs": [
        {
          "output_type": "stream",
          "name": "stdout",
          "text": [
            "<class 'pandas.core.frame.DataFrame'>\n",
            "RangeIndex: 7043 entries, 0 to 7042\n",
            "Data columns (total 21 columns):\n",
            " #   Column            Non-Null Count  Dtype  \n",
            "---  ------            --------------  -----  \n",
            " 0   customerID        7043 non-null   object \n",
            " 1   gender            7043 non-null   object \n",
            " 2   SeniorCitizen     7043 non-null   int64  \n",
            " 3   Partner           7043 non-null   object \n",
            " 4   Dependents        7043 non-null   object \n",
            " 5   tenure            7043 non-null   int64  \n",
            " 6   PhoneService      7043 non-null   object \n",
            " 7   MultipleLines     7043 non-null   object \n",
            " 8   InternetService   7043 non-null   object \n",
            " 9   OnlineSecurity    7043 non-null   object \n",
            " 10  OnlineBackup      7043 non-null   object \n",
            " 11  DeviceProtection  7043 non-null   object \n",
            " 12  TechSupport       7043 non-null   object \n",
            " 13  StreamingTV       7043 non-null   object \n",
            " 14  StreamingMovies   7043 non-null   object \n",
            " 15  Contract          7043 non-null   object \n",
            " 16  PaperlessBilling  7043 non-null   object \n",
            " 17  PaymentMethod     7043 non-null   object \n",
            " 18  MonthlyCharges    7043 non-null   float64\n",
            " 19  TotalCharges      7043 non-null   object \n",
            " 20  Churn             7043 non-null   object \n",
            "dtypes: float64(1), int64(2), object(18)\n",
            "memory usage: 1.1+ MB\n"
          ]
        }
      ],
      "source": [
        "df.info()"
      ]
    },
    {
      "cell_type": "markdown",
      "id": "93a8084f-0d2d-49bb-981a-56423394ece8",
      "metadata": {
        "id": "93a8084f-0d2d-49bb-981a-56423394ece8"
      },
      "source": [
        "# Chaging The Columns into Category so That we can analyze the Data"
      ]
    },
    {
      "cell_type": "code",
      "execution_count": 84,
      "id": "086a3479-60d3-4dcc-960c-7a3c996c5a15",
      "metadata": {
        "id": "086a3479-60d3-4dcc-960c-7a3c996c5a15"
      },
      "outputs": [],
      "source": [
        "df['gender']=df['gender'].astype('category')"
      ]
    },
    {
      "cell_type": "code",
      "execution_count": 85,
      "id": "8449d34f-3956-4a5b-993d-a576aec1d881",
      "metadata": {
        "id": "8449d34f-3956-4a5b-993d-a576aec1d881"
      },
      "outputs": [],
      "source": [
        "df['SeniorCitizen']=df['SeniorCitizen'].replace({1:'Yes',0:'No'})"
      ]
    },
    {
      "cell_type": "code",
      "execution_count": 86,
      "id": "c4ee1b8f-f811-4943-bf5c-851eec77202d",
      "metadata": {
        "id": "c4ee1b8f-f811-4943-bf5c-851eec77202d"
      },
      "outputs": [],
      "source": [
        "df['SeniorCitizen']=df['SeniorCitizen'].astype('category')"
      ]
    },
    {
      "cell_type": "code",
      "execution_count": 87,
      "id": "81a190da-3824-49c1-b8c9-1a7494ffec5a",
      "metadata": {
        "id": "81a190da-3824-49c1-b8c9-1a7494ffec5a"
      },
      "outputs": [],
      "source": [
        "df['InternetService']=df['InternetService'].astype('category')"
      ]
    },
    {
      "cell_type": "code",
      "execution_count": 88,
      "id": "73e21276-243d-4736-a7a4-86bb616e8d10",
      "metadata": {
        "id": "73e21276-243d-4736-a7a4-86bb616e8d10"
      },
      "outputs": [],
      "source": [
        "df['OnlineSecurity']=df['OnlineSecurity'].astype('category')"
      ]
    },
    {
      "cell_type": "code",
      "execution_count": 89,
      "id": "a2f8eb99-99f2-4f05-9155-dd7d1941110c",
      "metadata": {
        "id": "a2f8eb99-99f2-4f05-9155-dd7d1941110c"
      },
      "outputs": [],
      "source": [
        "df['PaymentMethod']=df['PaymentMethod'].astype('category')"
      ]
    },
    {
      "cell_type": "code",
      "execution_count": 90,
      "id": "c87a7fe4-23ab-43cf-ac73-40fc21236aa4",
      "metadata": {
        "id": "c87a7fe4-23ab-43cf-ac73-40fc21236aa4"
      },
      "outputs": [],
      "source": [
        "df['Churn']=df['Churn'].astype('category')"
      ]
    },
    {
      "cell_type": "code",
      "execution_count": 91,
      "id": "984ca59c-0c46-428e-8afd-ac8c25e975ba",
      "metadata": {
        "colab": {
          "base_uri": "https://localhost:8080/"
        },
        "id": "984ca59c-0c46-428e-8afd-ac8c25e975ba",
        "outputId": "47f91d39-1cb6-48ad-b596-660766f23319"
      },
      "outputs": [
        {
          "output_type": "stream",
          "name": "stdout",
          "text": [
            "<class 'pandas.core.frame.DataFrame'>\n",
            "RangeIndex: 7043 entries, 0 to 7042\n",
            "Data columns (total 21 columns):\n",
            " #   Column            Non-Null Count  Dtype   \n",
            "---  ------            --------------  -----   \n",
            " 0   customerID        7043 non-null   object  \n",
            " 1   gender            7043 non-null   category\n",
            " 2   SeniorCitizen     7043 non-null   category\n",
            " 3   Partner           7043 non-null   object  \n",
            " 4   Dependents        7043 non-null   object  \n",
            " 5   tenure            7043 non-null   int64   \n",
            " 6   PhoneService      7043 non-null   object  \n",
            " 7   MultipleLines     7043 non-null   object  \n",
            " 8   InternetService   7043 non-null   category\n",
            " 9   OnlineSecurity    7043 non-null   category\n",
            " 10  OnlineBackup      7043 non-null   object  \n",
            " 11  DeviceProtection  7043 non-null   object  \n",
            " 12  TechSupport       7043 non-null   object  \n",
            " 13  StreamingTV       7043 non-null   object  \n",
            " 14  StreamingMovies   7043 non-null   object  \n",
            " 15  Contract          7043 non-null   object  \n",
            " 16  PaperlessBilling  7043 non-null   object  \n",
            " 17  PaymentMethod     7043 non-null   category\n",
            " 18  MonthlyCharges    7043 non-null   float64 \n",
            " 19  TotalCharges      7043 non-null   object  \n",
            " 20  Churn             7043 non-null   category\n",
            "dtypes: category(6), float64(1), int64(1), object(13)\n",
            "memory usage: 867.6+ KB\n"
          ]
        }
      ],
      "source": [
        "df.info()"
      ]
    },
    {
      "cell_type": "markdown",
      "id": "a8c5c0c3-996c-4b9b-8e26-499c757be00d",
      "metadata": {
        "id": "a8c5c0c3-996c-4b9b-8e26-499c757be00d"
      },
      "source": [
        "# Based On gender"
      ]
    },
    {
      "cell_type": "code",
      "execution_count": 92,
      "id": "55dcd69a-cd7f-445a-bc2d-ee2a3cd0e333",
      "metadata": {
        "colab": {
          "base_uri": "https://localhost:8080/",
          "height": 279
        },
        "id": "55dcd69a-cd7f-445a-bc2d-ee2a3cd0e333",
        "outputId": "01080726-ed00-4de7-9620-109b55616e13"
      },
      "outputs": [
        {
          "output_type": "display_data",
          "data": {
            "text/plain": [
              "<Figure size 432x288 with 1 Axes>"
            ],
            "image/png": "[encoded data removed]"
          },
          "metadata": {
            "needs_background": "light"
          }
        }
      ],
      "source": [
        "plt.subplot(111)\n",
        "_=sns.countplot(df['gender'],hue=df['Churn'])"
      ]
    },
    {
      "cell_type": "code",
      "execution_count": 93,
      "id": "e4290ebb-4c1a-4833-bd02-c3b09b2e87dd",
      "metadata": {
        "id": "e4290ebb-4c1a-4833-bd02-c3b09b2e87dd"
      },
      "outputs": [],
      "source": [
        "# Male and Female are equal proportion of churn in the Dataset so we can not consider gender as a insight"
      ]
    },
    {
      "cell_type": "code",
      "execution_count": 94,
      "id": "304b11ed-de08-4fda-a245-e4a6e3bdb08d",
      "metadata": {
        "colab": {
          "base_uri": "https://localhost:8080/",
          "height": 279
        },
        "id": "304b11ed-de08-4fda-a245-e4a6e3bdb08d",
        "outputId": "1b5e81e7-2d8b-462c-f572-fa34581c9591"
      },
      "outputs": [
        {
          "output_type": "display_data",
          "data": {
            "text/plain": [
              "<Figure size 432x288 with 1 Axes>"
            ],
            "image/png": "[encoded data removed]"
          },
          "metadata": {
            "needs_background": "light"
          }
        }
      ],
      "source": [
        "plt.subplot(111)\n",
        "_=sns.countplot(df['SeniorCitizen'],hue=df['Churn'])"
      ]
    },
    {
      "cell_type": "code",
      "execution_count": 95,
      "id": "bd56b04e-0c22-49c4-a45a-d023a0dd3dab",
      "metadata": {
        "id": "bd56b04e-0c22-49c4-a45a-d023a0dd3dab"
      },
      "outputs": [],
      "source": [
        "# The seniorCitizen are not churn that much but the people who are not young they are have a 1/3 ratio of churn "
      ]
    },
    {
      "cell_type": "code",
      "execution_count": 96,
      "id": "fde2cbfe-5ac5-4c52-b9a8-c770f4869311",
      "metadata": {
        "colab": {
          "base_uri": "https://localhost:8080/",
          "height": 279
        },
        "id": "fde2cbfe-5ac5-4c52-b9a8-c770f4869311",
        "outputId": "d588e33d-e993-4f43-de35-787a829451d9"
      },
      "outputs": [
        {
          "output_type": "display_data",
          "data": {
            "text/plain": [
              "<Figure size 432x288 with 1 Axes>"
            ],
            "image/png": "[encoded data removed]"
          },
          "metadata": {
            "needs_background": "light"
          }
        }
      ],
      "source": [
        "_=sns.countplot(df['Partner'],hue=df['Churn'])"
      ]
    },
    {
      "cell_type": "code",
      "execution_count": 97,
      "id": "cf76b877-20ae-4ba3-9d5f-2a71ab53f0e7",
      "metadata": {
        "id": "cf76b877-20ae-4ba3-9d5f-2a71ab53f0e7"
      },
      "outputs": [],
      "source": [
        "# customer  who are  not partner they left more than customer who are partner so we want to take some attention to customer who are not partner"
      ]
    },
    {
      "cell_type": "code",
      "execution_count": 98,
      "id": "f0a47708-6dac-4aed-a53f-6314af504c56",
      "metadata": {
        "colab": {
          "base_uri": "https://localhost:8080/",
          "height": 280
        },
        "id": "f0a47708-6dac-4aed-a53f-6314af504c56",
        "outputId": "bac62659-dc76-478e-99f7-46b1801dfc88"
      },
      "outputs": [
        {
          "output_type": "display_data",
          "data": {
            "text/plain": [
              "<Figure size 432x288 with 1 Axes>"
            ],
            "image/png": "[encoded data removed]"
          },
          "metadata": {
            "needs_background": "light"
          }
        }
      ],
      "source": [
        "_=sns.countplot(df['Dependents'],hue=df['Churn'])"
      ]
    },
    {
      "cell_type": "code",
      "execution_count": 99,
      "id": "4f00c978-d6f8-4f8a-9a04-9550bab38873",
      "metadata": {
        "id": "4f00c978-d6f8-4f8a-9a04-9550bab38873"
      },
      "outputs": [],
      "source": [
        "# like partner Dependent customer also have left the company taking care of Dependent can reduce the churn rate"
      ]
    },
    {
      "cell_type": "code",
      "execution_count": 100,
      "id": "c1f01d8b-a78d-47f9-beb4-311f5080b6b9",
      "metadata": {
        "colab": {
          "base_uri": "https://localhost:8080/",
          "height": 459
        },
        "id": "c1f01d8b-a78d-47f9-beb4-311f5080b6b9",
        "outputId": "9949c790-32b2-492a-8043-8d959e128279"
      },
      "outputs": [
        {
          "output_type": "execute_result",
          "data": {
            "text/plain": [
              "<matplotlib.axes._subplots.AxesSubplot at 0x7f1d001fadd0>"
            ]
          },
          "metadata": {},
          "execution_count": 100
        },
        {
          "output_type": "display_data",
          "data": {
            "text/plain": [
              "<Figure size 1296x504 with 1 Axes>"
            ],
            "image/png": "[encoded data removed]"
          },
          "metadata": {
            "needs_background": "light"
          }
        }
      ],
      "source": [
        "plt.figure(figsize=(18,7))\n",
        "\n",
        "sns.countplot(x=df['tenure'],hue=df['Churn'])"
      ]
    },
    {
      "cell_type": "code",
      "execution_count": 101,
      "id": "41283f2c-170b-4074-9c3c-61bf085fb33e",
      "metadata": {
        "id": "41283f2c-170b-4074-9c3c-61bf085fb33e"
      },
      "outputs": [],
      "source": [
        "# The most customer are churn in Month 1 ta may  be Because of the mind rest of the new Customer\n",
        "# The Churn Rate is Decreacing "
      ]
    },
    {
      "cell_type": "code",
      "execution_count": 102,
      "id": "e753f02b-84d5-4f88-92b1-e41403edcedb",
      "metadata": {
        "colab": {
          "base_uri": "https://localhost:8080/",
          "height": 296
        },
        "id": "e753f02b-84d5-4f88-92b1-e41403edcedb",
        "outputId": "5ebb9ae2-32f3-4a7e-8633-c6fd992d244f"
      },
      "outputs": [
        {
          "output_type": "execute_result",
          "data": {
            "text/plain": [
              "<matplotlib.axes._subplots.AxesSubplot at 0x7f1cffee9b90>"
            ]
          },
          "metadata": {},
          "execution_count": 102
        },
        {
          "output_type": "display_data",
          "data": {
            "text/plain": [
              "<Figure size 432x288 with 1 Axes>"
            ],
            "image/png": "[encoded data removed]"
          },
          "metadata": {
            "needs_background": "light"
          }
        }
      ],
      "source": [
        "sns.countplot(x=df['PhoneService'],hue=df['Churn'])"
      ]
    },
    {
      "cell_type": "code",
      "execution_count": 103,
      "id": "eaa08e56-9b4f-4d71-869d-c9c0cb6a8c99",
      "metadata": {
        "id": "eaa08e56-9b4f-4d71-869d-c9c0cb6a8c99"
      },
      "outputs": [],
      "source": [
        "# The Customer churn in more who are having Phone Service May be \n",
        "# Customer are not satisfied by the phone Service of The price rate may be the cause for Customer Churn"
      ]
    },
    {
      "cell_type": "code",
      "execution_count": 104,
      "id": "a6253907-0329-4209-b5a2-70ab5cc9bade",
      "metadata": {
        "colab": {
          "base_uri": "https://localhost:8080/",
          "height": 296
        },
        "id": "a6253907-0329-4209-b5a2-70ab5cc9bade",
        "outputId": "4b536304-5568-400f-c681-570ec86a15a8"
      },
      "outputs": [
        {
          "output_type": "execute_result",
          "data": {
            "text/plain": [
              "<matplotlib.legend.Legend at 0x7f1d00542390>"
            ]
          },
          "metadata": {},
          "execution_count": 104
        },
        {
          "output_type": "display_data",
          "data": {
            "text/plain": [
              "<Figure size 432x288 with 1 Axes>"
            ],
            "image/png": "[encoded data removed]"
          },
          "metadata": {
            "needs_background": "light"
          }
        }
      ],
      "source": [
        "\n",
        "sns.countplot(x=df['MultipleLines'],hue=df['Churn'])\n",
        "plt.legend()"
      ]
    },
    {
      "cell_type": "code",
      "execution_count": 105,
      "id": "50e1ba7e-4b83-4a21-9448-a4578a5d23c4",
      "metadata": {
        "id": "50e1ba7e-4b83-4a21-9448-a4578a5d23c4"
      },
      "outputs": [],
      "source": [
        "# Customer's from having multipleLines and no multipleLines have the ratio is 1/3 of churn it mean customer of specific multipleLines can be make up to mark"
      ]
    },
    {
      "cell_type": "code",
      "execution_count": 106,
      "id": "50468bfe-2eb1-4d16-b648-7fc98d2d9c03",
      "metadata": {
        "colab": {
          "base_uri": "https://localhost:8080/",
          "height": 296
        },
        "id": "50468bfe-2eb1-4d16-b648-7fc98d2d9c03",
        "outputId": "7d7cc068-1a2d-4d35-8688-215d81cf6da7"
      },
      "outputs": [
        {
          "output_type": "execute_result",
          "data": {
            "text/plain": [
              "<matplotlib.axes._subplots.AxesSubplot at 0x7f1d002f61d0>"
            ]
          },
          "metadata": {},
          "execution_count": 106
        },
        {
          "output_type": "display_data",
          "data": {
            "text/plain": [
              "<Figure size 432x288 with 1 Axes>"
            ],
            "image/png": "[encoded data removed]"
          },
          "metadata": {
            "needs_background": "light"
          }
        }
      ],
      "source": [
        "\n",
        "sns.countplot(x=df['InternetService'],hue=df['Churn'])"
      ]
    },
    {
      "cell_type": "code",
      "execution_count": 107,
      "id": "a649de50-01a8-4e82-b888-08684ad4f3db",
      "metadata": {
        "id": "a649de50-01a8-4e82-b888-08684ad4f3db"
      },
      "outputs": [],
      "source": [
        "# The Visul Shows That fiber optic Services are major reson for customer churn we can increase the Fiber Optic Internet speed to reduce the churn  "
      ]
    },
    {
      "cell_type": "code",
      "execution_count": 108,
      "id": "130e6b37-32e9-4390-a230-94977e9cf076",
      "metadata": {
        "colab": {
          "base_uri": "https://localhost:8080/",
          "height": 296
        },
        "id": "130e6b37-32e9-4390-a230-94977e9cf076",
        "outputId": "fa6ff31e-4111-481c-a109-a9f4f7b9bcef"
      },
      "outputs": [
        {
          "output_type": "execute_result",
          "data": {
            "text/plain": [
              "<matplotlib.axes._subplots.AxesSubplot at 0x7f1d00335650>"
            ]
          },
          "metadata": {},
          "execution_count": 108
        },
        {
          "output_type": "display_data",
          "data": {
            "text/plain": [
              "<Figure size 432x288 with 1 Axes>"
            ],
            "image/png": "[encoded data removed]"
          },
          "metadata": {
            "needs_background": "light"
          }
        }
      ],
      "source": [
        "sns.countplot(x=df['OnlineSecurity'],hue=df['Churn'])\n"
      ]
    },
    {
      "cell_type": "code",
      "execution_count": 109,
      "id": "ca8cc63b-59a8-41c3-8f23-e0f9110f5e22",
      "metadata": {
        "id": "ca8cc63b-59a8-41c3-8f23-e0f9110f5e22"
      },
      "outputs": [],
      "source": [
        "# The online Security is the major thing that needs to be Free of cost so that we can reduce customer churn Rate"
      ]
    },
    {
      "cell_type": "code",
      "execution_count": 110,
      "id": "d8d3a600-1576-49f8-874d-784e3ff1676f",
      "metadata": {
        "colab": {
          "base_uri": "https://localhost:8080/",
          "height": 300
        },
        "id": "d8d3a600-1576-49f8-874d-784e3ff1676f",
        "outputId": "443c2725-bf92-413f-a5f8-fd21efcd252e"
      },
      "outputs": [
        {
          "output_type": "execute_result",
          "data": {
            "text/plain": [
              "<matplotlib.axes._subplots.AxesSubplot at 0x7f1d00980c10>"
            ]
          },
          "metadata": {},
          "execution_count": 110
        },
        {
          "output_type": "display_data",
          "data": {
            "text/plain": [
              "<Figure size 432x288 with 1 Axes>"
            ],
            "image/png": "[encoded data removed]"
          },
          "metadata": {
            "needs_background": "light"
          }
        }
      ],
      "source": [
        "\n",
        "sns.countplot(x=df['OnlineBackup'],hue=df['Churn'])\n"
      ]
    },
    {
      "cell_type": "code",
      "execution_count": 111,
      "id": "c571dd43-a8f0-4e55-99f4-4eb8d653374c",
      "metadata": {
        "id": "c571dd43-a8f0-4e55-99f4-4eb8d653374c"
      },
      "outputs": [],
      "source": [
        "# Customer who are not having Online Backup the are Around 70% chance of churn \n",
        "# so we can give some Trail of OnlineBackup which can reduce Customer Churn"
      ]
    },
    {
      "cell_type": "code",
      "execution_count": 112,
      "id": "1c2ac8c3-d0eb-44bb-a17e-fcabab51e36d",
      "metadata": {
        "colab": {
          "base_uri": "https://localhost:8080/",
          "height": 296
        },
        "id": "1c2ac8c3-d0eb-44bb-a17e-fcabab51e36d",
        "outputId": "07051ab5-07c5-4afd-b8ee-ec696604fd5f"
      },
      "outputs": [
        {
          "output_type": "execute_result",
          "data": {
            "text/plain": [
              "<matplotlib.axes._subplots.AxesSubplot at 0x7f1d01d5a450>"
            ]
          },
          "metadata": {},
          "execution_count": 112
        },
        {
          "output_type": "display_data",
          "data": {
            "text/plain": [
              "<Figure size 432x288 with 1 Axes>"
            ],
            "image/png": "[encoded data removed]"
          },
          "metadata": {
            "needs_background": "light"
          }
        }
      ],
      "source": [
        "sns.countplot(x=df['DeviceProtection'],hue=df['Churn'])"
      ]
    },
    {
      "cell_type": "code",
      "execution_count": 113,
      "id": "235d8fb1-fc0d-428e-8fa5-e845eda83c50",
      "metadata": {
        "colab": {
          "base_uri": "https://localhost:8080/",
          "height": 296
        },
        "id": "235d8fb1-fc0d-428e-8fa5-e845eda83c50",
        "outputId": "084cf912-5085-4ea8-8fd0-e8f44b7b9ff9"
      },
      "outputs": [
        {
          "output_type": "execute_result",
          "data": {
            "text/plain": [
              "<matplotlib.axes._subplots.AxesSubplot at 0x7f1cffe2c350>"
            ]
          },
          "metadata": {},
          "execution_count": 113
        },
        {
          "output_type": "display_data",
          "data": {
            "text/plain": [
              "<Figure size 432x288 with 1 Axes>"
            ],
            "image/png": "[encoded data removed]"
          },
          "metadata": {
            "needs_background": "light"
          }
        }
      ],
      "source": [
        "\n",
        "sns.countplot(x=df['TechSupport'],hue=df['Churn'])"
      ]
    },
    {
      "cell_type": "code",
      "execution_count": 114,
      "id": "326c7b8a-b366-4b84-a10d-45cf18c00fc2",
      "metadata": {
        "id": "326c7b8a-b366-4b84-a10d-45cf18c00fc2"
      },
      "outputs": [],
      "source": [
        "# we should appricate the Company Techical Support Team The Customer are Not Churn Who Got The Technical Support"
      ]
    },
    {
      "cell_type": "code",
      "source": [
        ""
      ],
      "metadata": {
        "id": "A88J1FQfbq66"
      },
      "id": "A88J1FQfbq66",
      "execution_count": null,
      "outputs": []
    },
    {
      "cell_type": "code",
      "execution_count": 116,
      "id": "4439cb0b-8c2b-4838-86b4-61eead945c23",
      "metadata": {
        "colab": {
          "base_uri": "https://localhost:8080/",
          "height": 296
        },
        "id": "4439cb0b-8c2b-4838-86b4-61eead945c23",
        "outputId": "ae3c4fa3-2b30-49ab-a5b3-8f4310dc354d"
      },
      "outputs": [
        {
          "output_type": "execute_result",
          "data": {
            "text/plain": [
              "<matplotlib.axes._subplots.AxesSubplot at 0x7f1cffdb6b90>"
            ]
          },
          "metadata": {},
          "execution_count": 116
        },
        {
          "output_type": "display_data",
          "data": {
            "text/plain": [
              "<Figure size 432x288 with 1 Axes>"
            ],
            "image/png": "[encoded data removed]"
          },
          "metadata": {
            "needs_background": "light"
          }
        }
      ],
      "source": [
        "sns.histplot(df['MonthlyCharges'])"
      ]
    },
    {
      "cell_type": "code",
      "source": [
        ""
      ],
      "metadata": {
        "id": "b3aEn_yJbhAp"
      },
      "id": "b3aEn_yJbhAp",
      "execution_count": null,
      "outputs": []
    }
  ],
  "metadata": {
    "kernelspec": {
      "display_name": "Python 3",
      "name": "python3"
    },
    "language_info": {
      "name": "python"
    },
    "colab": {
      "name": "Customer Churn.ipynb",
      "provenance": [],
      "include_colab_link": true
    },
    "gpuClass": "standard"
  },
  "nbformat": 4,
  "nbformat_minor": 5
}