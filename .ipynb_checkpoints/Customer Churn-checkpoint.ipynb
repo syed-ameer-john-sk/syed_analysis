{
 "cells": [
  {
   "cell_type": "code",
   "execution_count": 91,
   "id": "84c00110-89c5-40f5-bff7-a19e43416d97",
   "metadata": {},
   "outputs": [],
   "source": [
    "import pandas as pd\n",
    "import numpy as np\n",
    "import matplotlib.pyplot as plt\n",
    "import seaborn as sns\n",
    "import warnings\n",
    "warnings.filterwarnings('ignore')\n",
    "                        "
   ]
  },
  {
   "cell_type": "code",
   "execution_count": 92,
   "id": "f6d6af4c-3176-4a2e-8e1d-e5aa971abbee",
   "metadata": {},
   "outputs": [],
   "source": [
    "df=pd.read_csv('./syed_analysis/WA_Fn-UseC_-Telco-Customer-Churn.csv')"
   ]
  },
  {
   "cell_type": "code",
   "execution_count": 93,
   "id": "8c2623dc-2c11-4641-962c-13f4510acdd7",
   "metadata": {},
   "outputs": [
    {
     "data": {
      "text/html": [
       "<div>\n",
       "<style scoped>\n",
       "    .dataframe tbody tr th:only-of-type {\n",
       "        vertical-align: middle;\n",
       "    }\n",
       "\n",
       "    .dataframe tbody tr th {\n",
       "        vertical-align: top;\n",
       "    }\n",
       "\n",
       "    .dataframe thead th {\n",
       "        text-align: right;\n",
       "    }\n",
       "</style>\n",
       "<table border=\"1\" class=\"dataframe\">\n",
       "  <thead>\n",
       "    <tr style=\"text-align: right;\">\n",
       "      <th></th>\n",
       "      <th>customerID</th>\n",
       "      <th>gender</th>\n",
       "      <th>SeniorCitizen</th>\n",
       "      <th>Partner</th>\n",
       "      <th>Dependents</th>\n",
       "      <th>tenure</th>\n",
       "      <th>PhoneService</th>\n",
       "      <th>MultipleLines</th>\n",
       "      <th>InternetService</th>\n",
       "      <th>OnlineSecurity</th>\n",
       "      <th>...</th>\n",
       "      <th>DeviceProtection</th>\n",
       "      <th>TechSupport</th>\n",
       "      <th>StreamingTV</th>\n",
       "      <th>StreamingMovies</th>\n",
       "      <th>Contract</th>\n",
       "      <th>PaperlessBilling</th>\n",
       "      <th>PaymentMethod</th>\n",
       "      <th>MonthlyCharges</th>\n",
       "      <th>TotalCharges</th>\n",
       "      <th>Churn</th>\n",
       "    </tr>\n",
       "  </thead>\n",
       "  <tbody>\n",
       "    <tr>\n",
       "      <th>0</th>\n",
       "      <td>7590-VHVEG</td>\n",
       "      <td>Female</td>\n",
       "      <td>0</td>\n",
       "      <td>Yes</td>\n",
       "      <td>No</td>\n",
       "      <td>1</td>\n",
       "      <td>No</td>\n",
       "      <td>No phone service</td>\n",
       "      <td>DSL</td>\n",
       "      <td>No</td>\n",
       "      <td>...</td>\n",
       "      <td>No</td>\n",
       "      <td>No</td>\n",
       "      <td>No</td>\n",
       "      <td>No</td>\n",
       "      <td>Month-to-month</td>\n",
       "      <td>Yes</td>\n",
       "      <td>Electronic check</td>\n",
       "      <td>29.85</td>\n",
       "      <td>29.85</td>\n",
       "      <td>No</td>\n",
       "    </tr>\n",
       "    <tr>\n",
       "      <th>1</th>\n",
       "      <td>5575-GNVDE</td>\n",
       "      <td>Male</td>\n",
       "      <td>0</td>\n",
       "      <td>No</td>\n",
       "      <td>No</td>\n",
       "      <td>34</td>\n",
       "      <td>Yes</td>\n",
       "      <td>No</td>\n",
       "      <td>DSL</td>\n",
       "      <td>Yes</td>\n",
       "      <td>...</td>\n",
       "      <td>Yes</td>\n",
       "      <td>No</td>\n",
       "      <td>No</td>\n",
       "      <td>No</td>\n",
       "      <td>One year</td>\n",
       "      <td>No</td>\n",
       "      <td>Mailed check</td>\n",
       "      <td>56.95</td>\n",
       "      <td>1889.5</td>\n",
       "      <td>No</td>\n",
       "    </tr>\n",
       "    <tr>\n",
       "      <th>2</th>\n",
       "      <td>3668-QPYBK</td>\n",
       "      <td>Male</td>\n",
       "      <td>0</td>\n",
       "      <td>No</td>\n",
       "      <td>No</td>\n",
       "      <td>2</td>\n",
       "      <td>Yes</td>\n",
       "      <td>No</td>\n",
       "      <td>DSL</td>\n",
       "      <td>Yes</td>\n",
       "      <td>...</td>\n",
       "      <td>No</td>\n",
       "      <td>No</td>\n",
       "      <td>No</td>\n",
       "      <td>No</td>\n",
       "      <td>Month-to-month</td>\n",
       "      <td>Yes</td>\n",
       "      <td>Mailed check</td>\n",
       "      <td>53.85</td>\n",
       "      <td>108.15</td>\n",
       "      <td>Yes</td>\n",
       "    </tr>\n",
       "    <tr>\n",
       "      <th>3</th>\n",
       "      <td>7795-CFOCW</td>\n",
       "      <td>Male</td>\n",
       "      <td>0</td>\n",
       "      <td>No</td>\n",
       "      <td>No</td>\n",
       "      <td>45</td>\n",
       "      <td>No</td>\n",
       "      <td>No phone service</td>\n",
       "      <td>DSL</td>\n",
       "      <td>Yes</td>\n",
       "      <td>...</td>\n",
       "      <td>Yes</td>\n",
       "      <td>Yes</td>\n",
       "      <td>No</td>\n",
       "      <td>No</td>\n",
       "      <td>One year</td>\n",
       "      <td>No</td>\n",
       "      <td>Bank transfer (automatic)</td>\n",
       "      <td>42.30</td>\n",
       "      <td>1840.75</td>\n",
       "      <td>No</td>\n",
       "    </tr>\n",
       "    <tr>\n",
       "      <th>4</th>\n",
       "      <td>9237-HQITU</td>\n",
       "      <td>Female</td>\n",
       "      <td>0</td>\n",
       "      <td>No</td>\n",
       "      <td>No</td>\n",
       "      <td>2</td>\n",
       "      <td>Yes</td>\n",
       "      <td>No</td>\n",
       "      <td>Fiber optic</td>\n",
       "      <td>No</td>\n",
       "      <td>...</td>\n",
       "      <td>No</td>\n",
       "      <td>No</td>\n",
       "      <td>No</td>\n",
       "      <td>No</td>\n",
       "      <td>Month-to-month</td>\n",
       "      <td>Yes</td>\n",
       "      <td>Electronic check</td>\n",
       "      <td>70.70</td>\n",
       "      <td>151.65</td>\n",
       "      <td>Yes</td>\n",
       "    </tr>\n",
       "  </tbody>\n",
       "</table>\n",
       "<p>5 rows × 21 columns</p>\n",
       "</div>"
      ],
      "text/plain": [
       "   customerID  gender  SeniorCitizen Partner Dependents  tenure PhoneService  \\\n",
       "0  7590-VHVEG  Female              0     Yes         No       1           No   \n",
       "1  5575-GNVDE    Male              0      No         No      34          Yes   \n",
       "2  3668-QPYBK    Male              0      No         No       2          Yes   \n",
       "3  7795-CFOCW    Male              0      No         No      45           No   \n",
       "4  9237-HQITU  Female              0      No         No       2          Yes   \n",
       "\n",
       "      MultipleLines InternetService OnlineSecurity  ... DeviceProtection  \\\n",
       "0  No phone service             DSL             No  ...               No   \n",
       "1                No             DSL            Yes  ...              Yes   \n",
       "2                No             DSL            Yes  ...               No   \n",
       "3  No phone service             DSL            Yes  ...              Yes   \n",
       "4                No     Fiber optic             No  ...               No   \n",
       "\n",
       "  TechSupport StreamingTV StreamingMovies        Contract PaperlessBilling  \\\n",
       "0          No          No              No  Month-to-month              Yes   \n",
       "1          No          No              No        One year               No   \n",
       "2          No          No              No  Month-to-month              Yes   \n",
       "3         Yes          No              No        One year               No   \n",
       "4          No          No              No  Month-to-month              Yes   \n",
       "\n",
       "               PaymentMethod MonthlyCharges  TotalCharges Churn  \n",
       "0           Electronic check          29.85         29.85    No  \n",
       "1               Mailed check          56.95        1889.5    No  \n",
       "2               Mailed check          53.85        108.15   Yes  \n",
       "3  Bank transfer (automatic)          42.30       1840.75    No  \n",
       "4           Electronic check          70.70        151.65   Yes  \n",
       "\n",
       "[5 rows x 21 columns]"
      ]
     },
     "execution_count": 93,
     "metadata": {},
     "output_type": "execute_result"
    }
   ],
   "source": [
    "df.head()"
   ]
  },
  {
   "cell_type": "markdown",
   "id": "0ce474a7-3099-4e87-b088-45521e6997b1",
   "metadata": {},
   "source": [
    "# Basic Analysis Of data"
   ]
  },
  {
   "cell_type": "code",
   "execution_count": 94,
   "id": "9fd92d08-ff3b-48d0-b496-b8bf3771f48c",
   "metadata": {},
   "outputs": [
    {
     "name": "stdout",
     "output_type": "stream",
     "text": [
      "<class 'pandas.core.frame.DataFrame'>\n",
      "RangeIndex: 7043 entries, 0 to 7042\n",
      "Data columns (total 21 columns):\n",
      " #   Column            Non-Null Count  Dtype  \n",
      "---  ------            --------------  -----  \n",
      " 0   customerID        7043 non-null   object \n",
      " 1   gender            7043 non-null   object \n",
      " 2   SeniorCitizen     7043 non-null   int64  \n",
      " 3   Partner           7043 non-null   object \n",
      " 4   Dependents        7043 non-null   object \n",
      " 5   tenure            7043 non-null   int64  \n",
      " 6   PhoneService      7043 non-null   object \n",
      " 7   MultipleLines     7043 non-null   object \n",
      " 8   InternetService   7043 non-null   object \n",
      " 9   OnlineSecurity    7043 non-null   object \n",
      " 10  OnlineBackup      7043 non-null   object \n",
      " 11  DeviceProtection  7043 non-null   object \n",
      " 12  TechSupport       7043 non-null   object \n",
      " 13  StreamingTV       7043 non-null   object \n",
      " 14  StreamingMovies   7043 non-null   object \n",
      " 15  Contract          7043 non-null   object \n",
      " 16  PaperlessBilling  7043 non-null   object \n",
      " 17  PaymentMethod     7043 non-null   object \n",
      " 18  MonthlyCharges    7043 non-null   float64\n",
      " 19  TotalCharges      7043 non-null   object \n",
      " 20  Churn             7043 non-null   object \n",
      "dtypes: float64(1), int64(2), object(18)\n",
      "memory usage: 1.1+ MB\n"
     ]
    }
   ],
   "source": [
    "df.info()"
   ]
  },
  {
   "cell_type": "markdown",
   "id": "93a8084f-0d2d-49bb-981a-56423394ece8",
   "metadata": {},
   "source": [
    "# Chaging The Columns into Category so That we can analyze the Data"
   ]
  },
  {
   "cell_type": "code",
   "execution_count": 95,
   "id": "086a3479-60d3-4dcc-960c-7a3c996c5a15",
   "metadata": {},
   "outputs": [],
   "source": [
    "df['gender']=df['gender'].astype('category')"
   ]
  },
  {
   "cell_type": "code",
   "execution_count": 96,
   "id": "8449d34f-3956-4a5b-993d-a576aec1d881",
   "metadata": {},
   "outputs": [],
   "source": [
    "df['SeniorCitizen']=df['SeniorCitizen'].replace({1:'Yes',0:'No'})"
   ]
  },
  {
   "cell_type": "code",
   "execution_count": 97,
   "id": "c4ee1b8f-f811-4943-bf5c-851eec77202d",
   "metadata": {},
   "outputs": [],
   "source": [
    "df['SeniorCitizen']=df['SeniorCitizen'].astype('category')"
   ]
  },
  {
   "cell_type": "code",
   "execution_count": 98,
   "id": "81a190da-3824-49c1-b8c9-1a7494ffec5a",
   "metadata": {},
   "outputs": [],
   "source": [
    "df['InternetService']=df['InternetService'].astype('category')"
   ]
  },
  {
   "cell_type": "code",
   "execution_count": 99,
   "id": "73e21276-243d-4736-a7a4-86bb616e8d10",
   "metadata": {},
   "outputs": [],
   "source": [
    "df['OnlineSecurity']=df['OnlineSecurity'].astype('category')"
   ]
  },
  {
   "cell_type": "code",
   "execution_count": 100,
   "id": "a2f8eb99-99f2-4f05-9155-dd7d1941110c",
   "metadata": {},
   "outputs": [],
   "source": [
    "df['PaymentMethod']=df['PaymentMethod'].astype('category')"
   ]
  },
  {
   "cell_type": "code",
   "execution_count": 101,
   "id": "c87a7fe4-23ab-43cf-ac73-40fc21236aa4",
   "metadata": {},
   "outputs": [],
   "source": [
    "df['Churn']=df['Churn'].astype('category')"
   ]
  },
  {
   "cell_type": "code",
   "execution_count": 102,
   "id": "984ca59c-0c46-428e-8afd-ac8c25e975ba",
   "metadata": {},
   "outputs": [
    {
     "name": "stdout",
     "output_type": "stream",
     "text": [
      "<class 'pandas.core.frame.DataFrame'>\n",
      "RangeIndex: 7043 entries, 0 to 7042\n",
      "Data columns (total 21 columns):\n",
      " #   Column            Non-Null Count  Dtype   \n",
      "---  ------            --------------  -----   \n",
      " 0   customerID        7043 non-null   object  \n",
      " 1   gender            7043 non-null   category\n",
      " 2   SeniorCitizen     7043 non-null   category\n",
      " 3   Partner           7043 non-null   object  \n",
      " 4   Dependents        7043 non-null   object  \n",
      " 5   tenure            7043 non-null   int64   \n",
      " 6   PhoneService      7043 non-null   object  \n",
      " 7   MultipleLines     7043 non-null   object  \n",
      " 8   InternetService   7043 non-null   category\n",
      " 9   OnlineSecurity    7043 non-null   category\n",
      " 10  OnlineBackup      7043 non-null   object  \n",
      " 11  DeviceProtection  7043 non-null   object  \n",
      " 12  TechSupport       7043 non-null   object  \n",
      " 13  StreamingTV       7043 non-null   object  \n",
      " 14  StreamingMovies   7043 non-null   object  \n",
      " 15  Contract          7043 non-null   object  \n",
      " 16  PaperlessBilling  7043 non-null   object  \n",
      " 17  PaymentMethod     7043 non-null   category\n",
      " 18  MonthlyCharges    7043 non-null   float64 \n",
      " 19  TotalCharges      7043 non-null   object  \n",
      " 20  Churn             7043 non-null   category\n",
      "dtypes: category(6), float64(1), int64(1), object(13)\n",
      "memory usage: 867.4+ KB\n"
     ]
    }
   ],
   "source": [
    "df.info()"
   ]
  },
  {
   "cell_type": "markdown",
   "id": "a8c5c0c3-996c-4b9b-8e26-499c757be00d",
   "metadata": {},
   "source": [
    "# Based On gender"
   ]
  },
  {
   "cell_type": "code",
   "execution_count": 103,
   "id": "55dcd69a-cd7f-445a-bc2d-ee2a3cd0e333",
   "metadata": {},
   "outputs": [
    {
     "data": {
      "image/png": "[encoded data removed]",
      "text/plain": [
       "<Figure size 432x288 with 1 Axes>"
      ]
     },
     "metadata": {
      "needs_background": "light"
     },
     "output_type": "display_data"
    }
   ],
   "source": [
    "plt.subplot(111)\n",
    "_=sns.countplot(df['gender'],hue=df['Churn'])"
   ]
  },
  {
   "cell_type": "code",
   "execution_count": 104,
   "id": "e4290ebb-4c1a-4833-bd02-c3b09b2e87dd",
   "metadata": {},
   "outputs": [],
   "source": [
    "# Male and Female are equal proportion of churn in the Dataset so we can not consider gender as a insight"
   ]
  },
  {
   "cell_type": "code",
   "execution_count": 105,
   "id": "304b11ed-de08-4fda-a245-e4a6e3bdb08d",
   "metadata": {},
   "outputs": [
    {
     "data": {
      "image/png": "[encoded data removed]",
      "text/plain": [
       "<Figure size 432x288 with 1 Axes>"
      ]
     },
     "metadata": {
      "needs_background": "light"
     },
     "output_type": "display_data"
    }
   ],
   "source": [
    "plt.subplot(111)\n",
    "_=sns.countplot(df['SeniorCitizen'],hue=df['Churn'])"
   ]
  },
  {
   "cell_type": "code",
   "execution_count": 106,
   "id": "bd56b04e-0c22-49c4-a45a-d023a0dd3dab",
   "metadata": {},
   "outputs": [],
   "source": [
    "# The seniorCitizen are not churn that much but the people who are not young they are have a 1/3 ratio of churn "
   ]
  },
  {
   "cell_type": "code",
   "execution_count": 107,
   "id": "fde2cbfe-5ac5-4c52-b9a8-c770f4869311",
   "metadata": {},
   "outputs": [
    {
     "data": {
      "image/png": "[encoded data removed]",
      "text/plain": [
       "<Figure size 432x288 with 1 Axes>"
      ]
     },
     "metadata": {
      "needs_background": "light"
     },
     "output_type": "display_data"
    }
   ],
   "source": [
    "_=sns.countplot(df['Partner'],hue=df['Churn'])"
   ]
  },
  {
   "cell_type": "code",
   "execution_count": 108,
   "id": "cf76b877-20ae-4ba3-9d5f-2a71ab53f0e7",
   "metadata": {},
   "outputs": [],
   "source": [
    "# customer  who are  not partner they left more than customer who are partner so we want to take some attention to customer who are not partner"
   ]
  },
  {
   "cell_type": "code",
   "execution_count": 109,
   "id": "f0a47708-6dac-4aed-a53f-6314af504c56",
   "metadata": {},
   "outputs": [
    {
     "data": {
      "image/png": "[encoded data removed]",
      "text/plain": [
       "<Figure size 432x288 with 1 Axes>"
      ]
     },
     "metadata": {
      "needs_background": "light"
     },
     "output_type": "display_data"
    }
   ],
   "source": [
    "_=sns.countplot(df['Dependents'],hue=df['Churn'])"
   ]
  },
  {
   "cell_type": "code",
   "execution_count": 110,
   "id": "4f00c978-d6f8-4f8a-9a04-9550bab38873",
   "metadata": {},
   "outputs": [],
   "source": [
    "# like partner Dependent customer also have left the company taking care of Dependent can reduce the churn rate"
   ]
  },
  {
   "cell_type": "code",
   "execution_count": 111,
   "id": "c1f01d8b-a78d-47f9-beb4-311f5080b6b9",
   "metadata": {},
   "outputs": [
    {
     "data": {
      "text/plain": [
       "<AxesSubplot:xlabel='tenure', ylabel='count'>"
      ]
     },
     "execution_count": 111,
     "metadata": {},
     "output_type": "execute_result"
    },
    {
     "data": {
      "image/png": "[encoded data removed]",
      "text/plain": [
       "<Figure size 1296x504 with 1 Axes>"
      ]
     },
     "metadata": {
      "needs_background": "light"
     },
     "output_type": "display_data"
    }
   ],
   "source": [
    "plt.figure(figsize=(18,7))\n",
    "\n",
    "sns.countplot(x=df['tenure'],hue=df['Churn'])"
   ]
  },
  {
   "cell_type": "code",
   "execution_count": 112,
   "id": "41283f2c-170b-4074-9c3c-61bf085fb33e",
   "metadata": {},
   "outputs": [],
   "source": [
    "# The most customer are churn in Month 1 ta may  be Because of the mind rest of the new Customer\n",
    "# The Churn Rate is Decreacing "
   ]
  },
  {
   "cell_type": "code",
   "execution_count": 113,
   "id": "e753f02b-84d5-4f88-92b1-e41403edcedb",
   "metadata": {},
   "outputs": [
    {
     "data": {
      "text/plain": [
       "<AxesSubplot:xlabel='PhoneService', ylabel='count'>"
      ]
     },
     "execution_count": 113,
     "metadata": {},
     "output_type": "execute_result"
    },
    {
     "data": {
      "image/png": "[encoded data removed]",
      "text/plain": [
       "<Figure size 432x288 with 1 Axes>"
      ]
     },
     "metadata": {
      "needs_background": "light"
     },
     "output_type": "display_data"
    }
   ],
   "source": [
    "sns.countplot(x=df['PhoneService'],hue=df['Churn'])"
   ]
  },
  {
   "cell_type": "code",
   "execution_count": 114,
   "id": "eaa08e56-9b4f-4d71-869d-c9c0cb6a8c99",
   "metadata": {},
   "outputs": [],
   "source": [
    "# The Customer churn in more who are having Phone Service May be \n",
    "# Customer are not satisfied by the phone Service of The price rate may be the cause for Customer Churn"
   ]
  },
  {
   "cell_type": "code",
   "execution_count": 115,
   "id": "a6253907-0329-4209-b5a2-70ab5cc9bade",
   "metadata": {},
   "outputs": [
    {
     "data": {
      "text/plain": [
       "<matplotlib.legend.Legend at 0x7f9c40adb850>"
      ]
     },
     "execution_count": 115,
     "metadata": {},
     "output_type": "execute_result"
    },
    {
     "data": {
      "image/png": "[encoded data removed]",
      "text/plain": [
       "<Figure size 432x288 with 1 Axes>"
      ]
     },
     "metadata": {
      "needs_background": "light"
     },
     "output_type": "display_data"
    }
   ],
   "source": [
    "\n",
    "sns.countplot(x=df['MultipleLines'],hue=df['Churn'])\n",
    "plt.legend()"
   ]
  },
  {
   "cell_type": "code",
   "execution_count": 116,
   "id": "50e1ba7e-4b83-4a21-9448-a4578a5d23c4",
   "metadata": {},
   "outputs": [],
   "source": [
    "# Customer's from having multipleLines and no multipleLines have the ratio is 1/3 of churn it mean customer of specific multipleLines can be make up to mark"
   ]
  },
  {
   "cell_type": "code",
   "execution_count": 117,
   "id": "50468bfe-2eb1-4d16-b648-7fc98d2d9c03",
   "metadata": {},
   "outputs": [
    {
     "data": {
      "text/plain": [
       "<AxesSubplot:xlabel='InternetService', ylabel='count'>"
      ]
     },
     "execution_count": 117,
     "metadata": {},
     "output_type": "execute_result"
    },
    {
     "data": {
      "image/png": "[encoded data removed]",
      "text/plain": [
       "<Figure size 432x288 with 1 Axes>"
      ]
     },
     "metadata": {
      "needs_background": "light"
     },
     "output_type": "display_data"
    }
   ],
   "source": [
    "\n",
    "sns.countplot(x=df['InternetService'],hue=df['Churn'])"
   ]
  },
  {
   "cell_type": "code",
   "execution_count": 118,
   "id": "a649de50-01a8-4e82-b888-08684ad4f3db",
   "metadata": {},
   "outputs": [],
   "source": [
    "# The Visul Shows That fiber optic Services are major reson for customer churn we can increase the Fiber Optic Internet speed to reduce the churn  "
   ]
  },
  {
   "cell_type": "code",
   "execution_count": 119,
   "id": "130e6b37-32e9-4390-a230-94977e9cf076",
   "metadata": {},
   "outputs": [
    {
     "data": {
      "text/plain": [
       "<AxesSubplot:xlabel='OnlineSecurity', ylabel='count'>"
      ]
     },
     "execution_count": 119,
     "metadata": {},
     "output_type": "execute_result"
    },
    {
     "data": {
      "image/png": "[encoded data removed]",
      "text/plain": [
       "<Figure size 432x288 with 1 Axes>"
      ]
     },
     "metadata": {
      "needs_background": "light"
     },
     "output_type": "display_data"
    }
   ],
   "source": [
    "sns.countplot(x=df['OnlineSecurity'],hue=df['Churn'])\n"
   ]
  },
  {
   "cell_type": "code",
   "execution_count": 120,
   "id": "ca8cc63b-59a8-41c3-8f23-e0f9110f5e22",
   "metadata": {},
   "outputs": [],
   "source": [
    "# The online Security is the major thing that needs to be Free of cost so that we can reduce customer churn Rate"
   ]
  },
  {
   "cell_type": "code",
   "execution_count": 121,
   "id": "d8d3a600-1576-49f8-874d-784e3ff1676f",
   "metadata": {},
   "outputs": [
    {
     "data": {
      "text/plain": [
       "<AxesSubplot:xlabel='OnlineBackup', ylabel='count'>"
      ]
     },
     "execution_count": 121,
     "metadata": {},
     "output_type": "execute_result"
    },
    {
     "data": {
      "image/png": "[encoded data removed]",
      "text/plain": [
       "<Figure size 432x288 with 1 Axes>"
      ]
     },
     "metadata": {
      "needs_background": "light"
     },
     "output_type": "display_data"
    }
   ],
   "source": [
    "\n",
    "sns.countplot(x=df['OnlineBackup'],hue=df['Churn'])\n"
   ]
  },
  {
   "cell_type": "code",
   "execution_count": 122,
   "id": "c571dd43-a8f0-4e55-99f4-4eb8d653374c",
   "metadata": {},
   "outputs": [],
   "source": [
    "# Customer who are not having Online Backup the are Around 70% chance of churn \n",
    "# so we can give some Trail of OnlineBackup which can reduce Customer Churn"
   ]
  },
  {
   "cell_type": "code",
   "execution_count": 123,
   "id": "1c2ac8c3-d0eb-44bb-a17e-fcabab51e36d",
   "metadata": {},
   "outputs": [
    {
     "data": {
      "text/plain": [
       "<AxesSubplot:xlabel='DeviceProtection', ylabel='count'>"
      ]
     },
     "execution_count": 123,
     "metadata": {},
     "output_type": "execute_result"
    },
    {
     "data": {
      "image/png": "[encoded data removed]",
      "text/plain": [
       "<Figure size 432x288 with 1 Axes>"
      ]
     },
     "metadata": {
      "needs_background": "light"
     },
     "output_type": "display_data"
    }
   ],
   "source": [
    "sns.countplot(x=df['DeviceProtection'],hue=df['Churn'])"
   ]
  },
  {
   "cell_type": "code",
   "execution_count": 124,
   "id": "235d8fb1-fc0d-428e-8fa5-e845eda83c50",
   "metadata": {},
   "outputs": [
    {
     "data": {
      "text/plain": [
       "<AxesSubplot:xlabel='TechSupport', ylabel='count'>"
      ]
     },
     "execution_count": 124,
     "metadata": {},
     "output_type": "execute_result"
    },
    {
     "data": {
      "image/png": "[encoded data removed]",
      "text/plain": [
       "<Figure size 432x288 with 1 Axes>"
      ]
     },
     "metadata": {
      "needs_background": "light"
     },
     "output_type": "display_data"
    }
   ],
   "source": [
    "\n",
    "sns.countplot(x=df['TechSupport'],hue=df['Churn'])"
   ]
  },
  {
   "cell_type": "code",
   "execution_count": 125,
   "id": "326c7b8a-b366-4b84-a10d-45cf18c00fc2",
   "metadata": {},
   "outputs": [],
   "source": [
    "# we should appricate the Company Techical Support Team The Customer are Not Churn Who Got The Technical Support"
   ]
  },
  {
   "cell_type": "code",
   "execution_count": 127,
   "id": "4439cb0b-8c2b-4838-86b4-61eead945c23",
   "metadata": {},
   "outputs": [
    {
     "data": {
      "text/plain": [
       "<AxesSubplot:xlabel='MonthlyCharges', ylabel='Count'>"
      ]
     },
     "execution_count": 127,
     "metadata": {},
     "output_type": "execute_result"
    },
    {
     "data": {
      "image/png": "[encoded data removed]",
      "text/plain": [
       "<Figure size 432x288 with 1 Axes>"
      ]
     },
     "metadata": {
      "needs_background": "light"
     },
     "output_type": "display_data"
    }
   ],
   "source": [
    "sns.histplot(df['MonthlyCharges'])"
   ]
  },
  {
   "cell_type": "code",
   "execution_count": null,
   "id": "47a4304b-d572-4cf8-9cdd-71768cf2d87f",
   "metadata": {},
   "outputs": [],
   "source": []
  },
  {
   "cell_type": "code",
   "execution_count": null,
   "id": "df929ad3-547b-470c-971d-3383fcb10ef8",
   "metadata": {},
   "outputs": [],
   "source": []
  },
  {
   "cell_type": "code",
   "execution_count": null,
   "id": "d1509f8a-3487-4f9d-ba60-2b3e9dd2f3e1",
   "metadata": {},
   "outputs": [],
   "source": []
  },
  {
   "cell_type": "code",
   "execution_count": null,
   "id": "3b930df7-c398-49c6-af34-0982747befa5",
   "metadata": {},
   "outputs": [],
   "source": []
  },
  {
   "cell_type": "code",
   "execution_count": null,
   "id": "26a2ab4c-4ddc-4a83-ab5a-2f4beeac4608",
   "metadata": {},
   "outputs": [],
   "source": []
  },
  {
   "cell_type": "code",
   "execution_count": null,
   "id": "0459bd78-b2d2-44f2-92b6-cefb16ba0142",
   "metadata": {},
   "outputs": [],
   "source": []
  }
 ],
 "metadata": {
  "kernelspec": {
   "display_name": "mlu-tab:Python",
   "language": "python",
   "name": "conda-env-mlu-tab-py"
  },
  "language_info": {
   "codemirror_mode": {
    "name": "ipython",
    "version": 3
   },
   "file_extension": ".py",
   "mimetype": "text/x-python",
   "name": "python",
   "nbconvert_exporter": "python",
   "pygments_lexer": "ipython3",
   "version": "3.9.13"
  }
 },
 "nbformat": 4,
 "nbformat_minor": 5
}
