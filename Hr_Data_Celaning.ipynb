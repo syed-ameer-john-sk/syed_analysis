{
  "nbformat": 4,
  "nbformat_minor": 0,
  "metadata": {
    "colab": {
      "name": "Hr Data Celaning.ipynb",
      "provenance": []
    },
    "kernelspec": {
      "name": "python3",
      "display_name": "Python 3"
    },
    "language_info": {
      "name": "python"
    }
  },
  "cells": [
    {
      "cell_type": "markdown",
      "source": [
        "# IMPORT \n"
      ],
      "metadata": {
        "id": "qzjkCyqBaZoW"
      }
    },
    {
      "cell_type": "code",
      "execution_count": 91,
      "metadata": {
        "id": "gwozpKqzXNoq"
      },
      "outputs": [],
      "source": [
        "import pandas as pd\n",
        "import matplotlib.pyplot as plt\n",
        "import seaborn as sns\n",
        "import numpy as np\n"
      ]
    },
    {
      "cell_type": "code",
      "source": [
        "ds=pd.read_csv('/content/jobms_consolidated_search_ds.csv')"
      ],
      "metadata": {
        "id": "lDkIgrRcbr1a"
      },
      "execution_count": 92,
      "outputs": []
    },
    {
      "cell_type": "code",
      "source": [
        "ds.head()"
      ],
      "metadata": {
        "colab": {
          "base_uri": "https://localhost:8080/",
          "height": 490
        },
        "id": "26TVrNP3brgz",
        "outputId": "8709ee22-f79e-49b8-84ce-737fc863e69d"
      },
      "execution_count": 93,
      "outputs": [
        {
          "output_type": "execute_result",
          "data": {
            "text/plain": [
              "            Area Career Level                             Company  \\\n",
              "0  Not Specified        Entry                       EC Healthcare   \n",
              "1  Not Specified       Senior                    A4lution Limited   \n",
              "2  Not Specified        Entry                              now TV   \n",
              "3  Not Specified        Entry    Deloitte Global Services Limited   \n",
              "4  Not Specified        Entry  Lloyd Karson International Limited   \n",
              "\n",
              "           Company Website Data Source Date Posted Date Scraped  \\\n",
              "0            Not Specified      JobsDB  10-22-2021   22-10-2021   \n",
              "1            Not Specified      JobsDB  10-22-2021   22-10-2021   \n",
              "2      http://www.pccw.com      JobsDB  10-22-2021   22-10-2021   \n",
              "3  http://www.deloitte.com      JobsDB  10-21-2021   22-10-2021   \n",
              "4            Not Specified      JobsDB  10-22-2021   22-10-2021   \n",
              "\n",
              "  Employer Contact Number Employer Email  \\\n",
              "0                     NaN            NaN   \n",
              "1           ['3955 8549']            NaN   \n",
              "2           ['2827 8322']            NaN   \n",
              "3                     NaN            NaN   \n",
              "4                     NaN            NaN   \n",
              "\n",
              "                                 Industry  ... Jobtick Dashboard  \\\n",
              "0                    Health & Beauty Care  ...               1.0   \n",
              "1                                  Others  ...               1.0   \n",
              "2                       Telecommunication  ...               NaN   \n",
              "3           Accounting/Audit/Tax Services  ...               1.0   \n",
              "4  Human Resources Management/Consultancy  ...               1.0   \n",
              "\n",
              "  Jobtick Engineerjobs jobtick Excel jobtick Python Jobtick Scientistjobs  \\\n",
              "0                  NaN           1.0            1.0                   NaN   \n",
              "1                  NaN           1.0            1.0                   NaN   \n",
              "2                  NaN           1.0            NaN                   NaN   \n",
              "3                  NaN           NaN            1.0                   1.0   \n",
              "4                  NaN           NaN            1.0                   NaN   \n",
              "\n",
              "  jobtick SQL Lower Salary Range New Year Exp. Upper Salary Range  \\\n",
              "0         1.0                NaN           1.0                NaN   \n",
              "1         1.0                NaN           3.0                NaN   \n",
              "2         1.0                NaN           1.0                NaN   \n",
              "3         1.0                NaN           2.0                NaN   \n",
              "4         1.0               17.0           1.0               25.0   \n",
              "\n",
              "  Years of Experience  \n",
              "0                -1.0  \n",
              "1                31.0  \n",
              "2                 1.0  \n",
              "3                 2.0  \n",
              "4                 1.0  \n",
              "\n",
              "[5 rows x 32 columns]"
            ],
            "text/html": [
              "\n",
              "  <div id=\"df-f84dbe69-5094-4a08-916c-ed77cc049a41\">\n",
              "    <div class=\"colab-df-container\">\n",
              "      <div>\n",
              "<style scoped>\n",
              "    .dataframe tbody tr th:only-of-type {\n",
              "        vertical-align: middle;\n",
              "    }\n",
              "\n",
              "    .dataframe tbody tr th {\n",
              "        vertical-align: top;\n",
              "    }\n",
              "\n",
              "    .dataframe thead th {\n",
              "        text-align: right;\n",
              "    }\n",
              "</style>\n",
              "<table border=\"1\" class=\"dataframe\">\n",
              "  <thead>\n",
              "    <tr style=\"text-align: right;\">\n",
              "      <th></th>\n",
              "      <th>Area</th>\n",
              "      <th>Career Level</th>\n",
              "      <th>Company</th>\n",
              "      <th>Company Website</th>\n",
              "      <th>Data Source</th>\n",
              "      <th>Date Posted</th>\n",
              "      <th>Date Scraped</th>\n",
              "      <th>Employer Contact Number</th>\n",
              "      <th>Employer Email</th>\n",
              "      <th>Industry</th>\n",
              "      <th>...</th>\n",
              "      <th>Jobtick Dashboard</th>\n",
              "      <th>Jobtick Engineerjobs</th>\n",
              "      <th>jobtick Excel</th>\n",
              "      <th>jobtick Python</th>\n",
              "      <th>Jobtick Scientistjobs</th>\n",
              "      <th>jobtick SQL</th>\n",
              "      <th>Lower Salary Range</th>\n",
              "      <th>New Year Exp.</th>\n",
              "      <th>Upper Salary Range</th>\n",
              "      <th>Years of Experience</th>\n",
              "    </tr>\n",
              "  </thead>\n",
              "  <tbody>\n",
              "    <tr>\n",
              "      <th>0</th>\n",
              "      <td>Not Specified</td>\n",
              "      <td>Entry</td>\n",
              "      <td>EC Healthcare</td>\n",
              "      <td>Not Specified</td>\n",
              "      <td>JobsDB</td>\n",
              "      <td>10-22-2021</td>\n",
              "      <td>22-10-2021</td>\n",
              "      <td>NaN</td>\n",
              "      <td>NaN</td>\n",
              "      <td>Health &amp; Beauty Care</td>\n",
              "      <td>...</td>\n",
              "      <td>1.0</td>\n",
              "      <td>NaN</td>\n",
              "      <td>1.0</td>\n",
              "      <td>1.0</td>\n",
              "      <td>NaN</td>\n",
              "      <td>1.0</td>\n",
              "      <td>NaN</td>\n",
              "      <td>1.0</td>\n",
              "      <td>NaN</td>\n",
              "      <td>-1.0</td>\n",
              "    </tr>\n",
              "    <tr>\n",
              "      <th>1</th>\n",
              "      <td>Not Specified</td>\n",
              "      <td>Senior</td>\n",
              "      <td>A4lution Limited</td>\n",
              "      <td>Not Specified</td>\n",
              "      <td>JobsDB</td>\n",
              "      <td>10-22-2021</td>\n",
              "      <td>22-10-2021</td>\n",
              "      <td>['3955 8549']</td>\n",
              "      <td>NaN</td>\n",
              "      <td>Others</td>\n",
              "      <td>...</td>\n",
              "      <td>1.0</td>\n",
              "      <td>NaN</td>\n",
              "      <td>1.0</td>\n",
              "      <td>1.0</td>\n",
              "      <td>NaN</td>\n",
              "      <td>1.0</td>\n",
              "      <td>NaN</td>\n",
              "      <td>3.0</td>\n",
              "      <td>NaN</td>\n",
              "      <td>31.0</td>\n",
              "    </tr>\n",
              "    <tr>\n",
              "      <th>2</th>\n",
              "      <td>Not Specified</td>\n",
              "      <td>Entry</td>\n",
              "      <td>now TV</td>\n",
              "      <td>http://www.pccw.com</td>\n",
              "      <td>JobsDB</td>\n",
              "      <td>10-22-2021</td>\n",
              "      <td>22-10-2021</td>\n",
              "      <td>['2827 8322']</td>\n",
              "      <td>NaN</td>\n",
              "      <td>Telecommunication</td>\n",
              "      <td>...</td>\n",
              "      <td>NaN</td>\n",
              "      <td>NaN</td>\n",
              "      <td>1.0</td>\n",
              "      <td>NaN</td>\n",
              "      <td>NaN</td>\n",
              "      <td>1.0</td>\n",
              "      <td>NaN</td>\n",
              "      <td>1.0</td>\n",
              "      <td>NaN</td>\n",
              "      <td>1.0</td>\n",
              "    </tr>\n",
              "    <tr>\n",
              "      <th>3</th>\n",
              "      <td>Not Specified</td>\n",
              "      <td>Entry</td>\n",
              "      <td>Deloitte Global Services Limited</td>\n",
              "      <td>http://www.deloitte.com</td>\n",
              "      <td>JobsDB</td>\n",
              "      <td>10-21-2021</td>\n",
              "      <td>22-10-2021</td>\n",
              "      <td>NaN</td>\n",
              "      <td>NaN</td>\n",
              "      <td>Accounting/Audit/Tax Services</td>\n",
              "      <td>...</td>\n",
              "      <td>1.0</td>\n",
              "      <td>NaN</td>\n",
              "      <td>NaN</td>\n",
              "      <td>1.0</td>\n",
              "      <td>1.0</td>\n",
              "      <td>1.0</td>\n",
              "      <td>NaN</td>\n",
              "      <td>2.0</td>\n",
              "      <td>NaN</td>\n",
              "      <td>2.0</td>\n",
              "    </tr>\n",
              "    <tr>\n",
              "      <th>4</th>\n",
              "      <td>Not Specified</td>\n",
              "      <td>Entry</td>\n",
              "      <td>Lloyd Karson International Limited</td>\n",
              "      <td>Not Specified</td>\n",
              "      <td>JobsDB</td>\n",
              "      <td>10-22-2021</td>\n",
              "      <td>22-10-2021</td>\n",
              "      <td>NaN</td>\n",
              "      <td>NaN</td>\n",
              "      <td>Human Resources Management/Consultancy</td>\n",
              "      <td>...</td>\n",
              "      <td>1.0</td>\n",
              "      <td>NaN</td>\n",
              "      <td>NaN</td>\n",
              "      <td>1.0</td>\n",
              "      <td>NaN</td>\n",
              "      <td>1.0</td>\n",
              "      <td>17.0</td>\n",
              "      <td>1.0</td>\n",
              "      <td>25.0</td>\n",
              "      <td>1.0</td>\n",
              "    </tr>\n",
              "  </tbody>\n",
              "</table>\n",
              "<p>5 rows × 32 columns</p>\n",
              "</div>\n",
              "      <button class=\"colab-df-convert\" onclick=\"convertToInteractive('df-f84dbe69-5094-4a08-916c-ed77cc049a41')\"\n",
              "              title=\"Convert this dataframe to an interactive table.\"\n",
              "              style=\"display:none;\">\n",
              "        \n",
              "  <svg xmlns=\"http://www.w3.org/2000/svg\" height=\"24px\"viewBox=\"0 0 24 24\"\n",
              "       width=\"24px\">\n",
              "    <path d=\"M0 0h24v24H0V0z\" fill=\"none\"/>\n",
              "    <path d=\"M18.56 5.44l.94 2.06.94-2.06 2.06-.94-2.06-.94-.94-2.06-.94 2.06-2.06.94zm-11 1L8.5 8.5l.94-2.06 2.06-.94-2.06-.94L8.5 2.5l-.94 2.06-2.06.94zm10 10l.94 2.06.94-2.06 2.06-.94-2.06-.94-.94-2.06-.94 2.06-2.06.94z\"/><path d=\"M17.41 7.96l-1.37-1.37c-.4-.4-.92-.59-1.43-.59-.52 0-1.04.2-1.43.59L10.3 9.45l-7.72 7.72c-.78.78-.78 2.05 0 2.83L4 21.41c.39.39.9.59 1.41.59.51 0 1.02-.2 1.41-.59l7.78-7.78 2.81-2.81c.8-.78.8-2.07 0-2.86zM5.41 20L4 18.59l7.72-7.72 1.47 1.35L5.41 20z\"/>\n",
              "  </svg>\n",
              "      </button>\n",
              "      \n",
              "  <style>\n",
              "    .colab-df-container {\n",
              "      display:flex;\n",
              "      flex-wrap:wrap;\n",
              "      gap: 12px;\n",
              "    }\n",
              "\n",
              "    .colab-df-convert {\n",
              "      background-color: #E8F0FE;\n",
              "      border: none;\n",
              "      border-radius: 50%;\n",
              "      cursor: pointer;\n",
              "      display: none;\n",
              "      fill: #1967D2;\n",
              "      height: 32px;\n",
              "      padding: 0 0 0 0;\n",
              "      width: 32px;\n",
              "    }\n",
              "\n",
              "    .colab-df-convert:hover {\n",
              "      background-color: #E2EBFA;\n",
              "      box-shadow: 0px 1px 2px rgba(60, 64, 67, 0.3), 0px 1px 3px 1px rgba(60, 64, 67, 0.15);\n",
              "      fill: #174EA6;\n",
              "    }\n",
              "\n",
              "    [theme=dark] .colab-df-convert {\n",
              "      background-color: #3B4455;\n",
              "      fill: #D2E3FC;\n",
              "    }\n",
              "\n",
              "    [theme=dark] .colab-df-convert:hover {\n",
              "      background-color: #434B5C;\n",
              "      box-shadow: 0px 1px 3px 1px rgba(0, 0, 0, 0.15);\n",
              "      filter: drop-shadow(0px 1px 2px rgba(0, 0, 0, 0.3));\n",
              "      fill: #FFFFFF;\n",
              "    }\n",
              "  </style>\n",
              "\n",
              "      <script>\n",
              "        const buttonEl =\n",
              "          document.querySelector('#df-f84dbe69-5094-4a08-916c-ed77cc049a41 button.colab-df-convert');\n",
              "        buttonEl.style.display =\n",
              "          google.colab.kernel.accessAllowed ? 'block' : 'none';\n",
              "\n",
              "        async function convertToInteractive(key) {\n",
              "          const element = document.querySelector('#df-f84dbe69-5094-4a08-916c-ed77cc049a41');\n",
              "          const dataTable =\n",
              "            await google.colab.kernel.invokeFunction('convertToInteractive',\n",
              "                                                     [key], {});\n",
              "          if (!dataTable) return;\n",
              "\n",
              "          const docLinkHtml = 'Like what you see? Visit the ' +\n",
              "            '<a target=\"_blank\" href=https://colab.research.google.com/notebooks/data_table.ipynb>data table notebook</a>'\n",
              "            + ' to learn more about interactive tables.';\n",
              "          element.innerHTML = '';\n",
              "          dataTable['output_type'] = 'display_data';\n",
              "          await google.colab.output.renderOutput(dataTable, element);\n",
              "          const docLink = document.createElement('div');\n",
              "          docLink.innerHTML = docLinkHtml;\n",
              "          element.appendChild(docLink);\n",
              "        }\n",
              "      </script>\n",
              "    </div>\n",
              "  </div>\n",
              "  "
            ]
          },
          "metadata": {},
          "execution_count": 93
        }
      ]
    },
    {
      "cell_type": "code",
      "source": [
        "missing_col=ds.columns[ds.isnull().any()]"
      ],
      "metadata": {
        "id": "uCjEa0ETeo3M"
      },
      "execution_count": 94,
      "outputs": []
    },
    {
      "cell_type": "code",
      "source": [
        "ds.isnull().sum().sort_values(ascending=False)\n",
        "# there are many missing value in first 12 columns we can drop the columns because it way missing in the process of web scrapping\n",
        "# these columns are not required fro our analysis"
      ],
      "metadata": {
        "colab": {
          "base_uri": "https://localhost:8080/"
        },
        "id": "ysPihbpZbrHB",
        "outputId": "a81d7e0d-694e-4d82-acc3-ba5161d99ccf"
      },
      "execution_count": 95,
      "outputs": [
        {
          "output_type": "execute_result",
          "data": {
            "text/plain": [
              "Jobtick Scientistjobs      3131\n",
              "Employer Email             3044\n",
              "Jobtick Dashboard          2918\n",
              "Jobtick Avgsalary          2893\n",
              "Upper Salary Range         2893\n",
              "Lower Salary Range         2893\n",
              "Employer Contact Number    2853\n",
              "Jobtick Engineerjobs       2661\n",
              "jobtick Python             2616\n",
              "jobtick SQL                2161\n",
              "jobtick Excel              2044\n",
              "Jobtick Analystjobs        2037\n",
              "Total Entry Level Jobs        0\n",
              "Area                          0\n",
              "Salary                        0\n",
              "New Year Exp.                 0\n",
              "Search Term                   0\n",
              "Qualification                 0\n",
              "Career Level                  0\n",
              "Job Type                      0\n",
              "Job Title                     0\n",
              "Job Link                      0\n",
              "Job Highlights                0\n",
              "Job Functions                 0\n",
              "Job Description               0\n",
              "Industry                      0\n",
              "Date Scraped                  0\n",
              "Date Posted                   0\n",
              "Data Source                   0\n",
              "Company Website               0\n",
              "Company                       0\n",
              "Years of Experience           0\n",
              "dtype: int64"
            ]
          },
          "metadata": {},
          "execution_count": 95
        }
      ]
    },
    {
      "cell_type": "code",
      "source": [
        "ds_cle=ds.drop(missing_col,axis=1)"
      ],
      "metadata": {
        "id": "oSRvH5Q3cbRk"
      },
      "execution_count": 96,
      "outputs": []
    },
    {
      "cell_type": "code",
      "source": [
        "ds_cle.isnull().sum()\n",
        "# NOW our data look's GOOD"
      ],
      "metadata": {
        "colab": {
          "base_uri": "https://localhost:8080/"
        },
        "id": "x1R99Mhff1hb",
        "outputId": "8de7fdba-51b6-424d-b94a-bdcf67400799"
      },
      "execution_count": 97,
      "outputs": [
        {
          "output_type": "execute_result",
          "data": {
            "text/plain": [
              "Area                      0\n",
              "Career Level              0\n",
              "Company                   0\n",
              "Company Website           0\n",
              "Data Source               0\n",
              "Date Posted               0\n",
              "Date Scraped              0\n",
              "Industry                  0\n",
              "Job Description           0\n",
              "Job Functions             0\n",
              "Job Highlights            0\n",
              "Job Link                  0\n",
              "Job Title                 0\n",
              "Job Type                  0\n",
              "Qualification             0\n",
              "Salary                    0\n",
              "Search Term               0\n",
              "Total Entry Level Jobs    0\n",
              "New Year Exp.             0\n",
              "Years of Experience       0\n",
              "dtype: int64"
            ]
          },
          "metadata": {},
          "execution_count": 97
        }
      ]
    },
    {
      "cell_type": "code",
      "source": [
        "ds_cle"
      ],
      "metadata": {
        "colab": {
          "base_uri": "https://localhost:8080/",
          "height": 1000
        },
        "id": "loVfo8WKf9Z4",
        "outputId": "932839cc-c269-4b50-a6b1-17b28281befc"
      },
      "execution_count": 98,
      "outputs": [
        {
          "output_type": "execute_result",
          "data": {
            "text/plain": [
              "               Area Career Level                             Company  \\\n",
              "0     Not Specified        Entry                       EC Healthcare   \n",
              "1     Not Specified       Senior                    A4lution Limited   \n",
              "2     Not Specified        Entry                              now TV   \n",
              "3     Not Specified        Entry    Deloitte Global Services Limited   \n",
              "4     Not Specified        Entry  Lloyd Karson International Limited   \n",
              "...             ...          ...                                 ...   \n",
              "3206              -       Senior    Manulife (International) Limited   \n",
              "3207      Admiralty        Entry              PCCW Solutions Limited   \n",
              "3208   Tai Kok Tsui       Middle              PCCW Solutions Limited   \n",
              "3209   Wong Tai Sin       Senior      Top Form International Limited   \n",
              "3210              -        Entry                              BitMEX   \n",
              "\n",
              "              Company Website Data Source Date Posted Date Scraped  \\\n",
              "0               Not Specified      JobsDB  10-22-2021   22-10-2021   \n",
              "1               Not Specified      JobsDB  10-22-2021   22-10-2021   \n",
              "2         http://www.pccw.com      JobsDB  10-22-2021   22-10-2021   \n",
              "3     http://www.deloitte.com      JobsDB  10-21-2021   22-10-2021   \n",
              "4               Not Specified      JobsDB  10-22-2021   22-10-2021   \n",
              "...                       ...         ...         ...          ...   \n",
              "3206            Not Specified  CTGoodJobs  09-28-2021   22-10-2021   \n",
              "3207            Not Specified  CTGoodJobs  09-28-2021   22-10-2021   \n",
              "3208            Not Specified  CTGoodJobs  09-28-2021   22-10-2021   \n",
              "3209            Not Specified  CTGoodJobs  09-28-2021   22-10-2021   \n",
              "3210            Not Specified  CTGoodJobs  09-27-2021   22-10-2021   \n",
              "\n",
              "                                    Industry  \\\n",
              "0                       Health & Beauty Care   \n",
              "1                                     Others   \n",
              "2                          Telecommunication   \n",
              "3              Accounting/Audit/Tax Services   \n",
              "4     Human Resources Management/Consultancy   \n",
              "...                                      ...   \n",
              "3206                           Not Specified   \n",
              "3207                           Not Specified   \n",
              "3208                           Not Specified   \n",
              "3209                           Not Specified   \n",
              "3210                           Not Specified   \n",
              "\n",
              "                                        Job Description  \\\n",
              "0     ['Job Descriptions:', 'Develop strategic KPIs ...   \n",
              "1     ['Responsibilities:', 'Work closely with senio...   \n",
              "2     ['The Job:', 'Hands on experience in conductin...   \n",
              "3     ['About Technology', 'Deloitte Digital is a bo...   \n",
              "4     ['The client is a global prestigious MNC Insur...   \n",
              "...                                                 ...   \n",
              "3206                                      Not Specified   \n",
              "3207                                      Not Specified   \n",
              "3208                                      Not Specified   \n",
              "3209                                      Not Specified   \n",
              "3210                                      Not Specified   \n",
              "\n",
              "                                          Job Functions  \\\n",
              "0     Information Technology (IT), DBA, E-commerce, ...   \n",
              "1           Information Technology (IT), Data Scientist   \n",
              "2     Marketing / Public Relations, Others, Informat...   \n",
              "3     Professional Services, Business Analysis / Dat...   \n",
              "4     Professional Services, Business Analysis / Dat...   \n",
              "...                                                 ...   \n",
              "3206                                      Not Specified   \n",
              "3207                                      Not Specified   \n",
              "3208                                      Not Specified   \n",
              "3209                                      Not Specified   \n",
              "3210                                      Not Specified   \n",
              "\n",
              "                                         Job Highlights  \\\n",
              "0     ['Develop and built segmentation platform', 'C...   \n",
              "1     ['Drive automation of analytical projects', 'I...   \n",
              "2     ['Interpret & analyze data for campaign evalua...   \n",
              "3              ['data scientist', 'digital', 'tableau']   \n",
              "4     ['Experience with Python', 'Good Data Analytic...   \n",
              "...                                                 ...   \n",
              "3206                                      Not Specified   \n",
              "3207                                      Not Specified   \n",
              "3208                                      Not Specified   \n",
              "3209                                      Not Specified   \n",
              "3210                                      Not Specified   \n",
              "\n",
              "                                               Job Link  \\\n",
              "0     /hk/en/job/business-analyst-data-analysis-1000...   \n",
              "1        /hk/en/job/data-analyst-leader-100003008838120   \n",
              "2     /hk/en/job/data-analyst-campaign-specialist-10...   \n",
              "3     /hk/en/job/consultant-senior-consultant-data-s...   \n",
              "4     /hk/en/job/business-intelligence-assistant-dat...   \n",
              "...                                                 ...   \n",
              "3206  https://www.ctgoodjobs.hk/job/senior-applicati...   \n",
              "3207  https://www.ctgoodjobs.hk/job/solution-develop...   \n",
              "3208  https://www.ctgoodjobs.hk/job/senior-solution-...   \n",
              "3209  https://www.ctgoodjobs.hk/job/it-project-manag...   \n",
              "3210  https://www.ctgoodjobs.hk/job/project-manageme...   \n",
              "\n",
              "                                              Job Title              Job Type  \\\n",
              "0                      Business Analyst (Data Analysis)  Full Time, Permanent   \n",
              "1                                   Data Analyst Leader             Full Time   \n",
              "2                    Data Analyst – Campaign Specialist             Full Time   \n",
              "3     Consultant / Senior Consultant - Data Scientis...             Full Time   \n",
              "4     Business Intelligence Assistant / Data Analyst...  Full Time, Permanent   \n",
              "...                                                 ...                   ...   \n",
              "3206            Senior Application Reliability Engineer         Not Specified   \n",
              "3207                              Application Developer         Not Specified   \n",
              "3208  Senior Solution Analyst - Application developm...         Not Specified   \n",
              "3209                                 IT Project Manager         Not Specified   \n",
              "3210                         Project Management Officer         Not Specified   \n",
              "\n",
              "      Qualification                Salary            Search Term  \\\n",
              "0     Not Specified         Not Specified         Data Scientist   \n",
              "1            Degree         Not Specified         Data Scientist   \n",
              "2            Degree         Not Specified         Data Scientist   \n",
              "3            Degree         Not Specified         Data Scientist   \n",
              "4            Degree  HK$17K - 25K /month          Data Scientist   \n",
              "...             ...                   ...                    ...   \n",
              "3206  Not Specified         Not Specified  Business Intelligence   \n",
              "3207  Not Specified         Not Specified  Business Intelligence   \n",
              "3208  Not Specified         Not Specified  Business Intelligence   \n",
              "3209  Not Specified         Not Specified  Business Intelligence   \n",
              "3210  Not Specified         Not Specified  Business Intelligence   \n",
              "\n",
              "     Total Entry Level Jobs  New Year Exp.  Years of Experience  \n",
              "0               ENTRY LEVEL            1.0                 -1.0  \n",
              "1                 MID LEVEL            3.0                 31.0  \n",
              "2               ENTRY LEVEL            1.0                  1.0  \n",
              "3               ENTRY LEVEL            2.0                  2.0  \n",
              "4               ENTRY LEVEL            1.0                  1.0  \n",
              "...                     ...            ...                  ...  \n",
              "3206           SENIOR LEVEL            7.5                  7.5  \n",
              "3207            ENTRY LEVEL            1.5                  1.5  \n",
              "3208           SENIOR LEVEL            6.0                  6.0  \n",
              "3209              MID LEVEL            5.0                  5.0  \n",
              "3210           SENIOR LEVEL            2.5                  2.5  \n",
              "\n",
              "[3211 rows x 20 columns]"
            ],
            "text/html": [
              "\n",
              "  <div id=\"df-075196a7-baa9-4f60-88e9-700f9b5d38ab\">\n",
              "    <div class=\"colab-df-container\">\n",
              "      <div>\n",
              "<style scoped>\n",
              "    .dataframe tbody tr th:only-of-type {\n",
              "        vertical-align: middle;\n",
              "    }\n",
              "\n",
              "    .dataframe tbody tr th {\n",
              "        vertical-align: top;\n",
              "    }\n",
              "\n",
              "    .dataframe thead th {\n",
              "        text-align: right;\n",
              "    }\n",
              "</style>\n",
              "<table border=\"1\" class=\"dataframe\">\n",
              "  <thead>\n",
              "    <tr style=\"text-align: right;\">\n",
              "      <th></th>\n",
              "      <th>Area</th>\n",
              "      <th>Career Level</th>\n",
              "      <th>Company</th>\n",
              "      <th>Company Website</th>\n",
              "      <th>Data Source</th>\n",
              "      <th>Date Posted</th>\n",
              "      <th>Date Scraped</th>\n",
              "      <th>Industry</th>\n",
              "      <th>Job Description</th>\n",
              "      <th>Job Functions</th>\n",
              "      <th>Job Highlights</th>\n",
              "      <th>Job Link</th>\n",
              "      <th>Job Title</th>\n",
              "      <th>Job Type</th>\n",
              "      <th>Qualification</th>\n",
              "      <th>Salary</th>\n",
              "      <th>Search Term</th>\n",
              "      <th>Total Entry Level Jobs</th>\n",
              "      <th>New Year Exp.</th>\n",
              "      <th>Years of Experience</th>\n",
              "    </tr>\n",
              "  </thead>\n",
              "  <tbody>\n",
              "    <tr>\n",
              "      <th>0</th>\n",
              "      <td>Not Specified</td>\n",
              "      <td>Entry</td>\n",
              "      <td>EC Healthcare</td>\n",
              "      <td>Not Specified</td>\n",
              "      <td>JobsDB</td>\n",
              "      <td>10-22-2021</td>\n",
              "      <td>22-10-2021</td>\n",
              "      <td>Health &amp; Beauty Care</td>\n",
              "      <td>['Job Descriptions:', 'Develop strategic KPIs ...</td>\n",
              "      <td>Information Technology (IT), DBA, E-commerce, ...</td>\n",
              "      <td>['Develop and built segmentation platform', 'C...</td>\n",
              "      <td>/hk/en/job/business-analyst-data-analysis-1000...</td>\n",
              "      <td>Business Analyst (Data Analysis)</td>\n",
              "      <td>Full Time, Permanent</td>\n",
              "      <td>Not Specified</td>\n",
              "      <td>Not Specified</td>\n",
              "      <td>Data Scientist</td>\n",
              "      <td>ENTRY LEVEL</td>\n",
              "      <td>1.0</td>\n",
              "      <td>-1.0</td>\n",
              "    </tr>\n",
              "    <tr>\n",
              "      <th>1</th>\n",
              "      <td>Not Specified</td>\n",
              "      <td>Senior</td>\n",
              "      <td>A4lution Limited</td>\n",
              "      <td>Not Specified</td>\n",
              "      <td>JobsDB</td>\n",
              "      <td>10-22-2021</td>\n",
              "      <td>22-10-2021</td>\n",
              "      <td>Others</td>\n",
              "      <td>['Responsibilities:', 'Work closely with senio...</td>\n",
              "      <td>Information Technology (IT), Data Scientist</td>\n",
              "      <td>['Drive automation of analytical projects', 'I...</td>\n",
              "      <td>/hk/en/job/data-analyst-leader-100003008838120</td>\n",
              "      <td>Data Analyst Leader</td>\n",
              "      <td>Full Time</td>\n",
              "      <td>Degree</td>\n",
              "      <td>Not Specified</td>\n",
              "      <td>Data Scientist</td>\n",
              "      <td>MID LEVEL</td>\n",
              "      <td>3.0</td>\n",
              "      <td>31.0</td>\n",
              "    </tr>\n",
              "    <tr>\n",
              "      <th>2</th>\n",
              "      <td>Not Specified</td>\n",
              "      <td>Entry</td>\n",
              "      <td>now TV</td>\n",
              "      <td>http://www.pccw.com</td>\n",
              "      <td>JobsDB</td>\n",
              "      <td>10-22-2021</td>\n",
              "      <td>22-10-2021</td>\n",
              "      <td>Telecommunication</td>\n",
              "      <td>['The Job:', 'Hands on experience in conductin...</td>\n",
              "      <td>Marketing / Public Relations, Others, Informat...</td>\n",
              "      <td>['Interpret &amp; analyze data for campaign evalua...</td>\n",
              "      <td>/hk/en/job/data-analyst-campaign-specialist-10...</td>\n",
              "      <td>Data Analyst – Campaign Specialist</td>\n",
              "      <td>Full Time</td>\n",
              "      <td>Degree</td>\n",
              "      <td>Not Specified</td>\n",
              "      <td>Data Scientist</td>\n",
              "      <td>ENTRY LEVEL</td>\n",
              "      <td>1.0</td>\n",
              "      <td>1.0</td>\n",
              "    </tr>\n",
              "    <tr>\n",
              "      <th>3</th>\n",
              "      <td>Not Specified</td>\n",
              "      <td>Entry</td>\n",
              "      <td>Deloitte Global Services Limited</td>\n",
              "      <td>http://www.deloitte.com</td>\n",
              "      <td>JobsDB</td>\n",
              "      <td>10-21-2021</td>\n",
              "      <td>22-10-2021</td>\n",
              "      <td>Accounting/Audit/Tax Services</td>\n",
              "      <td>['About Technology', 'Deloitte Digital is a bo...</td>\n",
              "      <td>Professional Services, Business Analysis / Dat...</td>\n",
              "      <td>['data scientist', 'digital', 'tableau']</td>\n",
              "      <td>/hk/en/job/consultant-senior-consultant-data-s...</td>\n",
              "      <td>Consultant / Senior Consultant - Data Scientis...</td>\n",
              "      <td>Full Time</td>\n",
              "      <td>Degree</td>\n",
              "      <td>Not Specified</td>\n",
              "      <td>Data Scientist</td>\n",
              "      <td>ENTRY LEVEL</td>\n",
              "      <td>2.0</td>\n",
              "      <td>2.0</td>\n",
              "    </tr>\n",
              "    <tr>\n",
              "      <th>4</th>\n",
              "      <td>Not Specified</td>\n",
              "      <td>Entry</td>\n",
              "      <td>Lloyd Karson International Limited</td>\n",
              "      <td>Not Specified</td>\n",
              "      <td>JobsDB</td>\n",
              "      <td>10-22-2021</td>\n",
              "      <td>22-10-2021</td>\n",
              "      <td>Human Resources Management/Consultancy</td>\n",
              "      <td>['The client is a global prestigious MNC Insur...</td>\n",
              "      <td>Professional Services, Business Analysis / Dat...</td>\n",
              "      <td>['Experience with Python', 'Good Data Analytic...</td>\n",
              "      <td>/hk/en/job/business-intelligence-assistant-dat...</td>\n",
              "      <td>Business Intelligence Assistant / Data Analyst...</td>\n",
              "      <td>Full Time, Permanent</td>\n",
              "      <td>Degree</td>\n",
              "      <td>HK$17K - 25K /month</td>\n",
              "      <td>Data Scientist</td>\n",
              "      <td>ENTRY LEVEL</td>\n",
              "      <td>1.0</td>\n",
              "      <td>1.0</td>\n",
              "    </tr>\n",
              "    <tr>\n",
              "      <th>...</th>\n",
              "      <td>...</td>\n",
              "      <td>...</td>\n",
              "      <td>...</td>\n",
              "      <td>...</td>\n",
              "      <td>...</td>\n",
              "      <td>...</td>\n",
              "      <td>...</td>\n",
              "      <td>...</td>\n",
              "      <td>...</td>\n",
              "      <td>...</td>\n",
              "      <td>...</td>\n",
              "      <td>...</td>\n",
              "      <td>...</td>\n",
              "      <td>...</td>\n",
              "      <td>...</td>\n",
              "      <td>...</td>\n",
              "      <td>...</td>\n",
              "      <td>...</td>\n",
              "      <td>...</td>\n",
              "      <td>...</td>\n",
              "    </tr>\n",
              "    <tr>\n",
              "      <th>3206</th>\n",
              "      <td>-</td>\n",
              "      <td>Senior</td>\n",
              "      <td>Manulife (International) Limited</td>\n",
              "      <td>Not Specified</td>\n",
              "      <td>CTGoodJobs</td>\n",
              "      <td>09-28-2021</td>\n",
              "      <td>22-10-2021</td>\n",
              "      <td>Not Specified</td>\n",
              "      <td>Not Specified</td>\n",
              "      <td>Not Specified</td>\n",
              "      <td>Not Specified</td>\n",
              "      <td>https://www.ctgoodjobs.hk/job/senior-applicati...</td>\n",
              "      <td>Senior Application Reliability Engineer</td>\n",
              "      <td>Not Specified</td>\n",
              "      <td>Not Specified</td>\n",
              "      <td>Not Specified</td>\n",
              "      <td>Business Intelligence</td>\n",
              "      <td>SENIOR LEVEL</td>\n",
              "      <td>7.5</td>\n",
              "      <td>7.5</td>\n",
              "    </tr>\n",
              "    <tr>\n",
              "      <th>3207</th>\n",
              "      <td>Admiralty</td>\n",
              "      <td>Entry</td>\n",
              "      <td>PCCW Solutions Limited</td>\n",
              "      <td>Not Specified</td>\n",
              "      <td>CTGoodJobs</td>\n",
              "      <td>09-28-2021</td>\n",
              "      <td>22-10-2021</td>\n",
              "      <td>Not Specified</td>\n",
              "      <td>Not Specified</td>\n",
              "      <td>Not Specified</td>\n",
              "      <td>Not Specified</td>\n",
              "      <td>https://www.ctgoodjobs.hk/job/solution-develop...</td>\n",
              "      <td>Application Developer</td>\n",
              "      <td>Not Specified</td>\n",
              "      <td>Not Specified</td>\n",
              "      <td>Not Specified</td>\n",
              "      <td>Business Intelligence</td>\n",
              "      <td>ENTRY LEVEL</td>\n",
              "      <td>1.5</td>\n",
              "      <td>1.5</td>\n",
              "    </tr>\n",
              "    <tr>\n",
              "      <th>3208</th>\n",
              "      <td>Tai Kok Tsui</td>\n",
              "      <td>Middle</td>\n",
              "      <td>PCCW Solutions Limited</td>\n",
              "      <td>Not Specified</td>\n",
              "      <td>CTGoodJobs</td>\n",
              "      <td>09-28-2021</td>\n",
              "      <td>22-10-2021</td>\n",
              "      <td>Not Specified</td>\n",
              "      <td>Not Specified</td>\n",
              "      <td>Not Specified</td>\n",
              "      <td>Not Specified</td>\n",
              "      <td>https://www.ctgoodjobs.hk/job/senior-solution-...</td>\n",
              "      <td>Senior Solution Analyst - Application developm...</td>\n",
              "      <td>Not Specified</td>\n",
              "      <td>Not Specified</td>\n",
              "      <td>Not Specified</td>\n",
              "      <td>Business Intelligence</td>\n",
              "      <td>SENIOR LEVEL</td>\n",
              "      <td>6.0</td>\n",
              "      <td>6.0</td>\n",
              "    </tr>\n",
              "    <tr>\n",
              "      <th>3209</th>\n",
              "      <td>Wong Tai Sin</td>\n",
              "      <td>Senior</td>\n",
              "      <td>Top Form International Limited</td>\n",
              "      <td>Not Specified</td>\n",
              "      <td>CTGoodJobs</td>\n",
              "      <td>09-28-2021</td>\n",
              "      <td>22-10-2021</td>\n",
              "      <td>Not Specified</td>\n",
              "      <td>Not Specified</td>\n",
              "      <td>Not Specified</td>\n",
              "      <td>Not Specified</td>\n",
              "      <td>https://www.ctgoodjobs.hk/job/it-project-manag...</td>\n",
              "      <td>IT Project Manager</td>\n",
              "      <td>Not Specified</td>\n",
              "      <td>Not Specified</td>\n",
              "      <td>Not Specified</td>\n",
              "      <td>Business Intelligence</td>\n",
              "      <td>MID LEVEL</td>\n",
              "      <td>5.0</td>\n",
              "      <td>5.0</td>\n",
              "    </tr>\n",
              "    <tr>\n",
              "      <th>3210</th>\n",
              "      <td>-</td>\n",
              "      <td>Entry</td>\n",
              "      <td>BitMEX</td>\n",
              "      <td>Not Specified</td>\n",
              "      <td>CTGoodJobs</td>\n",
              "      <td>09-27-2021</td>\n",
              "      <td>22-10-2021</td>\n",
              "      <td>Not Specified</td>\n",
              "      <td>Not Specified</td>\n",
              "      <td>Not Specified</td>\n",
              "      <td>Not Specified</td>\n",
              "      <td>https://www.ctgoodjobs.hk/job/project-manageme...</td>\n",
              "      <td>Project Management Officer</td>\n",
              "      <td>Not Specified</td>\n",
              "      <td>Not Specified</td>\n",
              "      <td>Not Specified</td>\n",
              "      <td>Business Intelligence</td>\n",
              "      <td>SENIOR LEVEL</td>\n",
              "      <td>2.5</td>\n",
              "      <td>2.5</td>\n",
              "    </tr>\n",
              "  </tbody>\n",
              "</table>\n",
              "<p>3211 rows × 20 columns</p>\n",
              "</div>\n",
              "      <button class=\"colab-df-convert\" onclick=\"convertToInteractive('df-075196a7-baa9-4f60-88e9-700f9b5d38ab')\"\n",
              "              title=\"Convert this dataframe to an interactive table.\"\n",
              "              style=\"display:none;\">\n",
              "        \n",
              "  <svg xmlns=\"http://www.w3.org/2000/svg\" height=\"24px\"viewBox=\"0 0 24 24\"\n",
              "       width=\"24px\">\n",
              "    <path d=\"M0 0h24v24H0V0z\" fill=\"none\"/>\n",
              "    <path d=\"M18.56 5.44l.94 2.06.94-2.06 2.06-.94-2.06-.94-.94-2.06-.94 2.06-2.06.94zm-11 1L8.5 8.5l.94-2.06 2.06-.94-2.06-.94L8.5 2.5l-.94 2.06-2.06.94zm10 10l.94 2.06.94-2.06 2.06-.94-2.06-.94-.94-2.06-.94 2.06-2.06.94z\"/><path d=\"M17.41 7.96l-1.37-1.37c-.4-.4-.92-.59-1.43-.59-.52 0-1.04.2-1.43.59L10.3 9.45l-7.72 7.72c-.78.78-.78 2.05 0 2.83L4 21.41c.39.39.9.59 1.41.59.51 0 1.02-.2 1.41-.59l7.78-7.78 2.81-2.81c.8-.78.8-2.07 0-2.86zM5.41 20L4 18.59l7.72-7.72 1.47 1.35L5.41 20z\"/>\n",
              "  </svg>\n",
              "      </button>\n",
              "      \n",
              "  <style>\n",
              "    .colab-df-container {\n",
              "      display:flex;\n",
              "      flex-wrap:wrap;\n",
              "      gap: 12px;\n",
              "    }\n",
              "\n",
              "    .colab-df-convert {\n",
              "      background-color: #E8F0FE;\n",
              "      border: none;\n",
              "      border-radius: 50%;\n",
              "      cursor: pointer;\n",
              "      display: none;\n",
              "      fill: #1967D2;\n",
              "      height: 32px;\n",
              "      padding: 0 0 0 0;\n",
              "      width: 32px;\n",
              "    }\n",
              "\n",
              "    .colab-df-convert:hover {\n",
              "      background-color: #E2EBFA;\n",
              "      box-shadow: 0px 1px 2px rgba(60, 64, 67, 0.3), 0px 1px 3px 1px rgba(60, 64, 67, 0.15);\n",
              "      fill: #174EA6;\n",
              "    }\n",
              "\n",
              "    [theme=dark] .colab-df-convert {\n",
              "      background-color: #3B4455;\n",
              "      fill: #D2E3FC;\n",
              "    }\n",
              "\n",
              "    [theme=dark] .colab-df-convert:hover {\n",
              "      background-color: #434B5C;\n",
              "      box-shadow: 0px 1px 3px 1px rgba(0, 0, 0, 0.15);\n",
              "      filter: drop-shadow(0px 1px 2px rgba(0, 0, 0, 0.3));\n",
              "      fill: #FFFFFF;\n",
              "    }\n",
              "  </style>\n",
              "\n",
              "      <script>\n",
              "        const buttonEl =\n",
              "          document.querySelector('#df-075196a7-baa9-4f60-88e9-700f9b5d38ab button.colab-df-convert');\n",
              "        buttonEl.style.display =\n",
              "          google.colab.kernel.accessAllowed ? 'block' : 'none';\n",
              "\n",
              "        async function convertToInteractive(key) {\n",
              "          const element = document.querySelector('#df-075196a7-baa9-4f60-88e9-700f9b5d38ab');\n",
              "          const dataTable =\n",
              "            await google.colab.kernel.invokeFunction('convertToInteractive',\n",
              "                                                     [key], {});\n",
              "          if (!dataTable) return;\n",
              "\n",
              "          const docLinkHtml = 'Like what you see? Visit the ' +\n",
              "            '<a target=\"_blank\" href=https://colab.research.google.com/notebooks/data_table.ipynb>data table notebook</a>'\n",
              "            + ' to learn more about interactive tables.';\n",
              "          element.innerHTML = '';\n",
              "          dataTable['output_type'] = 'display_data';\n",
              "          await google.colab.output.renderOutput(dataTable, element);\n",
              "          const docLink = document.createElement('div');\n",
              "          docLink.innerHTML = docLinkHtml;\n",
              "          element.appendChild(docLink);\n",
              "        }\n",
              "      </script>\n",
              "    </div>\n",
              "  </div>\n",
              "  "
            ]
          },
          "metadata": {},
          "execution_count": 98
        }
      ]
    },
    {
      "cell_type": "markdown",
      "source": [
        ""
      ],
      "metadata": {
        "id": "Rhg6XQ1ahutp"
      }
    },
    {
      "cell_type": "markdown",
      "source": [
        "#  Starting Univariate Analysis "
      ],
      "metadata": {
        "id": "cCZehiSNhaAi"
      }
    },
    {
      "cell_type": "code",
      "source": [
        "# Years of Experience\n",
        "ds_cle['Years of Experience'].value_counts()"
      ],
      "metadata": {
        "colab": {
          "base_uri": "https://localhost:8080/"
        },
        "id": "E1mNNGllhZZI",
        "outputId": "e20fe510-a022-4f4d-cd48-7b85ec09c443"
      },
      "execution_count": 99,
      "outputs": [
        {
          "output_type": "execute_result",
          "data": {
            "text/plain": [
              "-1.0     1073\n",
              " 3.0      470\n",
              " 2.0      445\n",
              " 5.0      380\n",
              " 1.0      323\n",
              " 4.0      124\n",
              " 8.0      109\n",
              " 6.0       97\n",
              " 10.0      79\n",
              " 7.0       41\n",
              " 12.0      13\n",
              " 7.5       12\n",
              " 15.0       8\n",
              " 4.5        5\n",
              " 9.0        4\n",
              " 1.5        4\n",
              " 10.5       4\n",
              " 2.5        3\n",
              " 5.5        3\n",
              " 13.0       3\n",
              " 6.5        3\n",
              " 8.5        2\n",
              " 3.5        2\n",
              " 31.0       1\n",
              " 0.5        1\n",
              " 0.0        1\n",
              " 9.5        1\n",
              "Name: Years of Experience, dtype: int64"
            ]
          },
          "metadata": {},
          "execution_count": 99
        }
      ]
    },
    {
      "cell_type": "markdown",
      "source": [
        "The Experience table was having a value -1 which was suppose to be 1 so changed the value -1 to 1 using Replace \n",
        "Value option."
      ],
      "metadata": {
        "id": "0L0xScXkiLRB"
      }
    },
    {
      "cell_type": "code",
      "source": [
        "# REPLACING VALUES IN EXPERIENCE COLUMN\n",
        "ds_cle['Years of Experience'].replace(-1,1,inplace=True)"
      ],
      "metadata": {
        "id": "piyTgMV2hUp9"
      },
      "execution_count": 100,
      "outputs": []
    },
    {
      "cell_type": "markdown",
      "source": [
        "# REPLACING VALUE IN QUALIFICATION COLUMN "
      ],
      "metadata": {
        "id": "l4w9gBV1iacR"
      }
    },
    {
      "cell_type": "code",
      "source": [
        "ds_cle['Qualification'].value_counts()"
      ],
      "metadata": {
        "colab": {
          "base_uri": "https://localhost:8080/"
        },
        "id": "ylp9lnktiS7d",
        "outputId": "6456dde5-2cd5-4f67-d47e-bf5f674d431e"
      },
      "execution_count": 101,
      "outputs": [
        {
          "output_type": "execute_result",
          "data": {
            "text/plain": [
              "Degree                 1984\n",
              "Not Specified           679\n",
              "Non-Degree Tertiary     441\n",
              "Matriculated             32\n",
              "Postgraduate             30\n",
              "School Certificate       23\n",
              "(N/A)                    20\n",
              ":                         1\n",
              "Primary                   1\n",
              "Name: Qualification, dtype: int64"
            ]
          },
          "metadata": {},
          "execution_count": 101
        }
      ]
    },
    {
      "cell_type": "markdown",
      "source": [
        "The Qualification column has two qualification name Non-Degree Tertiary and Non Degree Tertiary so we can \n",
        "replace Non Degree Tertiary with Non-Degree Tertiary as they represent same qualification"
      ],
      "metadata": {
        "id": "rtdAObbNireK"
      }
    },
    {
      "cell_type": "code",
      "source": [
        "ds_cle['Qualification'].replace('Non-Degree Tertiary','Non_Degree Tertiary')"
      ],
      "metadata": {
        "colab": {
          "base_uri": "https://localhost:8080/"
        },
        "id": "2XdeIKr4ihcq",
        "outputId": "2947140d-2418-4201-a262-f16ccd50c2c8"
      },
      "execution_count": 102,
      "outputs": [
        {
          "output_type": "execute_result",
          "data": {
            "text/plain": [
              "0       Not Specified\n",
              "1              Degree\n",
              "2              Degree\n",
              "3              Degree\n",
              "4              Degree\n",
              "            ...      \n",
              "3206    Not Specified\n",
              "3207    Not Specified\n",
              "3208    Not Specified\n",
              "3209    Not Specified\n",
              "3210    Not Specified\n",
              "Name: Qualification, Length: 3211, dtype: object"
            ]
          },
          "metadata": {},
          "execution_count": 102
        }
      ]
    },
    {
      "cell_type": "code",
      "source": [
        "ds_cle['Date Scraped'].value_counts()"
      ],
      "metadata": {
        "colab": {
          "base_uri": "https://localhost:8080/"
        },
        "id": "XqmNI10WiycZ",
        "outputId": "75808246-e1fe-425e-a864-9b2f805bddac"
      },
      "execution_count": 103,
      "outputs": [
        {
          "output_type": "execute_result",
          "data": {
            "text/plain": [
              "22-10-2021    3211\n",
              "Name: Date Scraped, dtype: int64"
            ]
          },
          "metadata": {},
          "execution_count": 103
        }
      ]
    },
    {
      "cell_type": "markdown",
      "source": [
        "We don't need this columns this column contanin when the data is scapped so we can drop the columns"
      ],
      "metadata": {
        "id": "fI_jLRHKjF7W"
      }
    },
    {
      "cell_type": "code",
      "source": [
        "ds_cle.drop('Date Scraped',axis=1,inplace=True)"
      ],
      "metadata": {
        "id": "YiKzklZsjFac"
      },
      "execution_count": 104,
      "outputs": []
    },
    {
      "cell_type": "markdown",
      "source": [
        "# changinr the data type of ds_cle['Date Posted'] column \"Object\" TO \"datetime\""
      ],
      "metadata": {
        "id": "3TD_k9OSkhrk"
      }
    },
    {
      "cell_type": "code",
      "source": [
        "# Date Posted\n",
        "ds_cle['Date Posted']=pd.to_datetime(ds_cle['Date Posted'])"
      ],
      "metadata": {
        "id": "qnmr7RHXjBLC"
      },
      "execution_count": 105,
      "outputs": []
    },
    {
      "cell_type": "code",
      "source": [
        "ds_cle['Date Posted']"
      ],
      "metadata": {
        "colab": {
          "base_uri": "https://localhost:8080/"
        },
        "id": "swk2ZtMVjqXj",
        "outputId": "ff989033-c4c7-4710-dd98-4f9937e7f417"
      },
      "execution_count": 106,
      "outputs": [
        {
          "output_type": "execute_result",
          "data": {
            "text/plain": [
              "0      2021-10-22\n",
              "1      2021-10-22\n",
              "2      2021-10-22\n",
              "3      2021-10-21\n",
              "4      2021-10-22\n",
              "          ...    \n",
              "3206   2021-09-28\n",
              "3207   2021-09-28\n",
              "3208   2021-09-28\n",
              "3209   2021-09-28\n",
              "3210   2021-09-27\n",
              "Name: Date Posted, Length: 3211, dtype: datetime64[ns]"
            ]
          },
          "metadata": {},
          "execution_count": 106
        }
      ]
    },
    {
      "cell_type": "code",
      "source": [
        "ds_cle.dtypes"
      ],
      "metadata": {
        "colab": {
          "base_uri": "https://localhost:8080/"
        },
        "id": "5bdICZORkbXN",
        "outputId": "efad88c4-6ce1-43d9-9428-b077ca896a82"
      },
      "execution_count": 107,
      "outputs": [
        {
          "output_type": "execute_result",
          "data": {
            "text/plain": [
              "Area                              object\n",
              "Career Level                      object\n",
              "Company                           object\n",
              "Company Website                   object\n",
              "Data Source                       object\n",
              "Date Posted               datetime64[ns]\n",
              "Industry                          object\n",
              "Job Description                   object\n",
              "Job Functions                     object\n",
              "Job Highlights                    object\n",
              "Job Link                          object\n",
              "Job Title                         object\n",
              "Job Type                          object\n",
              "Qualification                     object\n",
              "Salary                            object\n",
              "Search Term                       object\n",
              "Total Entry Level Jobs            object\n",
              "New Year Exp.                    float64\n",
              "Years of Experience              float64\n",
              "dtype: object"
            ]
          },
          "metadata": {},
          "execution_count": 107
        }
      ]
    },
    {
      "cell_type": "code",
      "source": [
        "# Career Level                      \n",
        "ds_cle['Career Level']=ds_cle['Career Level'].astype('category')"
      ],
      "metadata": {
        "id": "RcjraIqakwRU"
      },
      "execution_count": 108,
      "outputs": []
    },
    {
      "cell_type": "code",
      "source": [
        "# Job Type                          \n",
        "ds_cle['Job Type']=ds_cle['Job Type'].astype('category')"
      ],
      "metadata": {
        "id": "u8YHke_Gk-xZ"
      },
      "execution_count": 109,
      "outputs": []
    },
    {
      "cell_type": "code",
      "source": [
        "# Qualification\n",
        "ds_cle['Qualification']=ds_cle['Qualification'].astype('category')"
      ],
      "metadata": {
        "id": "aUFMk_XLlZNS"
      },
      "execution_count": 110,
      "outputs": []
    },
    {
      "cell_type": "code",
      "source": [
        "# Area \n",
        "ds_cle['Area']=ds_cle['Area'].astype('category')                             "
      ],
      "metadata": {
        "id": "3Ke9mqUdl8rj"
      },
      "execution_count": 111,
      "outputs": []
    },
    {
      "cell_type": "code",
      "source": [
        "ds_cle.dtypes"
      ],
      "metadata": {
        "colab": {
          "base_uri": "https://localhost:8080/"
        },
        "id": "cwoMWRF1lk3J",
        "outputId": "fdd32ca9-a2f5-41a7-aa6a-6a2f74136fde"
      },
      "execution_count": 112,
      "outputs": [
        {
          "output_type": "execute_result",
          "data": {
            "text/plain": [
              "Area                            category\n",
              "Career Level                    category\n",
              "Company                           object\n",
              "Company Website                   object\n",
              "Data Source                       object\n",
              "Date Posted               datetime64[ns]\n",
              "Industry                          object\n",
              "Job Description                   object\n",
              "Job Functions                     object\n",
              "Job Highlights                    object\n",
              "Job Link                          object\n",
              "Job Title                         object\n",
              "Job Type                        category\n",
              "Qualification                   category\n",
              "Salary                            object\n",
              "Search Term                       object\n",
              "Total Entry Level Jobs            object\n",
              "New Year Exp.                    float64\n",
              "Years of Experience              float64\n",
              "dtype: object"
            ]
          },
          "metadata": {},
          "execution_count": 112
        }
      ]
    },
    {
      "cell_type": "markdown",
      "source": [
        "# Now the data is cleaned and the datatype of the data is changed correctly\n",
        "START WORKING WITH DATE COLUMNS"
      ],
      "metadata": {
        "id": "8LWEax7Als6T"
      }
    },
    {
      "cell_type": "code",
      "source": [
        "# Creating New column for year\n",
        "ds_cle['Year']=pd.DatetimeIndex(ds_cle['Date Posted']).year"
      ],
      "metadata": {
        "id": "NSnXw-Uklsmd"
      },
      "execution_count": 113,
      "outputs": []
    },
    {
      "cell_type": "code",
      "source": [
        "ds_cle['Year']"
      ],
      "metadata": {
        "colab": {
          "base_uri": "https://localhost:8080/"
        },
        "id": "s1k8JaQ4loRX",
        "outputId": "611edd87-d0bb-46f7-fe61-163b4c86d41c"
      },
      "execution_count": 114,
      "outputs": [
        {
          "output_type": "execute_result",
          "data": {
            "text/plain": [
              "0       2021\n",
              "1       2021\n",
              "2       2021\n",
              "3       2021\n",
              "4       2021\n",
              "        ... \n",
              "3206    2021\n",
              "3207    2021\n",
              "3208    2021\n",
              "3209    2021\n",
              "3210    2021\n",
              "Name: Year, Length: 3211, dtype: int64"
            ]
          },
          "metadata": {},
          "execution_count": 114
        }
      ]
    },
    {
      "cell_type": "code",
      "source": [
        "# Creating new column for month\n",
        "ds_cle['month']=pd.DatetimeIndex(ds_cle['Date Posted']).month\n",
        "ds_cle['month']"
      ],
      "metadata": {
        "colab": {
          "base_uri": "https://localhost:8080/"
        },
        "id": "NP-o__fnm3Rg",
        "outputId": "a07bd615-dbec-4d9a-e409-82b2f16521e3"
      },
      "execution_count": 115,
      "outputs": [
        {
          "output_type": "execute_result",
          "data": {
            "text/plain": [
              "0       10\n",
              "1       10\n",
              "2       10\n",
              "3       10\n",
              "4       10\n",
              "        ..\n",
              "3206     9\n",
              "3207     9\n",
              "3208     9\n",
              "3209     9\n",
              "3210     9\n",
              "Name: month, Length: 3211, dtype: int64"
            ]
          },
          "metadata": {},
          "execution_count": 115
        }
      ]
    },
    {
      "cell_type": "code",
      "source": [
        "ds_cle.info()"
      ],
      "metadata": {
        "colab": {
          "base_uri": "https://localhost:8080/"
        },
        "id": "n1DPCXh7oNQ_",
        "outputId": "17c52b70-2fd1-4c82-a61c-f5ab690ce552"
      },
      "execution_count": 116,
      "outputs": [
        {
          "output_type": "stream",
          "name": "stdout",
          "text": [
            "<class 'pandas.core.frame.DataFrame'>\n",
            "RangeIndex: 3211 entries, 0 to 3210\n",
            "Data columns (total 21 columns):\n",
            " #   Column                  Non-Null Count  Dtype         \n",
            "---  ------                  --------------  -----         \n",
            " 0   Area                    3211 non-null   category      \n",
            " 1   Career Level            3211 non-null   category      \n",
            " 2   Company                 3211 non-null   object        \n",
            " 3   Company Website         3211 non-null   object        \n",
            " 4   Data Source             3211 non-null   object        \n",
            " 5   Date Posted             3211 non-null   datetime64[ns]\n",
            " 6   Industry                3211 non-null   object        \n",
            " 7   Job Description         3211 non-null   object        \n",
            " 8   Job Functions           3211 non-null   object        \n",
            " 9   Job Highlights          3211 non-null   object        \n",
            " 10  Job Link                3211 non-null   object        \n",
            " 11  Job Title               3211 non-null   object        \n",
            " 12  Job Type                3211 non-null   category      \n",
            " 13  Qualification           3211 non-null   category      \n",
            " 14  Salary                  3211 non-null   object        \n",
            " 15  Search Term             3211 non-null   object        \n",
            " 16  Total Entry Level Jobs  3211 non-null   object        \n",
            " 17  New Year Exp.           3211 non-null   float64       \n",
            " 18  Years of Experience     3211 non-null   float64       \n",
            " 19  Year                    3211 non-null   int64         \n",
            " 20  month                   3211 non-null   int64         \n",
            "dtypes: category(4), datetime64[ns](1), float64(2), int64(2), object(12)\n",
            "memory usage: 442.3+ KB\n"
          ]
        }
      ]
    },
    {
      "cell_type": "code",
      "source": [
        "ds_cle.to_csv(\"DS_CLEAN.csv\")"
      ],
      "metadata": {
        "id": "JAtVxq1JoUTO"
      },
      "execution_count": 117,
      "outputs": []
    },
    {
      "cell_type": "markdown",
      "source": [
        "# The Data is clenaed\n",
        "# The data-type of the Dataset is Corrected\n",
        "# New column added for time series analysis\n",
        "# The Data Is exported as \"DS_CLEAN.csv\"\n"
      ],
      "metadata": {
        "id": "Y-SKyxp5pcv7"
      }
    }
  ]
}